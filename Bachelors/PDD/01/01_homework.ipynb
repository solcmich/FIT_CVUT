{
 "cells": [
  {
   "cell_type": "markdown",
   "metadata": {},
   "source": [
    "# Homework 1 - data validation & cleaning (deadline 31. 10. 2020)\n",
    "\n",
    "In short, the main task is to clean The Metropolitan Museum of Art Open Access dataset.\n",
    "  \n",
    "> The instructions are not given in details: It is up to you to come up with ideas on how to fulfill the particular tasks as best you can!\n",
    "\n",
    "## What are you supposed to do:\n",
    "\n",
    "  1. Download the dataset MetObjects.csv from the repository https://github.com/metmuseum/openaccess/.\n",
    "  2. Check consistency (i.e. that same things are represented in the same way) of at least three features where you expect problems (include \"Object Name\" feature). You can propose how to clean selected features, however do not apply cleaning (in your interest) :)\n",
    "  3. Select some features where you expect integrity problems (describe your choice) and check integrity of those features. By integrity we mean correct logical relations between features (e.g. female names for females only).\n",
    "  4. Convert at least five features to a proper data type. Choose at least one numeric, one categorical and one datetime.\n",
    "  5. Find some outliers (describe your method).\n",
    "  6. Detect missing data in at least three features, convert them to a proper representation (if they are already not), and impute missing values in at least one feature.\n",
    "\n",
    "**If you do all this properly, you will obtain 16 points.** However, all your steps and following code **have to be commented!**\n",
    "\n",
    "To earn **two points** for extra activity you can do some of these:\n",
    "  * Focus more precisely on cleaning of the \"Medium\" feature. Such if you like to use it in KNN based algorithms later.\n",
    "  * Focus on the extraction of physical dimensions of each item (width, depth and height in centimeters) from the \"Dimensions\" feature.\n",
    "\n",
    "## Comments\n",
    "\n",
    "  * Please follow the instructions from https://courses.fit.cvut.cz/MI-PDD/homeworks/index.html.\n",
    "  * If the reviewing teacher is not satisfied, she can (!) give you another chance to rework your homework and to obtain more points. However, this is not a given, so do your best! :)"
   ]
  },
  {
   "cell_type": "code",
   "execution_count": 1,
   "metadata": {},
   "outputs": [],
   "source": [
    "from sklearn.cluster import KMeans\n",
    "from sklearn.neighbors import NearestNeighbors\n",
    "from scipy.stats import chi2_contingency\n",
    "import matplotlib\n",
    "import matplotlib.pyplot as plt\n",
    "import numpy as np\n",
    "import seaborn as sns\n",
    "import pandas as pd\n",
    "%matplotlib inline"
   ]
  },
  {
   "cell_type": "code",
   "execution_count": 2,
   "metadata": {},
   "outputs": [],
   "source": [
    "df = pd.read_csv('MetObjects.csv', low_memory=False)"
   ]
  },
  {
   "cell_type": "markdown",
   "metadata": {},
   "source": [
    "Display basic info about the dataframe"
   ]
  },
  {
   "cell_type": "code",
   "execution_count": 3,
   "metadata": {},
   "outputs": [
    {
     "name": "stdout",
     "output_type": "stream",
     "text": [
      "<class 'pandas.core.frame.DataFrame'>\n",
      "RangeIndex: 474526 entries, 0 to 474525\n",
      "Data columns (total 54 columns):\n",
      "Object Number              474526 non-null object\n",
      "Is Highlight               474526 non-null bool\n",
      "Is Timeline Work           474526 non-null bool\n",
      "Is Public Domain           474526 non-null bool\n",
      "Object ID                  474526 non-null int64\n",
      "Gallery Number             54386 non-null object\n",
      "Department                 474526 non-null object\n",
      "AccessionYear              470560 non-null object\n",
      "Object Name                473172 non-null object\n",
      "Title                      444655 non-null object\n",
      "Culture                    206456 non-null object\n",
      "Period                     90362 non-null object\n",
      "Dynasty                    23144 non-null object\n",
      "Reign                      11180 non-null object\n",
      "Portfolio                  23344 non-null object\n",
      "Constiuent ID              272672 non-null object\n",
      "Artist Role                270578 non-null object\n",
      "Artist Prefix              89303 non-null object\n",
      "Artist Display Name        272672 non-null object\n",
      "Artist Display Bio         233625 non-null object\n",
      "Artist Suffix              11928 non-null object\n",
      "Artist Alpha Sort          272637 non-null object\n",
      "Artist Nationality         182413 non-null object\n",
      "Artist Begin Date          236226 non-null object\n",
      "Artist End Date            236220 non-null object\n",
      "Artist Gender              101045 non-null object\n",
      "Artist ULAN URL            203965 non-null object\n",
      "Artist Wikidata URL        159897 non-null object\n",
      "Object Date                459614 non-null object\n",
      "Object Begin Date          474526 non-null int64\n",
      "Object End Date            474526 non-null int64\n",
      "Medium                     467413 non-null object\n",
      "Dimensions                 399051 non-null object\n",
      "Credit Line                474106 non-null object\n",
      "Geography Type             59363 non-null object\n",
      "City                       31973 non-null object\n",
      "State                      2530 non-null object\n",
      "County                     8240 non-null object\n",
      "Country                    75278 non-null object\n",
      "Region                     31335 non-null object\n",
      "Subregion                  22057 non-null object\n",
      "Locale                     15604 non-null object\n",
      "Locus                      7397 non-null object\n",
      "Excavation                 16007 non-null object\n",
      "River                      2097 non-null object\n",
      "Classification             418463 non-null object\n",
      "Rights and Reproduction    23337 non-null object\n",
      "Link Resource              474526 non-null object\n",
      "Object Wikidata URL        20965 non-null object\n",
      "Metadata Date              0 non-null float64\n",
      "Repository                 474526 non-null object\n",
      "Tags                       217430 non-null object\n",
      "Tags AAT URL               216984 non-null object\n",
      "Tags Wikidata URL          215668 non-null object\n",
      "dtypes: bool(3), float64(1), int64(3), object(47)\n",
      "memory usage: 186.0+ MB\n"
     ]
    }
   ],
   "source": [
    "df.info()"
   ]
  },
  {
   "cell_type": "markdown",
   "metadata": {},
   "source": [
    "## 2) Consistency check\n",
    "### Check where incosistency is caused by only letter case (Object Name included)\n",
    "Cleaning could be applied simply by str.lower() method"
   ]
  },
  {
   "cell_type": "code",
   "execution_count": 4,
   "metadata": {},
   "outputs": [],
   "source": [
    "def check_cons_by_str(col_name, df):\n",
    "    #Checks consistency of column by letter case.\n",
    "    on_unique_len = len(df[str(col_name)].astype(str).unique())\n",
    "    on_unique_lowered_len = len(df[str(col_name)].astype(str).str.lower().unique())\n",
    "    res = on_unique_len - on_unique_lowered_len\n",
    "    not_null_len = max(len(df[col_name].dropna()), 1)                \n",
    "    return res, 'There are {0} ambigous values in {1}, which is {2} % of not null values'.format(res, col, round(res * 100 / not_null_len, 2))"
   ]
  },
  {
   "cell_type": "markdown",
   "metadata": {},
   "source": [
    "Print significantly incosistent columns"
   ]
  },
  {
   "cell_type": "code",
   "execution_count": 5,
   "metadata": {},
   "outputs": [
    {
     "name": "stdout",
     "output_type": "stream",
     "text": [
      "There are 823 ambigous values in Object Name, which is 0.17 % of not null values\n",
      "There are 2052 ambigous values in Title, which is 0.46 % of not null values\n",
      "There are 167 ambigous values in Artist Prefix, which is 0.19 % of not null values\n",
      "There are 154 ambigous values in Object Date, which is 0.03 % of not null values\n",
      "There are 1296 ambigous values in Medium, which is 0.28 % of not null values\n",
      "There are 1366 ambigous values in Dimensions, which is 0.34 % of not null values\n",
      "There are 210 ambigous values in Credit Line, which is 0.04 % of not null values\n"
     ]
    }
   ],
   "source": [
    "for col in df.columns:\n",
    "    cnt, statement = check_cons_by_str(col, df)\n",
    "    if cnt > 100:\n",
    "        print(statement)"
   ]
  },
  {
   "cell_type": "markdown",
   "metadata": {},
   "source": [
    "### Incosistency caused by multiple values in one feature\n",
    "This data is mess, splitting into multiple tables will be probably the best solution. Or we could use \"get_dummies\" method to create new columns in df with ones at appropriate rows. <br>\n",
    "E.g. American|French|American is not the same as French|American|Amercian. This could be solved by alphabetical sorting, but it would break the integrity constraint, as it would break the order of values separeted by '|', therefore this solution is unacceptable."
   ]
  },
  {
   "cell_type": "code",
   "execution_count": 6,
   "metadata": {},
   "outputs": [
    {
     "name": "stdout",
     "output_type": "stream",
     "text": [
      "There are 92507 multiple values in one row in column Artist Role, which is 34.19% of not null values\n",
      "\n",
      "There are 92565 multiple values in one row in column Artist Display Name, which is 33.95% of not null values\n",
      "\n",
      "There are 72747 multiple values in one row in column Artist Display Bio, which is 31.14% of not null values\n",
      "\n",
      "There are 92544 multiple values in one row in column Artist Alpha Sort, which is 33.94% of not null values\n",
      "\n",
      "There are 55824 multiple values in one row in column Artist Nationality, which is 30.6% of not null values\n",
      "\n",
      "There are 69474 multiple values in one row in column Artist Begin Date, which is 29.41% of not null values\n",
      "\n",
      "There are 69223 multiple values in one row in column Artist End Date, which is 29.3% of not null values\n",
      "\n",
      "There are 52960 multiple values in one row in column Artist ULAN URL, which is 25.97% of not null values\n",
      "\n",
      "There are 63599 multiple values in one row in column Classification, which is 15.2% of not null values\n",
      "\n",
      "There are 130347 multiple values in one row in column Tags, which is 59.95% of not null values\n",
      "\n",
      "There are 129601 multiple values in one row in column Tags AAT URL, which is 59.73% of not null values\n",
      "\n",
      "There are 129949 multiple values in one row in column Tags Wikidata URL, which is 60.25% of not null values\n",
      "\n"
     ]
    }
   ],
   "source": [
    "for col in df.columns:\n",
    "    # regex check wheter the values in col are separeted by '|'\n",
    "    mask = df[col].astype(str).str.contains('..*\\|..*', regex=True)\n",
    "    s = mask.sum()\n",
    "    if s > 30000:\n",
    "        not_null_len = max(len(df[col].dropna()), 1)     \n",
    "        print('There are {0} multiple values in one row in column {1}, which is {2}% of not null values'.format(s, col, round(s * 100 / not_null_len, 2)))\n",
    "        print()"
   ]
  },
  {
   "cell_type": "markdown",
   "metadata": {},
   "source": [
    "Object Date is also a mess. Will try to apply some simple cleainig in Integrity detection part. More complex cleaning is possible by detecting numbers in the feaure, decide what they are representing (century, millenia, decade, year) and parse then approprietly. Would be also worth considering to introduce new columns as \"certainty\" for values like \"probably 19th century\"."
   ]
  },
  {
   "cell_type": "code",
   "execution_count": 7,
   "metadata": {},
   "outputs": [
    {
     "name": "stdout",
     "output_type": "stream",
     "text": [
      "380843                   before 1703\n",
      "392827                          1776\n",
      "228453    early to mid-16th century \n",
      "325219                      ca. 1927\n",
      "35955              late 17th century\n",
      "223048                       1866–69\n",
      "347054            ca. 2051–2030 B.C.\n",
      "56796              18th–19th century\n",
      "329988                          1942\n",
      "432118     probably 8th–12th century\n",
      "Name: Object Date, dtype: object\n"
     ]
    }
   ],
   "source": [
    "print(df['Object Date'].sample(10))"
   ]
  },
  {
   "cell_type": "markdown",
   "metadata": {},
   "source": [
    "# 3) Integrity detection\n",
    "We will check integrity of Dates columns, wheter they satisfy following constraints: <br/>\n",
    "a) End date >= Begin date <br/>\n",
    "b) End date = to(Object Date) & Begin date = from(Object Date)"
   ]
  },
  {
   "cell_type": "code",
   "execution_count": 8,
   "metadata": {},
   "outputs": [],
   "source": [
    "END_LESSER_BEGIN_FLAG = 1\n",
    "ACTUAL_NOT_CORRESPONDING_FLAG = 2\n",
    "\n",
    "def is_viloation(row):\n",
    "    # Checks violation of following constraints:\n",
    "    # End date < Begin date\n",
    "    # Object date does not match with Begin date - end date\n",
    "    ret = 0\n",
    "    begin = row['Object Begin Date']\n",
    "    end = row['Object End Date']\n",
    "    actual = row['Object Date']\n",
    "    if end < begin:\n",
    "        ret = END_LESSER_BEGIN_FLAG\n",
    "    if actual is None:\n",
    "        return ret\n",
    "    splitted = str(actual).split('-')\n",
    "    #Checks if Object Date corresponds with Begin-End date\n",
    "    if len(splitted) > 1:\n",
    "        first, second = int(splitted[0]), int(splitted[1])\n",
    "        if first!=begin or second!=end:\n",
    "            ret |= ACTUAL_NOT_CORRESPONDING_FLAG\n",
    "    else:\n",
    "        if not begin==end and str(actual) != 'nan':\n",
    "            ret |= ACTUAL_NOT_CORRESPONDING_FLAG\n",
    "    return ret\n",
    "\n",
    "    \n",
    "def is_int(s):\n",
    "    # Helper for checking if s is an integer\n",
    "    try: \n",
    "        int(s)\n",
    "        return True\n",
    "    except ValueError:\n",
    "        return False\n",
    "\n",
    "def parse_object_date(val):\n",
    "    # Rewrites Object Date in format DXX-XX to DXX-DXX.\n",
    "    if is_int(val):        \n",
    "        return val\n",
    "    splitted = str(val).strip().split('-')\n",
    "    if len(splitted) > 1:\n",
    "        if is_int(splitted[0]):\n",
    "            first = splitted[0]\n",
    "            diff = len(splitted[0]) - len(splitted[1])\n",
    "            if diff >= 0:\n",
    "                second = splitted[0][:diff] + splitted[1]\n",
    "                return first + \"-\" + second\n",
    "            if len(splitted[0]) == len(splitted[1]):\n",
    "                return val\n",
    "    return None"
   ]
  },
  {
   "cell_type": "code",
   "execution_count": 9,
   "metadata": {},
   "outputs": [],
   "source": [
    "# Those tasks can take up to 20 seconds\n",
    "# Parse dates\n",
    "df['Object Date'] = df['Object Date'].apply(lambda x: parse_object_date(x)).dropna()\n",
    "# Create new column to check, if there is a constraint violation\n",
    "df['Date_Integrity_Violation'] = df.apply(lambda row: is_viloation(row), axis=1)"
   ]
  },
  {
   "cell_type": "markdown",
   "metadata": {},
   "source": [
    "a) Constraint End Date < Begin date violation"
   ]
  },
  {
   "cell_type": "code",
   "execution_count": 10,
   "metadata": {},
   "outputs": [
    {
     "name": "stdout",
     "output_type": "stream",
     "text": [
      "There are overall 188 violations, sample:\n"
     ]
    },
    {
     "data": {
      "text/html": [
       "<div>\n",
       "<style scoped>\n",
       "    .dataframe tbody tr th:only-of-type {\n",
       "        vertical-align: middle;\n",
       "    }\n",
       "\n",
       "    .dataframe tbody tr th {\n",
       "        vertical-align: top;\n",
       "    }\n",
       "\n",
       "    .dataframe thead th {\n",
       "        text-align: right;\n",
       "    }\n",
       "</style>\n",
       "<table border=\"1\" class=\"dataframe\">\n",
       "  <thead>\n",
       "    <tr style=\"text-align: right;\">\n",
       "      <th></th>\n",
       "      <th>Object Begin Date</th>\n",
       "      <th>Object End Date</th>\n",
       "    </tr>\n",
       "  </thead>\n",
       "  <tbody>\n",
       "    <tr>\n",
       "      <th>347514</th>\n",
       "      <td>-664</td>\n",
       "      <td>-688</td>\n",
       "    </tr>\n",
       "    <tr>\n",
       "      <th>347521</th>\n",
       "      <td>-664</td>\n",
       "      <td>-688</td>\n",
       "    </tr>\n",
       "    <tr>\n",
       "      <th>249469</th>\n",
       "      <td>1785</td>\n",
       "      <td>1780</td>\n",
       "    </tr>\n",
       "    <tr>\n",
       "      <th>355738</th>\n",
       "      <td>-664</td>\n",
       "      <td>-688</td>\n",
       "    </tr>\n",
       "    <tr>\n",
       "      <th>355726</th>\n",
       "      <td>-664</td>\n",
       "      <td>-688</td>\n",
       "    </tr>\n",
       "    <tr>\n",
       "      <th>136473</th>\n",
       "      <td>1785</td>\n",
       "      <td>1773</td>\n",
       "    </tr>\n",
       "    <tr>\n",
       "      <th>355724</th>\n",
       "      <td>-664</td>\n",
       "      <td>-688</td>\n",
       "    </tr>\n",
       "    <tr>\n",
       "      <th>347971</th>\n",
       "      <td>-664</td>\n",
       "      <td>-688</td>\n",
       "    </tr>\n",
       "    <tr>\n",
       "      <th>355742</th>\n",
       "      <td>-664</td>\n",
       "      <td>-688</td>\n",
       "    </tr>\n",
       "    <tr>\n",
       "      <th>355716</th>\n",
       "      <td>-664</td>\n",
       "      <td>-688</td>\n",
       "    </tr>\n",
       "  </tbody>\n",
       "</table>\n",
       "</div>"
      ],
      "text/plain": [
       "        Object Begin Date  Object End Date\n",
       "347514               -664             -688\n",
       "347521               -664             -688\n",
       "249469               1785             1780\n",
       "355738               -664             -688\n",
       "355726               -664             -688\n",
       "136473               1785             1773\n",
       "355724               -664             -688\n",
       "347971               -664             -688\n",
       "355742               -664             -688\n",
       "355716               -664             -688"
      ]
     },
     "execution_count": 10,
     "metadata": {},
     "output_type": "execute_result"
    }
   ],
   "source": [
    "filt = df[df['Date_Integrity_Violation'] == 1]\n",
    "print('There are overall {0} violations, sample:'.format(len(filt)))\n",
    "filt[['Object Begin Date', 'Object End Date']].sample(10)"
   ]
  },
  {
   "cell_type": "markdown",
   "metadata": {},
   "source": [
    "b) Constraint Object Date violation"
   ]
  },
  {
   "cell_type": "code",
   "execution_count": 11,
   "metadata": {},
   "outputs": [
    {
     "name": "stdout",
     "output_type": "stream",
     "text": [
      "There are overall 1221 violations, displaying sample:\n"
     ]
    },
    {
     "data": {
      "text/html": [
       "<div>\n",
       "<style scoped>\n",
       "    .dataframe tbody tr th:only-of-type {\n",
       "        vertical-align: middle;\n",
       "    }\n",
       "\n",
       "    .dataframe tbody tr th {\n",
       "        vertical-align: top;\n",
       "    }\n",
       "\n",
       "    .dataframe thead th {\n",
       "        text-align: right;\n",
       "    }\n",
       "</style>\n",
       "<table border=\"1\" class=\"dataframe\">\n",
       "  <thead>\n",
       "    <tr style=\"text-align: right;\">\n",
       "      <th></th>\n",
       "      <th>Object Begin Date</th>\n",
       "      <th>Object Date</th>\n",
       "      <th>Object End Date</th>\n",
       "    </tr>\n",
       "  </thead>\n",
       "  <tbody>\n",
       "    <tr>\n",
       "      <th>179395</th>\n",
       "      <td>1854</td>\n",
       "      <td>1854</td>\n",
       "      <td>1859</td>\n",
       "    </tr>\n",
       "    <tr>\n",
       "      <th>422980</th>\n",
       "      <td>1890</td>\n",
       "      <td>1903</td>\n",
       "      <td>1903</td>\n",
       "    </tr>\n",
       "    <tr>\n",
       "      <th>179386</th>\n",
       "      <td>1854</td>\n",
       "      <td>1854</td>\n",
       "      <td>1859</td>\n",
       "    </tr>\n",
       "    <tr>\n",
       "      <th>159445</th>\n",
       "      <td>1947</td>\n",
       "      <td>1949</td>\n",
       "      <td>1949</td>\n",
       "    </tr>\n",
       "    <tr>\n",
       "      <th>262766</th>\n",
       "      <td>1723</td>\n",
       "      <td>1724</td>\n",
       "      <td>1724</td>\n",
       "    </tr>\n",
       "    <tr>\n",
       "      <th>268247</th>\n",
       "      <td>1611</td>\n",
       "      <td>1611</td>\n",
       "      <td>1612</td>\n",
       "    </tr>\n",
       "    <tr>\n",
       "      <th>337376</th>\n",
       "      <td>1850</td>\n",
       "      <td>1875</td>\n",
       "      <td>1900</td>\n",
       "    </tr>\n",
       "    <tr>\n",
       "      <th>179400</th>\n",
       "      <td>1854</td>\n",
       "      <td>1854</td>\n",
       "      <td>1859</td>\n",
       "    </tr>\n",
       "    <tr>\n",
       "      <th>221719</th>\n",
       "      <td>1800</td>\n",
       "      <td>1873</td>\n",
       "      <td>1958</td>\n",
       "    </tr>\n",
       "    <tr>\n",
       "      <th>424393</th>\n",
       "      <td>1584</td>\n",
       "      <td>1589</td>\n",
       "      <td>1594</td>\n",
       "    </tr>\n",
       "  </tbody>\n",
       "</table>\n",
       "</div>"
      ],
      "text/plain": [
       "        Object Begin Date Object Date  Object End Date\n",
       "179395               1854        1854             1859\n",
       "422980               1890        1903             1903\n",
       "179386               1854        1854             1859\n",
       "159445               1947        1949             1949\n",
       "262766               1723        1724             1724\n",
       "268247               1611        1611             1612\n",
       "337376               1850        1875             1900\n",
       "179400               1854        1854             1859\n",
       "221719               1800        1873             1958\n",
       "424393               1584        1589             1594"
      ]
     },
     "execution_count": 11,
     "metadata": {},
     "output_type": "execute_result"
    }
   ],
   "source": [
    "filt = df[df['Date_Integrity_Violation'] == 2]\n",
    "print('There are overall {0} violations, displaying sample:'.format(len(filt)))\n",
    "filt[['Object Begin Date', 'Object Date', 'Object End Date']].dropna().sample(10)"
   ]
  },
  {
   "cell_type": "markdown",
   "metadata": {},
   "source": [
    "Display rows satisfying our consraints"
   ]
  },
  {
   "cell_type": "code",
   "execution_count": 12,
   "metadata": {},
   "outputs": [
    {
     "name": "stdout",
     "output_type": "stream",
     "text": [
      "497 rows are OK, sample:\n"
     ]
    },
    {
     "data": {
      "text/html": [
       "<div>\n",
       "<style scoped>\n",
       "    .dataframe tbody tr th:only-of-type {\n",
       "        vertical-align: middle;\n",
       "    }\n",
       "\n",
       "    .dataframe tbody tr th {\n",
       "        vertical-align: top;\n",
       "    }\n",
       "\n",
       "    .dataframe thead th {\n",
       "        text-align: right;\n",
       "    }\n",
       "</style>\n",
       "<table border=\"1\" class=\"dataframe\">\n",
       "  <thead>\n",
       "    <tr style=\"text-align: right;\">\n",
       "      <th></th>\n",
       "      <th>Object Begin Date</th>\n",
       "      <th>Object Date</th>\n",
       "      <th>Object End Date</th>\n",
       "    </tr>\n",
       "  </thead>\n",
       "  <tbody>\n",
       "    <tr>\n",
       "      <th>427597</th>\n",
       "      <td>1545</td>\n",
       "      <td>1545-1547</td>\n",
       "      <td>1547</td>\n",
       "    </tr>\n",
       "    <tr>\n",
       "      <th>391171</th>\n",
       "      <td>1933</td>\n",
       "      <td>1933-1939</td>\n",
       "      <td>1939</td>\n",
       "    </tr>\n",
       "    <tr>\n",
       "      <th>426878</th>\n",
       "      <td>1565</td>\n",
       "      <td>1565-1570</td>\n",
       "      <td>1570</td>\n",
       "    </tr>\n",
       "    <tr>\n",
       "      <th>391909</th>\n",
       "      <td>1933</td>\n",
       "      <td>1933-1939</td>\n",
       "      <td>1939</td>\n",
       "    </tr>\n",
       "    <tr>\n",
       "      <th>462331</th>\n",
       "      <td>1885</td>\n",
       "      <td>1885-1900</td>\n",
       "      <td>1900</td>\n",
       "    </tr>\n",
       "    <tr>\n",
       "      <th>232511</th>\n",
       "      <td>1525</td>\n",
       "      <td>1525</td>\n",
       "      <td>1525</td>\n",
       "    </tr>\n",
       "    <tr>\n",
       "      <th>426685</th>\n",
       "      <td>1548</td>\n",
       "      <td>1548-1549</td>\n",
       "      <td>1549</td>\n",
       "    </tr>\n",
       "    <tr>\n",
       "      <th>423416</th>\n",
       "      <td>1889</td>\n",
       "      <td>1889-1890</td>\n",
       "      <td>1890</td>\n",
       "    </tr>\n",
       "    <tr>\n",
       "      <th>225204</th>\n",
       "      <td>1509</td>\n",
       "      <td>1509-1510</td>\n",
       "      <td>1510</td>\n",
       "    </tr>\n",
       "    <tr>\n",
       "      <th>427620</th>\n",
       "      <td>1545</td>\n",
       "      <td>1545-1547</td>\n",
       "      <td>1547</td>\n",
       "    </tr>\n",
       "  </tbody>\n",
       "</table>\n",
       "</div>"
      ],
      "text/plain": [
       "        Object Begin Date Object Date  Object End Date\n",
       "427597               1545   1545-1547             1547\n",
       "391171               1933   1933-1939             1939\n",
       "426878               1565   1565-1570             1570\n",
       "391909               1933   1933-1939             1939\n",
       "462331               1885   1885-1900             1900\n",
       "232511               1525       1525              1525\n",
       "426685               1548   1548-1549             1549\n",
       "423416               1889   1889-1890             1890\n",
       "225204               1509   1509-1510             1510\n",
       "427620               1545   1545-1547             1547"
      ]
     },
     "execution_count": 12,
     "metadata": {},
     "output_type": "execute_result"
    }
   ],
   "source": [
    "filt = df[df['Date_Integrity_Violation'] == 0]\n",
    "filt = filt[filt['Object Date'].str.len() > 4]\n",
    "print('{0} rows are OK, sample:'.format(len(filt)))\n",
    "filt[['Object Begin Date', 'Object Date', 'Object End Date']].dropna().sample(10)"
   ]
  },
  {
   "cell_type": "markdown",
   "metadata": {},
   "source": [
    "## 4) Conversion\n",
    "Create two new columns for later use <br>\n",
    "Object {Begin,End} Date -> date <br>       \n",
    "Culture, Period -> categorical <br>    \n",
    "Gallery Number -> int <br>   \n",
    "Object name -> str <br>   "
   ]
  },
  {
   "cell_type": "code",
   "execution_count": 13,
   "metadata": {},
   "outputs": [],
   "source": [
    "df['Object Begin Year'] = df['Object Begin Date'].apply(pd.to_numeric, errors='coerce')\n",
    "df['Object End Year'] = df['Object End Date'].apply(pd.to_numeric, errors='coerce')"
   ]
  },
  {
   "cell_type": "code",
   "execution_count": 14,
   "metadata": {},
   "outputs": [
    {
     "name": "stdout",
     "output_type": "stream",
     "text": [
      "Object Begin Date\n",
      "300245   1700-01-01\n",
      "174747   1965-01-01\n",
      "9356     1875-01-01\n",
      "Name: Object Begin Date, dtype: datetime64[ns]\n",
      "\n",
      "Object End Date\n",
      "93171    1887-01-01\n",
      "56546    1899-01-01\n",
      "175869   1912-01-01\n",
      "Name: Object End Date, dtype: datetime64[ns]\n",
      "\n",
      "Culture\n",
      "343295   -1\n",
      "242267   -1\n",
      "249476   -1\n",
      "Name: Culture, dtype: int16\n",
      "\n",
      "Period\n",
      "400228      -1\n",
      "391180      -1\n",
      "358725    1084\n",
      "Name: Period, dtype: int16\n",
      "\n",
      "City\n",
      "289140    The Hague\n",
      "432129     Nishapur\n",
      "300628        Herat\n",
      "Name: City, dtype: object\n",
      "\n",
      "State\n",
      "3204    Lancaster County\n",
      "5582       Staffordshire\n",
      "5782       Staffordshire\n",
      "Name: State, dtype: object\n",
      "\n",
      "Gallery Number\n",
      "357037    122.0\n",
      "354284    126.0\n",
      "346927    122.0\n",
      "Name: Gallery Number, dtype: float64\n",
      "\n",
      "Object Name\n",
      "356499    Relief fragment, tomb of Meketre\n",
      "349552                     Vessel fragment\n",
      "437496                Lekanis lid fragment\n",
      "Name: Object Name, dtype: object\n",
      "\n"
     ]
    }
   ],
   "source": [
    "df['Object Begin Date'] = pd.to_datetime(df['Object Begin Date'], format='%Y', errors='coerce')\n",
    "df['Object End Date'] = pd.to_datetime(df['Object End Date'], format='%Y', errors='coerce')\n",
    "df['Culture'] = df['Culture'].astype('category').cat.codes\n",
    "df['Period'] = df['Period'].astype('category').cat.codes                               \n",
    "df['Gallery Number'] = pd.to_numeric(df['Gallery Number'], errors='coerce')\n",
    "df['Object Name'] = df['Object Name'].apply(str)\n",
    "\n",
    "for c in ['Object Begin Date', 'Object End Date', 'Culture', 'Period', 'City', 'State', 'Gallery Number', 'Object Name']:\n",
    "    print(c)\n",
    "    print(df[c].dropna().sample(3))\n",
    "    print()"
   ]
  },
  {
   "cell_type": "markdown",
   "metadata": {},
   "source": [
    "## 5) Outliers\n",
    "Find outliers in Date feature, first, plot as boxplot."
   ]
  },
  {
   "cell_type": "code",
   "execution_count": 15,
   "metadata": {},
   "outputs": [
    {
     "data": {
      "text/plain": [
       "<matplotlib.axes._subplots.AxesSubplot at 0x1af243f4320>"
      ]
     },
     "execution_count": 15,
     "metadata": {},
     "output_type": "execute_result"
    },
    {
     "data": {
      "image/png": "[encoded data removed]",
      "text/plain": [
       "<Figure size 432x288 with 1 Axes>"
      ]
     },
     "metadata": {
      "needs_background": "light"
     },
     "output_type": "display_data"
    }
   ],
   "source": [
    "sns.boxplot(data=df['Object End Year'])"
   ]
  },
  {
   "cell_type": "markdown",
   "metadata": {},
   "source": [
    "We'll use IQR method which basically checks, which values lies outside this range: <Q1-1.5*IQR IQR, Q3+1.5*IQR>, those values are considered as outliers."
   ]
  },
  {
   "cell_type": "code",
   "execution_count": 16,
   "metadata": {},
   "outputs": [
    {
     "name": "stdout",
     "output_type": "stream",
     "text": [
      "Outliers lying above \"normal\" range: \n",
      "2396     0\n",
      "11886    0\n",
      "13349    0\n",
      "13486    0\n",
      "13523    0\n",
      "Name: Object End Year, dtype: int64\n",
      "Outliers lying below \"normal\" range: \n"
     ]
    },
    {
     "data": {
      "text/plain": [
       "363915   -240000\n",
       "363923   -240000\n",
       "470122   -125000\n",
       "363913    -40000\n",
       "363912    -40000\n",
       "Name: Object End Year, dtype: int64"
      ]
     },
     "execution_count": 16,
     "metadata": {},
     "output_type": "execute_result"
    }
   ],
   "source": [
    "# IQR method\n",
    "Q1 = df.quantile(0.25)\n",
    "Q3 = df.quantile(0.75)\n",
    "IQR =  Q3 - Q1\n",
    "\n",
    "date_outlier_mask = (df['Object End Year'] > Q3['Object End Year'] + 1.5*IQR['Object End Year']) | (df['Object End Year'] < Q1['Object End Year'] - 1.5*IQR['Object End Year'])\n",
    "\n",
    "print('Outliers lying above \"normal\" range: ')\n",
    "print(df[date_outlier_mask].sort_values(['Object End Date'], ascending = False).head(5)['Object End Year'])\n",
    "print('Outliers lying below \"normal\" range: ')\n",
    "df[date_outlier_mask].sort_values(['Object End Year']).head(5)['Object End Year']"
   ]
  },
  {
   "cell_type": "markdown",
   "metadata": {},
   "source": [
    "## 6) Missing features\n",
    "We can see how many values are missing in above \"df.info()\" result. We'll fill Object Name with empty string, Gallery Number with zeroes and City with unknown. There is also indicator for unknown Dimensions \"Dimensions unavailable\""
   ]
  },
  {
   "cell_type": "code",
   "execution_count": 17,
   "metadata": {},
   "outputs": [],
   "source": [
    "df['Object Name'] = df['Object Name'].fillna(' ')\n",
    "df['Gallery Number'] = df['Gallery Number'].fillna(0)\n",
    "df['City'] = df['City'].fillna('unknown')\n",
    "df['Dimensions'] = df['Dimensions'].fillna('Dimensions unavailable.')"
   ]
  },
  {
   "cell_type": "code",
   "execution_count": 18,
   "metadata": {},
   "outputs": [],
   "source": [
    "# Create mask for missing dates, we will use it later\n",
    "missing_date_mask = df['Object Date'].isnull()"
   ]
  },
  {
   "cell_type": "markdown",
   "metadata": {},
   "source": [
    "Fill missing object dates by Begin to End Year range."
   ]
  },
  {
   "cell_type": "code",
   "execution_count": 19,
   "metadata": {},
   "outputs": [
    {
     "name": "stdout",
     "output_type": "stream",
     "text": [
      "Parsed values are: \n"
     ]
    },
    {
     "data": {
      "text/html": [
       "<div>\n",
       "<style scoped>\n",
       "    .dataframe tbody tr th:only-of-type {\n",
       "        vertical-align: middle;\n",
       "    }\n",
       "\n",
       "    .dataframe tbody tr th {\n",
       "        vertical-align: top;\n",
       "    }\n",
       "\n",
       "    .dataframe thead th {\n",
       "        text-align: right;\n",
       "    }\n",
       "</style>\n",
       "<table border=\"1\" class=\"dataframe\">\n",
       "  <thead>\n",
       "    <tr style=\"text-align: right;\">\n",
       "      <th></th>\n",
       "      <th>Object Date</th>\n",
       "      <th>Object Begin Year</th>\n",
       "      <th>Object End Year</th>\n",
       "    </tr>\n",
       "  </thead>\n",
       "  <tbody>\n",
       "    <tr>\n",
       "      <th>145208</th>\n",
       "      <td>-699--400</td>\n",
       "      <td>-699</td>\n",
       "      <td>-400</td>\n",
       "    </tr>\n",
       "    <tr>\n",
       "      <th>253520</th>\n",
       "      <td>1850-1900</td>\n",
       "      <td>1850</td>\n",
       "      <td>1900</td>\n",
       "    </tr>\n",
       "    <tr>\n",
       "      <th>365456</th>\n",
       "      <td>-664--610</td>\n",
       "      <td>-664</td>\n",
       "      <td>-610</td>\n",
       "    </tr>\n",
       "    <tr>\n",
       "      <th>256547</th>\n",
       "      <td>1780-1800</td>\n",
       "      <td>1780</td>\n",
       "      <td>1800</td>\n",
       "    </tr>\n",
       "    <tr>\n",
       "      <th>309526</th>\n",
       "      <td>400-1399</td>\n",
       "      <td>400</td>\n",
       "      <td>1399</td>\n",
       "    </tr>\n",
       "  </tbody>\n",
       "</table>\n",
       "</div>"
      ],
      "text/plain": [
       "       Object Date  Object Begin Year  Object End Year\n",
       "145208   -699--400               -699             -400\n",
       "253520   1850-1900               1850             1900\n",
       "365456   -664--610               -664             -610\n",
       "256547   1780-1800               1780             1800\n",
       "309526    400-1399                400             1399"
      ]
     },
     "execution_count": 19,
     "metadata": {},
     "output_type": "execute_result"
    }
   ],
   "source": [
    "df['Object Date'] = df['Object Date'].fillna(df['Object Begin Year'].astype(str) + '-' + df['Object End Year'].astype(str))\n",
    "print('Parsed values are: ')\n",
    "df[missing_date_mask][['Object Date', 'Object Begin Year', 'Object End Year']].sample(5)"
   ]
  },
  {
   "cell_type": "markdown",
   "metadata": {},
   "source": [
    "Try to create dictionary of city:state and use it to fill some null values whene city is known and state is not."
   ]
  },
  {
   "cell_type": "code",
   "execution_count": 20,
   "metadata": {},
   "outputs": [],
   "source": [
    "g = df.groupby('City')\n",
    "df2 = g.apply(lambda x: x['Country'].dropna().unique())\n",
    "df2.dropna()\n",
    "m = dict()\n",
    "for r in zip(g, df2):\n",
    "    try:\n",
    "        v = r[0][0]\n",
    "        if v =='unknown':\n",
    "            continue\n",
    "        m[r[0][0]] = r[1][0]\n",
    "    except:\n",
    "        continue"
   ]
  },
  {
   "cell_type": "code",
   "execution_count": 21,
   "metadata": {},
   "outputs": [],
   "source": [
    "initinaly_null = df['State'].isnull().sum()"
   ]
  },
  {
   "cell_type": "code",
   "execution_count": 22,
   "metadata": {},
   "outputs": [],
   "source": [
    "df['State'] = df['State'].fillna(df['City'].apply(lambda x: m.get(x)))"
   ]
  },
  {
   "cell_type": "code",
   "execution_count": 23,
   "metadata": {},
   "outputs": [
    {
     "name": "stdout",
     "output_type": "stream",
     "text": [
      "By the dictionary method, we filled 29259 values.\n"
     ]
    }
   ],
   "source": [
    "post_null = df['State'].isnull().sum()\n",
    "print('By the dictionary method, we filled {0} values.'.format(initinaly_null - post_null))"
   ]
  },
  {
   "cell_type": "code",
   "execution_count": null,
   "metadata": {},
   "outputs": [],
   "source": []
  }
 ],
 "metadata": {
  "kernelspec": {
   "display_name": "Python 3",
   "language": "python",
   "name": "python3"
  },
  "language_info": {
   "codemirror_mode": {
    "name": "ipython",
    "version": 3
   },
   "file_extension": ".py",
   "mimetype": "text/x-python",
   "name": "python",
   "nbconvert_exporter": "python",
   "pygments_lexer": "ipython3",
   "version": "3.7.3"
  }
 },
 "nbformat": 4,
 "nbformat_minor": 4
}
