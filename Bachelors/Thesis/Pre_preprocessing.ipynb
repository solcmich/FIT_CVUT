{
 "cells": [
  {
   "cell_type": "markdown",
   "metadata": {},
   "source": [
    "# Data description"
   ]
  },
  {
   "cell_type": "markdown",
   "metadata": {},
   "source": [
    "Notebook used for redundant columns removal. Please note than the cells should not be able to run as data were not provided."
   ]
  },
  {
   "cell_type": "code",
   "execution_count": 3,
   "metadata": {},
   "outputs": [],
   "source": [
    "from utils import *"
   ]
  },
  {
   "cell_type": "code",
   "execution_count": 4,
   "metadata": {},
   "outputs": [],
   "source": [
    "DATA_AVAILABLE = False"
   ]
  },
  {
   "cell_type": "code",
   "execution_count": 11,
   "metadata": {},
   "outputs": [],
   "source": [
    "if DATA_AVAILABLE:\n",
    "    charged_off = pd.read_csv('data\\\\Charged_Off.csv')\n",
    "    marked_frauds = pd.read_csv('data\\\\Frauds.csv')"
   ]
  },
  {
   "cell_type": "code",
   "execution_count": 189,
   "metadata": {},
   "outputs": [],
   "source": [
    "import networkx as nx\n",
    "from itertools import combinations\n",
    "def reduce_by_cluster(clusters, df):\n",
    "    \"\"\"\n",
    "    Given a clusters of features (list(list)),\n",
    "    it takes the first feature from each nested list and drops\n",
    "    reamining features from the dataset.\n",
    "    \"\"\"\n",
    "    to_drop = set()\n",
    "    for cluster in clusters:\n",
    "        cluster_list = list(cluster)\n",
    "        for feature in cluster_list[1:]:\n",
    "            df.loc[df[cluster_list[0]].isnull(), cluster_list[0]] = df[feature]\n",
    "            to_drop.add(feature)\n",
    "    for d in to_drop:\n",
    "        df = df.drop(d, axis=1)\n",
    "    return df\n",
    "\n",
    "\n",
    "def get_idential(df):\n",
    "    \"\"\"\n",
    "    Get pair of features with identical values\n",
    "    \"\"\"\n",
    "    return [(i, j) for i, j in combinations(df, 2) if df[i].equals(df[j])]\n",
    "\n",
    "\n",
    "def get_almost_identical(df):\n",
    "    \"\"\"\n",
    "    Get features with almost identical values\n",
    "    \"\"\"\n",
    "    return [(i, j) for i, j in combinations(df, 2)\n",
    "            if abs(df[i].sub(df[j]).dropna().round(0).value_counts(normalize=True).max()) > 0.9]\n",
    "\n",
    "\n",
    "def reduce_dataset(df):\n",
    "    \"\"\"\n",
    "    Reduce dataset by merging idential and almost identical features\n",
    "    \"\"\"\n",
    "    ide = get_idential(df)\n",
    "    cl = make_clusters(ide)\n",
    "    d = reduce_by_cluster(cl, df)\n",
    "    almost_ide = get_almost_identical(d)\n",
    "    cl = make_clusters(almost_ide)\n",
    "    return reduce_by_cluster(cl, d)\n",
    "\n",
    "\n",
    "def make_clusters(identicals):\n",
    "    \"\"\"\n",
    "    Make clusters from pairs of identical features\n",
    "    by finding connected components in a graph.\n",
    "    \"\"\"\n",
    "    edges = identicals\n",
    "    g = nx.Graph(edges)\n",
    "    return list(nx.connected_components(g))"
   ]
  },
  {
   "cell_type": "code",
   "execution_count": 17,
   "metadata": {},
   "outputs": [],
   "source": [
    "if DATA_AVAILABLE:\n",
    "    charged_off = reduce_dataset(charged_off)"
   ]
  },
  {
   "cell_type": "code",
   "execution_count": 192,
   "metadata": {},
   "outputs": [],
   "source": [
    "if DATA_AVAILABLE:\n",
    "    charged_off = charged_off.drop('Stmt_Header_Id', axis=1)\n",
    "    charged_off.to_csv('data\\\\Charged_Off_Reduced.csv')"
   ]
  },
  {
   "cell_type": "code",
   "execution_count": 16,
   "metadata": {},
   "outputs": [],
   "source": [
    "if DATA_AVAILABLE:\n",
    "    marked_frauds = reduce_dataset(marked_frauds)"
   ]
  },
  {
   "cell_type": "code",
   "execution_count": 195,
   "metadata": {},
   "outputs": [],
   "source": [
    "if DATA_AVAILABLE:\n",
    "    marked_frauds = marked_frauds.drop('Stmt_Header_Id', axis=1)\n",
    "    marked_frauds.to_csv('data\\\\Frauds_Reduced.csv')"
   ]
  }
 ],
 "metadata": {
  "kernelspec": {
   "display_name": "Python 3",
   "language": "python",
   "name": "python3"
  },
  "language_info": {
   "codemirror_mode": {
    "name": "ipython",
    "version": 3
   },
   "file_extension": ".py",
   "mimetype": "text/x-python",
   "name": "python",
   "nbconvert_exporter": "python",
   "pygments_lexer": "ipython3",
   "version": "3.7.0"
  }
 },
 "nbformat": 4,
 "nbformat_minor": 2
}
