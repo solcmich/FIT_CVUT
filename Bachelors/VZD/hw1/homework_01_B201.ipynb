{
 "cells": [
  {
   "cell_type": "markdown",
   "metadata": {},
   "source": [
    "# Úkol č. 1 - vizualizace dat a web scraping (do 11. října)\n",
    "\n",
    "  * V rámci tohoto úkolu musíte stáhnout dat z webu (tzv. _web scraping_, velmi základní) a následně data zpracovat a vizualizovat.\n",
    "  * Cílem bude stáhnout data ze serveru https://www.psp.cz/sqw/hlasovani.sqw?o=8 týkající hlasování současné poslanecké sněmovny, uložit tato data v tabulkovém formátu a pak vymyslet vizualizace a zobrazení dat, které umožní orientaci v těchto datech a zvýrazní zajímavé informace a zobrazit přehledně časový vývoj různých veličin.\n",
    " \n",
    "> **Úkoly jsou zadány tak, aby Vám daly prostor pro invenci. Vymyslet _jak přesně_ budete úkol řešit, je důležitou součástí zadání a originalita či nápaditost bude také hodnocena!**\n",
    "\n",
    "## Data\n",
    "\n",
    " * Měli byste stáhnout data ze všech hlasování současné poslanecké sněmovny (tj. od voleb v roce 2017) a to až na úroveň jednotlivých poslanců. \n",
    " * Data by měla obsahovat i stručný popis toho, o jaké hlasování šlo.\n",
    "\n",
    "## Pokyny k vypracování\n",
    "\n",
    "**Základní body zadání**, za jejichž (poctivé) vypracování získáte **8 bodů**:\n",
    "  * Strojově stáhněte data a uložte je do vhodného formátu, který se Vám bude dále dobře zpracovávat. \n",
    "  * **I když nemusíte mít sněmovnu rádi, snažte se nezahltit server a mezi požadavky na stránku mějte alespoň vteřinu mezeru.**\n",
    "  * V druhé části Vašeho Jupyter notebooku pracujte se staženými daty v souborech, které jsou výsledkem Vašeho stahovacího skriptu (aby opravující nemusel spouštět stahování z webu).\n",
    "  * S využitím vybraných nástrojů zpracujte data a vymyslete vizualizace a grafy, aby bylo vidět následující:\n",
    "    * Odchody a přeběhnutí poslanců mezi jednotlivými stranami.\n",
    "    * Jakou mají jednotliví poslanci docházku (účast na hlasování) a jak jsou na tom s docházkou strany jako celek.\n",
    "    * Jak často spolu jednotlivé strany hlasují ve shodě a jak často hlasují odlišně.\n",
    "    * Jak jsou poslanci jednotlivých stran jednotní v hlasování (jak často hlasují stejně, kdo jsou největší rebelové).\n",
    "\n",
    "**Další body zadání** za případné další body (můžete si vybrat, maximum bodů za úkol je každopádně 12 bodů):\n",
    "  * Ve vizualizacích a grafech nějak zachyťte časový vývoj (např. jak se mění docházka, shoda mezi stranami atp.).\n",
    "  * Najděte jednotlivé poslance, kteří se nejvíce shodují při svém hlasování či kteří mají co nejpodobnější účast na hlasování.\n",
    "  * Zkuste rozlišit v datech důležitá hlasování a zpracujte vizualizace (také) pro ně.\n",
    "  * Zkuste najít hlasování, kde poslanci hlasovali nejvíce jinak, než obvykle.\n",
    "  \n",
    "## Tipy a triky\n",
    "  * Balíčky iportujte na začátku notebooku (příp. na začátku scrapovací a pak na začátku vizualizační části).\n",
    "  * Využívejte markdown buňky (jako je ta, ve které je tento text) a naspisy, abyste usnadnily orientaci opravující(mu).\n",
    "  * Pečlivě si vybírejte grafy a vizualizace, aby co nejlépe vyjádřily to, co vyjádřit chcete. Doporučuji projít si pro inspiraci alespoň galerie balíčků `matplotlib` a `seaborn`.\n",
    "\n",
    "## Poznámky k odevzdání\n",
    "\n",
    "  * Řiďte se pokyny ze stránky https://courses.fit.cvut.cz/BI-VZD/homeworks/index.html.\n",
    "  * Odevzdejte Jupyter Notebook (příp. doplněn skripty), ale i soubor(y) se staženými daty (ať opravující nemusí stahovat data).\n",
    "  * Opravující Vám může umožnit úkol dodělat či opravit a získat tak další body. První verze je ale důležitá a bude-li odbytá, budete za to penalizováni."
   ]
  },
  {
   "cell_type": "code",
   "execution_count": 1,
   "metadata": {},
   "outputs": [],
   "source": [
    "import pandas as pd\n",
    "from dateutil import parser\n",
    "import time\n",
    "import matplotlib.pyplot as plt\n",
    "import numpy as np\n",
    "import matplotlib.patches as mpatches\n",
    "from matplotlib.pyplot import figure"
   ]
  },
  {
   "cell_type": "code",
   "execution_count": 2,
   "metadata": {},
   "outputs": [],
   "source": [
    "PARTIES = {'ANO', 'ODS', 'Piráti', 'SPD', 'ČSSD', 'KSČM', 'KDU-ČSL', 'TOP09', 'STAN', 'Nezařaz'}\n",
    "USE_PRECALCULED = True # Some of the tasks runs for quite a while (up to 30 minutes), use precalculed values instead\n",
    "df_r = pd.read_csv('res.csv').sort_values(by=['HlasovaniId'])"
   ]
  },
  {
   "cell_type": "markdown",
   "metadata": {},
   "source": [
    "## Přebíhání mezi jednotlivými stranami"
   ]
  },
  {
   "cell_type": "code",
   "execution_count": 3,
   "metadata": {},
   "outputs": [],
   "source": [
    "def get_mof_left(hlasovaniId, prichozi, strana, df):\n",
    "    hlasovani = df[df['HlasovaniId'] == hlasovaniId]\n",
    "    hlasovani_prev = df[df['HlasovaniId'] == hlasovaniId - 1]\n",
    "    res_left = hlasovani[['Strana', 'Jmeno']].merge(hlasovani_prev[['Strana', 'Jmeno']],indicator = True, how='left').loc[lambda x : x['_merge']!='both']\n",
    "    res_right = hlasovani[['Strana', 'Jmeno']].merge(hlasovani_prev[['Strana', 'Jmeno']],indicator = True, how='right').loc[lambda x : x['_merge']!='both'] \n",
    "    for l, r in zip(res_left.iterrows(), res_right.iterrows()):\n",
    "        if l[1]['Jmeno'] == prichozi:\n",
    "            print('Odchod {0} z {1}'.format(r[1]['Jmeno'], r[1]['Strana']))\n",
    "            LEFT[r[1]['Strana']] += 1\n",
    "    "
   ]
  },
  {
   "cell_type": "code",
   "execution_count": 4,
   "metadata": {},
   "outputs": [],
   "source": [
    "def get_all_changes():\n",
    "    # Get initial state\n",
    "    mof_party = dict()\n",
    "    for _, row in df_r[df_r['HlasovaniId'] == 67018].iterrows():\n",
    "        mof_party[row['Jmeno']] = row['Strana']\n",
    "    df_r_g = df_r.groupby(['Jmeno']).apply(lambda x: (x[x.Strana.ne(x.Strana.shift())])).reset_index(level=0, drop=True).sort_values(by=['Datum'])\n",
    "    df_r_g = df_r_g[df_r_g['HlasovaniId'] != 67018]\n",
    "\n",
    "    for _, row in df_r_g.iterrows():\n",
    "        get_mof_left(row['HlasovaniId'], row['Jmeno'], row['Strana'], df_r)\n",
    "        if row['Jmeno'] in mof_party.keys():\n",
    "            prev = mof_party[row['Jmeno']]\n",
    "            print('Přechod {0} z {1} do {2} {3}'.format(row['Jmeno'], mof_party[row['Jmeno']], row['Strana'], row['Datum']))\n",
    "            LEFT[mof_party[row['Jmeno']]] += 1\n",
    "            CAME[row['Strana']] += 1\n",
    "        else:\n",
    "            print('Příchod {0} do {1} {2}'.format(row['Jmeno'], row['Strana'], row['Datum']))\n",
    "            CAME[row['Strana']] += 1\n",
    "        mof_party[row['Jmeno']] = row['Strana']\n",
    "        print()"
   ]
  },
  {
   "cell_type": "markdown",
   "metadata": {},
   "source": [
    "### Všechny změny"
   ]
  },
  {
   "cell_type": "code",
   "execution_count": 5,
   "metadata": {
    "scrolled": true
   },
   "outputs": [
    {
     "name": "stdout",
     "output_type": "stream",
     "text": [
      "Odchod Jiří Hlavatý z ANO\n",
      "Příchod Eva Matyášová do ANO 2017-11-28 14:08:00\n",
      "\n",
      "Odchod Martin Půta z STAN\n",
      "Příchod Petr Pávek do STAN 2017-11-28 14:08:00\n",
      "\n",
      "Odchod Jaroslava Pokorná Jermanová z ANO\n",
      "Příchod Milan Pour do ANO 2017-11-28 14:08:00\n",
      "\n",
      "Odchod Martin Stropnický z ANO\n",
      "Příchod Petr Venhoda do ANO 2018-02-10 14:20:00\n",
      "\n",
      "Odchod Vladimír Koníček z KSČM\n",
      "Příchod Marie Pěnčíková do KSČM 2018-04-12 16:14:00\n",
      "\n",
      "Odchod Robert Pelikán z ANO\n",
      "Příchod Monika Červíčková do ANO 2018-06-26 14:07:00\n",
      "\n",
      "Odchod Bohuslav Sobotka z ČSSD\n",
      "Příchod Roman Sklenák do ČSSD 2018-10-04 14:06:00\n",
      "\n",
      "Odchod Václav Klaus z ODS\n",
      "Přechod Ivana Nevludová z SPD do Nezařaz 2019-03-26 14:07:00\n",
      "\n",
      "Odchod Marian Bojko z SPD\n",
      "Přechod Václav Klaus z ODS do Nezařaz 2019-03-26 14:07:00\n",
      "\n",
      "Odchod Ivana Nevludová z SPD\n",
      "Přechod Lubomír Volný z SPD do Nezařaz 2019-03-26 14:07:00\n",
      "\n",
      "Odchod Lubomír Volný z SPD\n",
      "Přechod Marian Bojko z SPD do Nezařaz 2019-03-26 14:07:00\n",
      "\n",
      "Odchod Dan Ťok z ANO\n",
      "Příchod Iva Kalátová do ANO 2019-04-16 14:09:00\n",
      "\n",
      "Odchod Milan Chovanec z ČSSD\n",
      "Příchod Václav Votava do ČSSD 2019-04-16 14:09:00\n",
      "\n",
      "Odchod Zuzana Majerová Zahradníková z ODS\n",
      "Přechod Zuzana Majerová Zahradníková z ODS do Nezařaz 2019-04-23 14:25:00\n",
      "\n",
      "Odchod Mikuláš Peksa z Piráti\n",
      "Příchod František Navrkal do Piráti 2019-07-06 09:15:00\n",
      "\n",
      "Odchod Veronika Vrecionová z ODS\n",
      "Příchod Petr Bendl do ODS 2019-09-07 14:07:00\n",
      "\n",
      "Odchod Radka Maxová z ANO\n",
      "Příchod Ondřej Babka do ANO 2019-09-07 14:07:00\n",
      "\n",
      "Odchod Jaroslav Foldyna z Nezařaz\n",
      "Přechod Jaroslav Foldyna z ČSSD do SPD 2020-07-04 10:02:00\n",
      "\n",
      "Odchod Petr Vrána z ANO\n",
      "Příchod Irena Blažková do ANO 2020-08-19 10:06:00\n",
      "\n",
      "Odchod Tereza Hyťhová z SPD\n",
      "Přechod Tereza Hyťhová z SPD do Nezařaz 2020-08-19 10:06:00\n",
      "\n",
      "Odchod Jaroslav Foldyna z ČSSD\n",
      "Přechod Jaroslav Foldyna z SPD do Nezařaz nan\n",
      "\n"
     ]
    }
   ],
   "source": [
    "CAME = dict()\n",
    "LEFT = dict()\n",
    "for i in PARTIES:\n",
    "    CAME[i] = 0\n",
    "    LEFT[i] = 0\n",
    "get_all_changes()"
   ]
  },
  {
   "cell_type": "markdown",
   "metadata": {},
   "source": [
    "### Odchody versus příchody v jednotlivých stranách"
   ]
  },
  {
   "cell_type": "code",
   "execution_count": 6,
   "metadata": {},
   "outputs": [
    {
     "data": {
      "image/png": "[encoded data removed]",
      "text/plain": [
       "<Figure size 432x288 with 1 Axes>"
      ]
     },
     "metadata": {
      "needs_background": "light"
     },
     "output_type": "display_data"
    }
   ],
   "source": [
    "w = 0\n",
    "down_legend = []\n",
    "patches = list()\n",
    "patches.append(mpatches.Patch(color='red', label='odchozi'))\n",
    "patches.append(mpatches.Patch(color='green', label='prichozi'))\n",
    "\n",
    "for i in PARTIES:   \n",
    "    plt.bar(w+5, CAME[i], 5, color='green')\n",
    "    plt.bar(w, LEFT[i], 5, color = 'red')\n",
    "    w += 15\n",
    "    \n",
    "x_pos = [i*15for i, _ in enumerate(PARTIES)]    \n",
    "plt.legend(handles=patches)\n",
    "plt.xticks(x_pos,PARTIES, rotation=20)\n",
    "plt.show()"
   ]
  },
  {
   "cell_type": "markdown",
   "metadata": {},
   "source": [
    "## Docházka na hlasování\n",
    "### Jednotliví poslanci"
   ]
  },
  {
   "cell_type": "code",
   "execution_count": 22,
   "metadata": {},
   "outputs": [],
   "source": [
    "df_r_g = df_r.groupby(['Jmeno', 'Hlas'], as_index=False)['Strana'].count()\n",
    "res = dict()\n",
    "for _, r in df_r_g.iterrows():\n",
    "    if not r['Jmeno'] in res.keys():\n",
    "        res[r['Jmeno']] = (0,0)\n",
    "    if r['Hlas'] in ['excused', 'not-logged-in']:\n",
    "        res[r['Jmeno']] = (res[r['Jmeno']][0] + r['Strana'], res[r['Jmeno']][1])\n",
    "    res[r['Jmeno']] = (res[r['Jmeno']][0], res[r['Jmeno']][1] + r['Strana'])\n",
    "\n",
    "df_outliers = pd.DataFrame(columns=['Jmeno', 'Dochazka'])\n",
    "    \n",
    "for r in res.keys():\n",
    "    p = round(100 - res[r][0]*100 / res[r][1], 2)\n",
    "    df_outliers = df_outliers.append({'Jmeno' : r, 'Dochazka' : p}, ignore_index=True)\n",
    "    \n",
    "df_outliers = df_outliers.sort_values(by='Dochazka', ascending=False)"
   ]
  },
  {
   "cell_type": "markdown",
   "metadata": {},
   "source": [
    "### 10 nejvzornějších"
   ]
  },
  {
   "cell_type": "code",
   "execution_count": 27,
   "metadata": {},
   "outputs": [
    {
     "name": "stdout",
     "output_type": "stream",
     "text": [
      "Jiří Hlavatý ma 100.0% dochazku na hlasovani v PS.\n",
      "Martin Půta ma 100.0% dochazku na hlasovani v PS.\n",
      "Radek Rozvoral ma 99.58% dochazku na hlasovani v PS.\n",
      "Lukáš Bartoň ma 99.54% dochazku na hlasovani v PS.\n",
      "Miloslav Rozner ma 99.39% dochazku na hlasovani v PS.\n",
      "Roman Kubíček ma 99.07% dochazku na hlasovani v PS.\n",
      "Stanislav Berkovec ma 98.62% dochazku na hlasovani v PS.\n",
      "Ondřej Babka ma 98.62% dochazku na hlasovani v PS.\n",
      "Marek Novák ma 98.46% dochazku na hlasovani v PS.\n",
      "Tomáš Martínek ma 98.13% dochazku na hlasovani v PS.\n"
     ]
    }
   ],
   "source": [
    "for _, r in df_outliers.head(10).iterrows():\n",
    "    print('{0} ma {1}% dochazku na hlasovani v PS.'.format(r['Jmeno'], r['Dochazka']))"
   ]
  },
  {
   "cell_type": "markdown",
   "metadata": {},
   "source": [
    "### 10 nejmíň vzorných"
   ]
  },
  {
   "cell_type": "code",
   "execution_count": 28,
   "metadata": {},
   "outputs": [
    {
     "name": "stdout",
     "output_type": "stream",
     "text": [
      "Andrej Babiš ma 25.22% dochazku na hlasovani v PS.\n",
      "Karel Schwarzenberg ma 31.21% dochazku na hlasovani v PS.\n",
      "Martin Stropnický ma 39.66% dochazku na hlasovani v PS.\n",
      "Jana Levová ma 39.96% dochazku na hlasovani v PS.\n",
      "Milan Chovanec ma 45.14% dochazku na hlasovani v PS.\n",
      "Jan Hamáček ma 46.57% dochazku na hlasovani v PS.\n",
      "Petr Pávek ma 49.54% dochazku na hlasovani v PS.\n",
      "Bohuslav Sobotka ma 52.82% dochazku na hlasovani v PS.\n",
      "Antonín Staněk ma 55.95% dochazku na hlasovani v PS.\n",
      "Lubomír Zaorálek ma 58.7% dochazku na hlasovani v PS.\n"
     ]
    }
   ],
   "source": [
    "for _, r in df_outliers.sort_values(by='Dochazka').head(10).iterrows():\n",
    "    print('{0} ma {1}% dochazku na hlasovani v PS.'.format(r['Jmeno'], r['Dochazka']))"
   ]
  },
  {
   "cell_type": "markdown",
   "metadata": {},
   "source": [
    "## Strany jako celek"
   ]
  },
  {
   "cell_type": "code",
   "execution_count": 29,
   "metadata": {},
   "outputs": [
    {
     "data": {
      "image/png": "[encoded data removed]",
      "text/plain": [
       "<Figure size 432x288 with 1 Axes>"
      ]
     },
     "metadata": {
      "needs_background": "light"
     },
     "output_type": "display_data"
    }
   ],
   "source": [
    "df_r_g = df_r.groupby(['Strana', 'Hlas'], as_index=False).count()\n",
    "res = dict()\n",
    "for _, r in df_r_g.iterrows():\n",
    "    if not r['Strana'] in res.keys():\n",
    "        res[r['Strana']] = (0,0)\n",
    "    if r['Hlas'] in ['excused', 'not-logged-in']:\n",
    "        res[r['Strana']] = (res[r['Strana']][0] + r['HlasovaniId'], res[r['Strana']][1])\n",
    "    res[r['Strana']] = (res[r['Strana']][0], res[r['Strana']][1] + r['HlasovaniId'])\n",
    "    \n",
    "    \n",
    "w = 0\n",
    "for r in sorted(res.keys()):\n",
    "    perc = round(100 - res[r][0]*100 / res[r][1], 2)\n",
    "    plt.bar(w, perc, 5)   \n",
    "    w += 10\n",
    "    \n",
    "    \n",
    "x_pos = [i*10 for i, _ in enumerate(sorted(PARTIES))]    \n",
    "plt.xticks(x_pos,PARTIES, rotation=20)\n",
    "plt.title('Docházka jednotlivých stran na hlasování v PS v %')\n",
    "plt.show()"
   ]
  },
  {
   "cell_type": "markdown",
   "metadata": {},
   "source": [
    "## Společné hlasování stran"
   ]
  },
  {
   "cell_type": "code",
   "execution_count": 30,
   "metadata": {},
   "outputs": [],
   "source": [
    "if not USE_PRECALCULED:  # Can take up to 30 minutes.\n",
    "    df_r_g = df_r.groupby(['Strana', 'Hlas', 'HlasovaniId'], as_index=False).count()\n",
    "    mask = (df_r_g['Hlas'] == 'yes') | (df_r_g['Hlas'] == 'no')\n",
    "    per_voting_per_party_res = df_r_g[mask].sort_values(by='HlasovaniId').groupby(['Strana', 'HlasovaniId'], as_index=False).max()\n",
    "    x = per_voting_per_party_res.sort_values(by='HlasovaniId')\n",
    "    res = pd.DataFrame(columns=['S1', 'S2'])\n",
    "    hId = None\n",
    "    tmp = []\n",
    "    for _, r in x.iterrows():\n",
    "        if r['HlasovaniId'] != hId:\n",
    "            tmp = []\n",
    "        hId = r['HlasovaniId']\n",
    "        for i in tmp:\n",
    "            if i[1] == r['Hlas']:\n",
    "                res= res.append({'S1' : i[0], 'S2' : r['Strana']}, ignore_index = True)\n",
    "                res= res.append({'S1' : r['Strana'], 'S2' : i[0]}, ignore_index = True)\n",
    "        tmp.append((r['Strana'], r['Hlas']))\n",
    "    print(res)\n",
    "else:\n",
    "    res = pd.read_csv('party_to_party.csv')"
   ]
  },
  {
   "cell_type": "code",
   "execution_count": 31,
   "metadata": {},
   "outputs": [
    {
     "data": {
      "image/png": "[encoded data removed]",
      "text/plain": [
       "<Figure size 432x288 with 1 Axes>"
      ]
     },
     "metadata": {
      "needs_background": "light"
     },
     "output_type": "display_data"
    }
   ],
   "source": [
    "plt.scatter('S1', 'S2', data=res.sample(n=3000), s=500, alpha=0.01)\n",
    "plt.title('Společná hlasování jednotlivých stran v PS')\n",
    "plt.show()"
   ]
  },
  {
   "cell_type": "markdown",
   "metadata": {},
   "source": [
    "## Odlehlost hlasování v rámci strany"
   ]
  },
  {
   "cell_type": "code",
   "execution_count": 11,
   "metadata": {},
   "outputs": [],
   "source": [
    "if not USE_PRECALCULED:\n",
    "    df_r_g = df_r.groupby(['Strana', 'Hlas', 'HlasovaniId'], as_index=False).count()\n",
    "    mask = (df_r_g['Hlas'] == 'yes') | (df_r_g['Hlas'] == 'no')\n",
    "    per_voting_per_party_res = df_r_g[mask].sort_values(by=['HlasovaniId', 'Strana'])\n",
    "    res = pd.DataFrame(columns=['Strana', 'MinMajRate', 'HlasovaniId'])\n",
    "    prev_party = None\n",
    "    prev_voting_id = None\n",
    "    prev_count = 0\n",
    "    for _,r in per_voting_per_party_res.iterrows():\n",
    "        curr_party = r['Strana']\n",
    "        if prev_party == curr_party and prev_voting_id == r['HlasovaniId']:\n",
    "            rate = prev_count / r['Jmeno'] if prev_count < r['Jmeno'] else r['Jmeno'] / prev_count\n",
    "            res= res.append({'Strana' : curr_party, 'MinMajRate' : rate, 'HlasovaniId' : r['HlasovaniId']}, ignore_index = True)\n",
    "        else:\n",
    "            res= res.append({'Strana' : curr_party, 'MinMajRate' : 0, 'HlasovaniId' : r['HlasovaniId']}, ignore_index = True)\n",
    "        prev_count = r['Jmeno']\n",
    "        prev_party = r['Strana']\n",
    "        prev_voting_id = r['HlasovaniId']\n",
    "else:\n",
    "    res = pd.read_csv('MinMajRare.csv')"
   ]
  },
  {
   "cell_type": "code",
   "execution_count": 12,
   "metadata": {},
   "outputs": [
    {
     "data": {
      "image/png": "[encoded data removed]",
      "text/plain": [
       "<Figure size 432x288 with 1 Axes>"
      ]
     },
     "metadata": {
      "needs_background": "light"
     },
     "output_type": "display_data"
    }
   ],
   "source": [
    "res = res.astype({\"MinMajRate\":'float'})\n",
    "grouped = res.groupby(['Strana'], as_index=False)['MinMajRate'].mean().sort_values(by='Strana')\n",
    "\n",
    "w = 0\n",
    "for _,r in grouped.iterrows():\n",
    "    plt.bar(w, r['MinMajRate'] * 100, 5)   \n",
    "    w += 10\n",
    "    \n",
    "    \n",
    "x_pos = [i*10 for i, _ in enumerate(sorted(PARTIES))]    \n",
    "plt.xticks(x_pos,PARTIES, rotation=20)\n",
    "plt.title('Prumerna odlehlost v rámci strany na hlasování v PS v %')\n",
    "plt.show()"
   ]
  },
  {
   "cell_type": "markdown",
   "metadata": {},
   "source": [
    "## Největší rebelové"
   ]
  },
  {
   "cell_type": "code",
   "execution_count": 13,
   "metadata": {},
   "outputs": [],
   "source": [
    "if not USE_PRECALCULED:\n",
    "    df_r_g = df_r.groupby(['Strana', 'Hlas', 'HlasovaniId'], as_index=False).count()\n",
    "    mask = (df_r_g['Hlas'] == 'yes') | (df_r_g['Hlas'] == 'no')\n",
    "    per_voting_per_party_res = df_r_g[mask].sort_values(by='HlasovaniId').groupby(['Strana', 'HlasovaniId'], as_index=False).max()\n",
    "    party_res_dict = dict()\n",
    "    for _,r in per_voting_per_party_res.iterrows():\n",
    "        party_res_dict[(r['HlasovaniId'], r['Strana'])] = r['Hlas']\n",
    "\n",
    "    outlier_dict = dict()\n",
    "    for _,r in df_r.iterrows():\n",
    "        if (r['Hlas'] == 'yes' or r['Hlas'] == 'no'):\n",
    "            party_res = party_res_dict[(r['HlasovaniId'], r['Strana'])]\n",
    "            if party_res != r['Hlas']: \n",
    "                if r['Jmeno'] in outlier_dict.keys():\n",
    "                    outlier_dict[r['Jmeno']] += 1\n",
    "                else:\n",
    "                    outlier_dict[r['Jmeno']] = 1\n",
    "    outliers = pd.DataFrame(columns=['Name', 'Cnt'])\n",
    "    for i in outlier_dict.keys():\n",
    "        outliers = outliers.append({'Name' : i, 'Cnt' : outlier_dict[i]}, ignore_index=True)\n",
    "else:\n",
    "    outliers = pd.read_csv('outliers.csv')"
   ]
  },
  {
   "cell_type": "code",
   "execution_count": 17,
   "metadata": {},
   "outputs": [
    {
     "name": "stdout",
     "output_type": "stream",
     "text": [
      "Milan Feranec hlasoval proti své straně 450x\n",
      "Marek Novák hlasoval proti své straně 431x\n",
      "Karel Rais hlasoval proti své straně 423x\n",
      "Jaroslav Kytýr hlasoval proti své straně 421x\n",
      "Stanislav Berkovec hlasoval proti své straně 417x\n",
      "Věra Procházková hlasoval proti své straně 405x\n",
      "František Petrtýl hlasoval proti své straně 401x\n",
      "Jiří Strýček hlasoval proti své straně 399x\n",
      "Marcela Melková hlasoval proti své straně 397x\n",
      "Pavel Růžička hlasoval proti své straně 397x\n"
     ]
    }
   ],
   "source": [
    "for _,r in outliers.sort_values(by='Cnt', ascending=False).head(10).iterrows():\n",
    "    print('{0} hlasoval proti své straně {1}x'.format(r['Name'], r['Cnt']))"
   ]
  }
 ],
 "metadata": {
  "kernelspec": {
   "display_name": "Python 3",
   "language": "python",
   "name": "python3"
  },
  "language_info": {
   "codemirror_mode": {
    "name": "ipython",
    "version": 3
   },
   "file_extension": ".py",
   "mimetype": "text/x-python",
   "name": "python",
   "nbconvert_exporter": "python",
   "pygments_lexer": "ipython3",
   "version": "3.7.3"
  }
 },
 "nbformat": 4,
 "nbformat_minor": 4
}
