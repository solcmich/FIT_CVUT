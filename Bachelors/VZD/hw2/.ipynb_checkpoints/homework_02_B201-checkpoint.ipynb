{
 "cells": [
  {
   "cell_type": "markdown",
   "metadata": {},
   "source": [
    "# Úkol č. 2 - předzpracování dat a binární klasifikace (do 9. listopadu 23:59)\n",
    "\n",
    "  * V rámci tohoto úkolu se musíte vypořádat s příznaky, které jsou různých typů.\n",
    "  * Před tím, než na nich postavíte predikční model, je třeba je nějakým způsobem převést do číselné reprezentace.\n",
    "    \n",
    "> **Úkoly jsou zadány tak, aby Vám daly prostor pro invenci. Vymyslet _jak přesně_ budete úkol řešit, je důležitou součástí zadání a originalita či nápaditost bude také hodnocena!**\n",
    "\n",
    "## Zdroj dat\n",
    "\n",
    "Budeme se zabývat predikcí přežití pasažérů Titaniku.\n",
    "K dispozici máte trénovací data v souboru **data.csv** a data na vyhodnocení v souboru **evaluation.csv**.\n",
    "\n",
    "#### Seznam příznaků:\n",
    "* survived - zda přežil, 0 = Ne, 1 = Ano, **vysvětlovaná proměnná**, kterou chcete predikovat\n",
    "* pclass - Třída lodního lístku, 1 = první, 2 = druhá, 3 = třetí\n",
    "* name - jméno\n",
    "* sex - pohlaví\n",
    "* age - věk v letech\n",
    "* sibsp\t- počet sourozenců / manželů, manželek na palubě\n",
    "* parch - počet rodičů / dětí na palubě\n",
    "* ticket - číslo lodního lístku\n",
    "* fare - cena lodního lístku\n",
    "* cabin\t- číslo kajuty\n",
    "* embarked\t- místo nalodění, C = Cherbourg, Q = Queenstown, S = Southampton\n",
    "* home.dest - Bydliště/Cíl\n",
    "\n",
    "## Pokyny k vypracování\n",
    "\n",
    "**Základní body zadání**, za jejichž (poctivé) vypracování získáte **8 bodů**:\n",
    "  * V Jupyter notebooku načtěte data ze souboru **data.csv**. Vhodným způsobem si je rozdělte na podmnožiny vhodné k trénování modelu.\n",
    "  * Projděte si jednotlivé příznaky a transformujte je do vhodné podoby pro použití ve vybraném klasifikačním modelu.\n",
    "  * Podle potřeby si můžete vytvářet nové příznaky (na základě existujících), například tedy můžete vytvořit příznak měřící délku jména. Některé příznaky můžete také úplně zahodit.\n",
    "  * Nějakým způsobem se vypořádejte s chybějícími hodnotami.\n",
    "  * Následně si vyberte vhodný klasifikační model z přednášek. Najděte vhodné hyperparametry a určete jeho přesnost (accuracy) na trénovací množině. Také určete jeho přesnost na testovací množině.\n",
    "  * Načtěte vyhodnocovací data ze souboru **evaluation.csv**. Napočítejte predikce pro tyto data (vysvětlovaná proměnná v nich již není). Vytvořte **results.csv** soubor, ve kterém tyto predikce uložíte do dvou sloupců: ID, predikce přežití. Tento soubor nahrajte do repozitáře.\n",
    "  * Ukázka prvních řádků souboru *results.csv*:\n",
    "  \n",
    "```\n",
    "ID,survived\n",
    "1000,0\n",
    "1001,1\n",
    "...\n",
    "```\n",
    "\n",
    "**Další body zadání** za případné další body  (můžete si vybrat, maximum bodů za úkol je každopádně 12 bodů):\n",
    "  * (až +4 body) Aplikujte všechny klasifikační modely z přednášek a určete (na základě přesnosti na validační množině), který je nejlepší. Přesnost tohoto nejlepšího modelu odhadněte pomocí křížové validace. K predikcím na vyhodnocovacích datech využijte tento model.\n",
    "  * (až +4 body) Zkuste použít nějaké (alespoň dvě) netriviální metody doplňování chybějících hodnot u věku. Zaměřte na vliv těchto metod na přesnost predikce výsledného modelu. K predikcím na vyhodnocovacích datech využijte ten přístup, který Vám vyjde jako nejlepší.\n",
    "\n",
    "## Poznámky k odevzdání\n",
    "\n",
    "  * Řiďte se pokyny ze stránky https://courses.fit.cvut.cz/BI-VZD/homeworks/index.html.\n",
    "  * Odevzdejte nejen Jupyter Notebook, ale i _csv_ soubor s predikcemi pro vyhodnocovací data (`results.csv`).\n",
    "  * Opravující Vám může umožnit úkol dodělat či opravit a získat tak další body. První verze je ale důležitá a bude-li odbytá, budete za to penalizováni**"
   ]
  },
  {
   "cell_type": "code",
   "execution_count": 524,
   "metadata": {},
   "outputs": [],
   "source": [
    "import pandas as pd\n",
    "import re\n",
    "import matplotlib.pyplot as plt\n",
    "import numpy as np\n",
    "df = pd.read_csv('data.csv')"
   ]
  },
  {
   "cell_type": "markdown",
   "metadata": {},
   "source": [
    "## Podpůrné funkce"
   ]
  },
  {
   "cell_type": "code",
   "execution_count": 525,
   "metadata": {},
   "outputs": [],
   "source": [
    "# Normalize dataframe values for classification\n",
    "def get_scaled_df(df):\n",
    "    from sklearn.preprocessing import MinMaxScaler\n",
    "    scaler = MinMaxScaler()\n",
    "    return pd.DataFrame(scaler.fit_transform(df), columns = df.columns)\n",
    "\n",
    "# Revert age normalization\n",
    "def invert_age(df, min_age, max_age):\n",
    "    df['age'] = df['age']*(max_age-min_age) + min_age\n",
    "    return df\n",
    "\n",
    "# Scikit approach to fill nulls by KNN imputation\n",
    "def fill_nulls_knn(df):\n",
    "    from sklearn.impute import KNNImputer\n",
    "    imputer = KNNImputer(n_neighbors=5)\n",
    "    return pd.DataFrame(imputer.fit_transform(df),columns = df.columns)\n",
    "\n",
    "# Custom aproach to fill nulls in age feature\n",
    "def fill_nulls_dist(df, origin):\n",
    "    df['age'] = df['age'].map(lambda l: l if not np.isnan(l) else np.random.choice(origin))\n",
    "    return df"
   ]
  },
  {
   "cell_type": "markdown",
   "metadata": {},
   "source": [
    "## Přidání příznaků\n",
    "Přidání titulu"
   ]
  },
  {
   "cell_type": "code",
   "execution_count": 526,
   "metadata": {},
   "outputs": [],
   "source": [
    "def add_title(df):\n",
    "    titles_regex = {'(.*Mr\\..*)' : 'Mr','(.*Dr\\..*)' : 'Dr', '(.*Mrs\\..*)' : 'Mrs' , '(.*Miss\\..*)' : 'Miss', '(.*Master\\..*)' : 'Master'}\n",
    "    def l(x):\n",
    "        for k in titles_regex.keys():\n",
    "            reg = re.compile(k)\n",
    "            match = reg.search(x['name'])\n",
    "            if match is not None:\n",
    "                return titles_regex[k]\n",
    "        return None\n",
    "    df['title'] = df.apply(lambda x: l(x), axis=1)\n",
    "    return df"
   ]
  },
  {
   "cell_type": "code",
   "execution_count": 527,
   "metadata": {},
   "outputs": [],
   "source": [
    "df = add_title(df)"
   ]
  },
  {
   "cell_type": "markdown",
   "metadata": {},
   "source": [
    "## Transormace příznaků\n",
    "Budu zkoušet 2 různé přístupy. První je transofrmace příznaků pomocí číselných kategorií. Tento přístup bych rád porovnal s metodou \"one hot encoding\"."
   ]
  },
  {
   "cell_type": "markdown",
   "metadata": {},
   "source": [
    "## Zbavení se příznaků\n",
    "Zbavíme se příznaků, které mají více než 40% chybějících hodnot a příznaků, které nemají pro klasifikaci význam."
   ]
  },
  {
   "cell_type": "code",
   "execution_count": 528,
   "metadata": {},
   "outputs": [
    {
     "name": "stdout",
     "output_type": "stream",
     "text": [
      "cabin 774\n",
      "home.dest 446\n"
     ]
    }
   ],
   "source": [
    "for c in df.columns:\n",
    "    nulls = df[c].isna().sum()\n",
    "    if nulls > 400:\n",
    "        print(c, nulls)\n",
    "        df.pop(c)\n",
    "to_drop = ['ticket', 'name', 'ID']\n",
    "df.drop(to_drop, axis=1, inplace=True)\n",
    "df_categories = df.copy()"
   ]
  },
  {
   "cell_type": "code",
   "execution_count": 529,
   "metadata": {},
   "outputs": [],
   "source": [
    "df_dummies = df.copy()\n",
    "cols = df_dummies[['embarked', 'sex', 'title', 'pclass']]\n",
    "df_dummies = pd.get_dummies(df_dummies, columns=['embarked', 'sex', 'title', 'pclass'])"
   ]
  },
  {
   "cell_type": "code",
   "execution_count": 530,
   "metadata": {},
   "outputs": [],
   "source": [
    "df_categories['embarked'] = df['embarked'].astype('category').cat.codes\n",
    "df_categories['sex'] = df['sex'].astype('category').cat.codes\n",
    "df_categories['title'] = df['title'].astype('category').cat.codes\n",
    "df_categories['pclass'] = df['pclass'].astype('category').cat.codes"
   ]
  },
  {
   "cell_type": "markdown",
   "metadata": {},
   "source": [
    "## Chybějící hondoty\n",
    "Budeme doplnovat chybějící hodnoty to featury age, nejprve pomocí KNN imputace a poté pomocí takové funkce, aby byla zachována distribuce věků."
   ]
  },
  {
   "cell_type": "markdown",
   "metadata": {},
   "source": [
    "### KNN imputation"
   ]
  },
  {
   "cell_type": "code",
   "execution_count": 531,
   "metadata": {},
   "outputs": [],
   "source": [
    "max_age = df_dummies['age'].max()\n",
    "min_age = df_dummies['age'].min()\n",
    "null_mask = df_dummies['age'].isnull()"
   ]
  },
  {
   "cell_type": "code",
   "execution_count": 532,
   "metadata": {},
   "outputs": [],
   "source": [
    "df_dummies_knn = invert_age(fill_nulls(get_scaled_df(df_dummies)), max_age, min_age)\n",
    "df_categories_knn = invert_age(fill_nulls(get_scaled_df(df_categories)), max_age, min_age)"
   ]
  },
  {
   "cell_type": "code",
   "execution_count": 533,
   "metadata": {},
   "outputs": [
    {
     "data": {
      "image/png": "[encoded data removed]",
      "text/plain": [
       "<Figure size 432x288 with 1 Axes>"
      ]
     },
     "metadata": {
      "needs_background": "light"
     },
     "output_type": "display_data"
    },
    {
     "data": {
      "image/png": "[encoded data removed]",
      "text/plain": [
       "<Figure size 432x288 with 1 Axes>"
      ]
     },
     "metadata": {
      "needs_background": "light"
     },
     "output_type": "display_data"
    }
   ],
   "source": [
    "plt.hist(df_dummies_knn[null_mask]['age'], bins=10)\n",
    "plt.title('Imputed vals to df_dummies histogram')\n",
    "plt.show()\n",
    "plt.hist(df_categories_knn[null_mask]['age'], bins=10)\n",
    "plt.title('Imputed vals to df_categories histogram')\n",
    "plt.show()"
   ]
  },
  {
   "cell_type": "markdown",
   "metadata": {},
   "source": [
    "### \"Distribution\" imputation\n",
    "Doplníme věk tak, že bude mít stejnou distribuci hodnot jako původní množina věků, která neobsahuje hodnoty \"NaN\"."
   ]
  },
  {
   "cell_type": "code",
   "execution_count": 534,
   "metadata": {},
   "outputs": [],
   "source": [
    "df_dummies_dist = df_dummies.copy()\n",
    "df_dummies_dist = fill_nulls_dist(df_dummies_dist, df['age'].dropna())\n",
    "\n",
    "df_cat_dist = df_categories.copy()\n",
    "df_cat_dist = fill_nulls_dist(df_cat_dist, df['age'].dropna())"
   ]
  },
  {
   "cell_type": "code",
   "execution_count": 535,
   "metadata": {},
   "outputs": [
    {
     "data": {
      "image/png": "[encoded data removed]",
      "text/plain": [
       "<Figure size 432x288 with 1 Axes>"
      ]
     },
     "metadata": {
      "needs_background": "light"
     },
     "output_type": "display_data"
    },
    {
     "data": {
      "image/png": "[encoded data removed]",
      "text/plain": [
       "<Figure size 432x288 with 1 Axes>"
      ]
     },
     "metadata": {
      "needs_background": "light"
     },
     "output_type": "display_data"
    }
   ],
   "source": [
    "plt.hist(df_dummies_dist[null_mask]['age'], bins=10)\n",
    "plt.title('Imputed age distribution')\n",
    "plt.show()\n",
    "\n",
    "plt.hist(df_origin[~null_mask]['age'], bins=10)\n",
    "plt.title('Original age distribution')\n",
    "plt.show()"
   ]
  },
  {
   "cell_type": "markdown",
   "metadata": {},
   "source": [
    "Vidíme, že distribuce je "
   ]
  },
  {
   "cell_type": "markdown",
   "metadata": {},
   "source": [
    "## Výběr klasifikátoru"
   ]
  },
  {
   "cell_type": "code",
   "execution_count": 536,
   "metadata": {},
   "outputs": [],
   "source": [
    "from sklearn import tree\n",
    "from sklearn import svm\n",
    "from sklearn.ensemble import RandomForestClassifier\n",
    "from sklearn.model_selection import cross_val_score\n",
    "from sklearn.neighbors import KNeighborsClassifier\n",
    "from sklearn.ensemble import AdaBoostClassifier\n",
    "from sklearn.linear_model import LinearRegression\n",
    "from sklearn.preprocessing import MinMaxScaler\n",
    "from sklearn.naive_bayes import GaussianNB\n",
    "from sklearn import metrics\n",
    "from sklearn import model_selection\n",
    "scaler = MinMaxScaler()\n",
    "df_categories = pd.DataFrame(scaler.fit_transform(df_categories), columns = df_categories.columns)\n",
    "df_dummies = pd.DataFrame(scaler.fit_transform(df_dummies), columns = df_dummies.columns)"
   ]
  },
  {
   "cell_type": "code",
   "execution_count": 537,
   "metadata": {},
   "outputs": [],
   "source": [
    "def get_accuracy(df, calssifier):\n",
    "    X = df.drop('survived', axis=1)\n",
    "    Y = df['survived'].astype('int64')\n",
    "    score = cross_val_score(calssifier, X, Y)\n",
    "    return score.max(), score.min()"
   ]
  },
  {
   "cell_type": "code",
   "execution_count": 538,
   "metadata": {},
   "outputs": [
    {
     "name": "stdout",
     "output_type": "stream",
     "text": [
      "Decision tree has accuracy max 76.0% and min 70.5%, spread: 5.5\n",
      "Support vector machine has accuracy max 68.5% and min 64.5%, spread: 4.0\n",
      "Random forrest has accuracy max 81.5% and min 74.5%, spread: 7.0\n",
      "KNN has accuracy max 68.5% and min 66.5%, spread: 2.0\n",
      "Ada boost has accuracy max 82.0% and min 74.5%, spread: 7.5\n",
      "Naive bayess has accuracy max 80.5% and min 71.0%, spread: 9.5\n",
      "\n",
      "Decision tree has accuracy max 79.0% and min 69.5%, spread: 9.5\n",
      "Support vector machine has accuracy max 68.5% and min 64.5%, spread: 4.0\n",
      "Random forrest has accuracy max 79.0% and min 75.0%, spread: 4.0\n",
      "KNN has accuracy max 67.5% and min 62.5%, spread: 5.0\n",
      "Ada boost has accuracy max 83.0% and min 74.5%, spread: 8.5\n",
      "Naive bayess has accuracy max 80.0% and min 71.5%, spread: 8.5\n",
      "\n",
      "Decision tree has accuracy max 82.5% and min 74.5%, spread: 8.0\n",
      "Support vector machine has accuracy max 61.0% and min 59.5%, spread: 1.5\n",
      "Random forrest has accuracy max 83.5% and min 75.0%, spread: 8.5\n",
      "KNN has accuracy max 79.5% and min 72.0%, spread: 7.5\n",
      "Ada boost has accuracy max 81.5% and min 76.5%, spread: 5.0\n",
      "Naive bayess has accuracy max 81.0% and min 72.0%, spread: 9.0\n",
      "\n",
      "Decision tree has accuracy max 77.5% and min 73.0%, spread: 4.5\n",
      "Support vector machine has accuracy max 61.0% and min 60.5%, spread: 0.5\n",
      "Random forrest has accuracy max 82.0% and min 76.0%, spread: 6.0\n",
      "KNN has accuracy max 78.0% and min 72.5%, spread: 5.5\n",
      "Ada boost has accuracy max 81.0% and min 75.5%, spread: 5.5\n",
      "Naive bayess has accuracy max 80.0% and min 69.5%, spread: 10.5\n",
      "\n"
     ]
    }
   ],
   "source": [
    "clf_tree = tree.DecisionTreeClassifier(), \"Decision tree\"\n",
    "clf_svm = svm.SVC(), 'Support vector machine'\n",
    "clf_forest = RandomForestClassifier(), 'Random forrest'\n",
    "clf_knn = KNeighborsClassifier(), 'KNN'\n",
    "clf_ada = AdaBoostClassifier(), 'Ada boost'\n",
    "gnb = GaussianNB(), 'Naive bayess'\n",
    "for d in [df_dummies_dist, df_cat_dist, df_dummies_knn, df_categories_knn]:\n",
    "    for c in [clf_tree, clf_svm, clf_forest, clf_knn, clf_ada, gnb]:\n",
    "        res = get_accuracy(d, c[0])\n",
    "        res_max = round(res[0]*100, 2)\n",
    "        res_min = round(res[1]*100, 2)\n",
    "        print('{0} has accuracy max {1}% and min {2}%, spread: {3}'.format(c[1], res_max , res_min, res_max-res_min))\n",
    "    print()"
   ]
  },
  {
   "cell_type": "markdown",
   "metadata": {},
   "source": [
    "Nejlepe vychází knn_dummies dataframe na decsion tree, pokračujme tedy s ním."
   ]
  },
  {
   "cell_type": "markdown",
   "metadata": {},
   "source": [
    "## Nalezení vhodných hypermaratemtrů pro decision tree na datech df_dummies_knn"
   ]
  },
  {
   "cell_type": "code",
   "execution_count": 539,
   "metadata": {},
   "outputs": [],
   "source": [
    "param_grid = {\n",
    "        'criterion': ['gini', 'entropy'],\n",
    "        'max_depth': range(5, 15),\n",
    "        'splitter': ['best', 'random'],\n",
    "        'min_samples_split': range(2, 8),\n",
    "        'min_samples_leaf': range(1, 8)\n",
    "    }"
   ]
  },
  {
   "cell_type": "code",
   "execution_count": 540,
   "metadata": {},
   "outputs": [
    {
     "name": "stdout",
     "output_type": "stream",
     "text": [
      "Přesnost na trénovací množině: 97%\n",
      "Přesnost na testovací množině: 82%\n",
      "Best hyperparameters for the model were:\n",
      "{'splitter': 'random', 'min_samples_split': 5, 'min_samples_leaf': 6, 'max_depth': 8, 'criterion': 'gini'} with accuracy 82 %\n"
     ]
    },
    {
     "data": {
      "text/plain": [
       "DecisionTreeClassifier(max_depth=8, min_samples_leaf=6, min_samples_split=5,\n",
       "                       splitter='random')"
      ]
     },
     "execution_count": 540,
     "metadata": {},
     "output_type": "execute_result"
    }
   ],
   "source": [
    "X = df_dummies_knn.drop('survived', axis=1)\n",
    "Y = df_dummies_knn['survived'].astype('int64')\n",
    "hparams = model_selection.ParameterGrid(param_grid)\n",
    "X_train, X_test, y_train, y_test = model_selection.train_test_split(X, Y, test_size=0.33)\n",
    "# getting accuracy of each parameter combination\n",
    "accuracies_train = []\n",
    "accuracies_test = []\n",
    "for x in hparams:\n",
    "    model_tmp = tree.DecisionTreeClassifier(**x)\n",
    "    # Accuracy on test\n",
    "    model_tmp.fit(X_train, y_train)\n",
    "    predicted = model_tmp.predict(X_test)\n",
    "    acc = metrics.accuracy_score(y_test, predicted)\n",
    "    accuracies_test.append(acc)\n",
    "    # Accuracy on train\n",
    "    model_tmp.fit(X, Y)\n",
    "    predicted = model_tmp.predict(X)\n",
    "    acc = metrics.accuracy_score(Y, predicted)\n",
    "    accuracies_train.append(acc)\n",
    "\n",
    "hparams_best_train = hparams[np.argmax(accuracies_train)]\n",
    "hparams_best_test = hparams[np.argmax(accuracies_test)]\n",
    "\n",
    "print(f'Přesnost na trénovací množině: {round(np.max(accuracies_train) * 100)}%')\n",
    "print(f'Přesnost na testovací množině: {round(np.max(accuracies_test) * 100)}%')\n",
    "\n",
    "print(f'Best hyperparameters for the model were:\\n{hparams_best_test} with accuracy {round(np.max(accuracies_test) * 100)} %')\n",
    "best_tree = tree.DecisionTreeClassifier(**hparams_best_test)\n",
    "best_tree.fit(X_train, y_train)"
   ]
  },
  {
   "cell_type": "markdown",
   "metadata": {},
   "source": [
    "## Predikce"
   ]
  },
  {
   "cell_type": "code",
   "execution_count": 545,
   "metadata": {},
   "outputs": [],
   "source": [
    "df = pd.read_csv('evaluation.csv')\n",
    "df_origin = df.copy()\n",
    "df_id = df.ID\n",
    "df = add_title(df)\n",
    "to_drop = ['ticket', 'name', 'ID', 'cabin', 'home.dest']\n",
    "df.drop(to_drop, axis=1, inplace=True)\n",
    "cols = df[['embarked', 'sex', 'title', 'pclass']]\n",
    "df = pd.get_dummies(df, columns=['embarked', 'sex', 'title', 'pclass'])\n",
    "max_age = df['age'].max()\n",
    "min_age = df['age'].min()\n",
    "df = invert_age(fill_nulls(get_scaled_df(df)), max_age, min_age)"
   ]
  },
  {
   "cell_type": "code",
   "execution_count": 546,
   "metadata": {},
   "outputs": [],
   "source": [
    "res = pd.DataFrame(columns=['ID', 'survived'])\n",
    "res['ID'] = df_origin.ID\n",
    "res['survived'] = best_tree.predict(df)"
   ]
  },
  {
   "cell_type": "code",
   "execution_count": 547,
   "metadata": {},
   "outputs": [],
   "source": [
    "res.to_csv('results.csv')"
   ]
  }
 ],
 "metadata": {
  "kernelspec": {
   "display_name": "Python 3",
   "language": "python",
   "name": "python3"
  },
  "language_info": {
   "codemirror_mode": {
    "name": "ipython",
    "version": 3
   },
   "file_extension": ".py",
   "mimetype": "text/x-python",
   "name": "python",
   "nbconvert_exporter": "python",
   "pygments_lexer": "ipython3",
   "version": "3.7.3"
  }
 },
 "nbformat": 4,
 "nbformat_minor": 4
}
