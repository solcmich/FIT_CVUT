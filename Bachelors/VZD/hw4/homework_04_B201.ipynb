{
 "cells": [
  {
   "cell_type": "markdown",
   "metadata": {},
   "source": [
    "# Úkol č. 4 - regrese\n",
    "**Deadline úkolu je uveden na [course pages](https://courses.fit.cvut.cz/BI-VZD/homeworks/index.html).**\n",
    "\n",
    "  * Cílem tohoto úkolu je vyzkoušet si řešit regresní problém na reálných datech.\n",
    "  \n",
    "> **Nejdůležitější na úkolu je to, abyste udělali vše procesně správně: korektní rozdělení datasetu, ladění hyperparametrů, vyhodnocení výsledků atp.**\n",
    "\n",
    "## Dataset\n",
    "\n",
    "  * Zdrojem dat je soubor `LifeExpectancyData.csv` na course pages (originál zde: https://www.kaggle.com/kumarajarshi/life-expectancy-who).\n",
    "  * Popis datasetu najdete na uvedené stránce s originálem datasetu.\n",
    "  * Cílová (vysvětlovaná) proměnná se jmenuje `Life expectancy `.\n",
    "  \n",
    "\n",
    "## Pokyny k vypracování\n",
    "Body zadání, za jejichž (poctivé) vypracování získáte 12 bodů:\n",
    "\n",
    "  1. Odeberte z dat body u kterých neznáte vysvětlovanou proměnnou.\n",
    "  1. Rozdělte data na trénovací a testovací množinu.\n",
    "  1. Proveďte základní průzkum dat. Na jeho základě adekvátně reagujte na problematické věci v datech (chybějící hodnoty, atd.).\n",
    "  1. Aplikujte lineární a hřebenovou regresi a výsledky řádně vyhodnoťte:\n",
    "    * K měření chyby použijte `mean_absolute_error`.\n",
    "    * Experimentujte s tvorbou nových příznaků (na základě těch dostupných).\n",
    "    * Experimentujte se standardizací/normalizací dat.\n",
    "    * Vyberte si hyperparametry modelů k ladění a najděte jejich nejlepší hodnoty.\n",
    "  1. Použijte i jiný model než jen lineární a hřebenovou regresi.\n",
    "\n",
    "\n",
    "## Poznámky k odevzdání\n",
    "\n",
    "  * Řiďte se pokyny ze stránky https://courses.fit.cvut.cz/BI-VZD/homeworks/index.html.\n",
    "  * Odevzdejte tento Jupyter Notebook.\n",
    "  * Opravující Vám může umožnit úkol dodělat či opravit a získat tak další body. První verze je ale důležitá a bude-li odbytá, budete za to penalizováni."
   ]
  },
  {
   "cell_type": "code",
   "execution_count": 1,
   "metadata": {},
   "outputs": [],
   "source": [
    "### odtud už je to Vaše\n",
    "import pandas as pd\n",
    "import numpy as np\n",
    "from sklearn.model_selection import train_test_split\n",
    "from itertools import combinations\n",
    "import warnings\n",
    "warnings.filterwarnings('ignore')\n",
    "FAST = True"
   ]
  },
  {
   "cell_type": "code",
   "execution_count": 2,
   "metadata": {},
   "outputs": [],
   "source": [
    "df = pd.read_csv('LifeExpectancyData.csv')"
   ]
  },
  {
   "cell_type": "markdown",
   "metadata": {},
   "source": [
    "## Odebrání dat s neznámou proměnnou"
   ]
  },
  {
   "cell_type": "code",
   "execution_count": 3,
   "metadata": {},
   "outputs": [],
   "source": [
    "mask = df['Life expectancy '].isnull()\n",
    "df = df[~mask]"
   ]
  },
  {
   "cell_type": "code",
   "execution_count": 4,
   "metadata": {},
   "outputs": [
    {
     "data": {
      "text/html": [
       "<div>\n",
       "<style scoped>\n",
       "    .dataframe tbody tr th:only-of-type {\n",
       "        vertical-align: middle;\n",
       "    }\n",
       "\n",
       "    .dataframe tbody tr th {\n",
       "        vertical-align: top;\n",
       "    }\n",
       "\n",
       "    .dataframe thead th {\n",
       "        text-align: right;\n",
       "    }\n",
       "</style>\n",
       "<table border=\"1\" class=\"dataframe\">\n",
       "  <thead>\n",
       "    <tr style=\"text-align: right;\">\n",
       "      <th></th>\n",
       "      <th>Country</th>\n",
       "      <th>Year</th>\n",
       "      <th>Status</th>\n",
       "      <th>Life expectancy</th>\n",
       "      <th>Adult Mortality</th>\n",
       "      <th>infant deaths</th>\n",
       "      <th>Alcohol</th>\n",
       "      <th>percentage expenditure</th>\n",
       "      <th>Hepatitis B</th>\n",
       "      <th>Measles</th>\n",
       "      <th>...</th>\n",
       "      <th>Polio</th>\n",
       "      <th>Total expenditure</th>\n",
       "      <th>Diphtheria</th>\n",
       "      <th>HIV/AIDS</th>\n",
       "      <th>GDP</th>\n",
       "      <th>Population</th>\n",
       "      <th>thinness  1-19 years</th>\n",
       "      <th>thinness 5-9 years</th>\n",
       "      <th>Income composition of resources</th>\n",
       "      <th>Schooling</th>\n",
       "    </tr>\n",
       "  </thead>\n",
       "  <tbody>\n",
       "    <tr>\n",
       "      <th>1197</th>\n",
       "      <td>India</td>\n",
       "      <td>2004</td>\n",
       "      <td>Developing</td>\n",
       "      <td>64.0</td>\n",
       "      <td>214.0</td>\n",
       "      <td>1600</td>\n",
       "      <td>1.20</td>\n",
       "      <td>27.338009</td>\n",
       "      <td>6.0</td>\n",
       "      <td>55443</td>\n",
       "      <td>...</td>\n",
       "      <td>58.0</td>\n",
       "      <td>4.22</td>\n",
       "      <td>63.0</td>\n",
       "      <td>0.3</td>\n",
       "      <td>621.318377</td>\n",
       "      <td>1.126136e+09</td>\n",
       "      <td>27.2</td>\n",
       "      <td>28.2</td>\n",
       "      <td>0.518</td>\n",
       "      <td>9.2</td>\n",
       "    </tr>\n",
       "    <tr>\n",
       "      <th>1477</th>\n",
       "      <td>Lesotho</td>\n",
       "      <td>2012</td>\n",
       "      <td>Developing</td>\n",
       "      <td>52.2</td>\n",
       "      <td>513.0</td>\n",
       "      <td>4</td>\n",
       "      <td>0.01</td>\n",
       "      <td>168.134899</td>\n",
       "      <td>95.0</td>\n",
       "      <td>179</td>\n",
       "      <td>...</td>\n",
       "      <td>93.0</td>\n",
       "      <td>11.14</td>\n",
       "      <td>95.0</td>\n",
       "      <td>9.0</td>\n",
       "      <td>1281.516000</td>\n",
       "      <td>2.899280e+05</td>\n",
       "      <td>6.4</td>\n",
       "      <td>6.2</td>\n",
       "      <td>0.479</td>\n",
       "      <td>11.0</td>\n",
       "    </tr>\n",
       "    <tr>\n",
       "      <th>537</th>\n",
       "      <td>Chad</td>\n",
       "      <td>2006</td>\n",
       "      <td>Developing</td>\n",
       "      <td>48.5</td>\n",
       "      <td>414.0</td>\n",
       "      <td>45</td>\n",
       "      <td>0.41</td>\n",
       "      <td>62.672260</td>\n",
       "      <td>NaN</td>\n",
       "      <td>1594</td>\n",
       "      <td>...</td>\n",
       "      <td>49.0</td>\n",
       "      <td>3.32</td>\n",
       "      <td>4.0</td>\n",
       "      <td>5.1</td>\n",
       "      <td>712.184769</td>\n",
       "      <td>1.421597e+06</td>\n",
       "      <td>1.3</td>\n",
       "      <td>1.2</td>\n",
       "      <td>0.303</td>\n",
       "      <td>5.5</td>\n",
       "    </tr>\n",
       "    <tr>\n",
       "      <th>2900</th>\n",
       "      <td>Yemen</td>\n",
       "      <td>2005</td>\n",
       "      <td>Developing</td>\n",
       "      <td>62.6</td>\n",
       "      <td>245.0</td>\n",
       "      <td>40</td>\n",
       "      <td>0.04</td>\n",
       "      <td>0.000000</td>\n",
       "      <td>8.0</td>\n",
       "      <td>6285</td>\n",
       "      <td>...</td>\n",
       "      <td>8.0</td>\n",
       "      <td>4.58</td>\n",
       "      <td>79.0</td>\n",
       "      <td>0.1</td>\n",
       "      <td>NaN</td>\n",
       "      <td>NaN</td>\n",
       "      <td>13.9</td>\n",
       "      <td>13.8</td>\n",
       "      <td>0.470</td>\n",
       "      <td>8.6</td>\n",
       "    </tr>\n",
       "    <tr>\n",
       "      <th>1117</th>\n",
       "      <td>Guyana</td>\n",
       "      <td>2004</td>\n",
       "      <td>Developing</td>\n",
       "      <td>65.1</td>\n",
       "      <td>237.0</td>\n",
       "      <td>1</td>\n",
       "      <td>7.84</td>\n",
       "      <td>1.776181</td>\n",
       "      <td>91.0</td>\n",
       "      <td>0</td>\n",
       "      <td>...</td>\n",
       "      <td>91.0</td>\n",
       "      <td>5.73</td>\n",
       "      <td>91.0</td>\n",
       "      <td>1.9</td>\n",
       "      <td>145.588610</td>\n",
       "      <td>7.516520e+05</td>\n",
       "      <td>5.8</td>\n",
       "      <td>5.6</td>\n",
       "      <td>0.613</td>\n",
       "      <td>11.2</td>\n",
       "    </tr>\n",
       "  </tbody>\n",
       "</table>\n",
       "<p>5 rows × 22 columns</p>\n",
       "</div>"
      ],
      "text/plain": [
       "      Country  Year      Status  Life expectancy   Adult Mortality  \\\n",
       "1197    India  2004  Developing              64.0            214.0   \n",
       "1477  Lesotho  2012  Developing              52.2            513.0   \n",
       "537      Chad  2006  Developing              48.5            414.0   \n",
       "2900    Yemen  2005  Developing              62.6            245.0   \n",
       "1117   Guyana  2004  Developing              65.1            237.0   \n",
       "\n",
       "      infant deaths  Alcohol  percentage expenditure  Hepatitis B  Measles   \\\n",
       "1197           1600     1.20               27.338009          6.0     55443   \n",
       "1477              4     0.01              168.134899         95.0       179   \n",
       "537              45     0.41               62.672260          NaN      1594   \n",
       "2900             40     0.04                0.000000          8.0      6285   \n",
       "1117              1     7.84                1.776181         91.0         0   \n",
       "\n",
       "      ...  Polio  Total expenditure  Diphtheria    HIV/AIDS          GDP  \\\n",
       "1197  ...   58.0               4.22         63.0        0.3   621.318377   \n",
       "1477  ...   93.0              11.14         95.0        9.0  1281.516000   \n",
       "537   ...   49.0               3.32          4.0        5.1   712.184769   \n",
       "2900  ...    8.0               4.58         79.0        0.1          NaN   \n",
       "1117  ...   91.0               5.73         91.0        1.9   145.588610   \n",
       "\n",
       "        Population   thinness  1-19 years   thinness 5-9 years  \\\n",
       "1197  1.126136e+09                   27.2                 28.2   \n",
       "1477  2.899280e+05                    6.4                  6.2   \n",
       "537   1.421597e+06                    1.3                  1.2   \n",
       "2900           NaN                   13.9                 13.8   \n",
       "1117  7.516520e+05                    5.8                  5.6   \n",
       "\n",
       "      Income composition of resources  Schooling  \n",
       "1197                            0.518        9.2  \n",
       "1477                            0.479       11.0  \n",
       "537                             0.303        5.5  \n",
       "2900                            0.470        8.6  \n",
       "1117                            0.613       11.2  \n",
       "\n",
       "[5 rows x 22 columns]"
      ]
     },
     "execution_count": 4,
     "metadata": {},
     "output_type": "execute_result"
    }
   ],
   "source": [
    "df.sample(5)"
   ]
  },
  {
   "cell_type": "markdown",
   "metadata": {},
   "source": [
    "## Rozdělení dat"
   ]
  },
  {
   "cell_type": "code",
   "execution_count": 5,
   "metadata": {},
   "outputs": [],
   "source": [
    "X = df.drop('Life expectancy ', axis=1)\n",
    "y = df['Life expectancy ']\n",
    "X_train, X_test, y_train, y_test = train_test_split(X, y)"
   ]
  },
  {
   "cell_type": "markdown",
   "metadata": {},
   "source": [
    "## Průzkum dat"
   ]
  },
  {
   "cell_type": "code",
   "execution_count": 6,
   "metadata": {},
   "outputs": [],
   "source": [
    "missing = df[df['Population'].isnull() == True]['Country'].unique()"
   ]
  },
  {
   "cell_type": "code",
   "execution_count": 7,
   "metadata": {},
   "outputs": [
    {
     "name": "stdout",
     "output_type": "stream",
     "text": [
      "Eritrea\n"
     ]
    }
   ],
   "source": [
    "for m in missing:\n",
    "    if df[df['Country'] == m]['Population'].isnull().sum() < df[df['Country'] == m]['Population'].count():\n",
    "        print(m)"
   ]
  },
  {
   "cell_type": "markdown",
   "metadata": {},
   "source": [
    "Pro prvotním prozkoumání dat se ukazuje, že ve sloupci populace jsou spíše náhodná čísla, než skutečný počet obyvatel, také zde spousta hodnot chybí, možné řešení by mohlo být napojení na nějaké API a zjištění skutečného počtu obyvatel podle roku, v tomto úkolu ale sloupec dropnu."
   ]
  },
  {
   "cell_type": "code",
   "execution_count": 8,
   "metadata": {},
   "outputs": [
    {
     "data": {
      "text/html": [
       "<div>\n",
       "<style scoped>\n",
       "    .dataframe tbody tr th:only-of-type {\n",
       "        vertical-align: middle;\n",
       "    }\n",
       "\n",
       "    .dataframe tbody tr th {\n",
       "        vertical-align: top;\n",
       "    }\n",
       "\n",
       "    .dataframe thead th {\n",
       "        text-align: right;\n",
       "    }\n",
       "</style>\n",
       "<table border=\"1\" class=\"dataframe\">\n",
       "  <thead>\n",
       "    <tr style=\"text-align: right;\">\n",
       "      <th></th>\n",
       "      <th>Country</th>\n",
       "      <th>Population</th>\n",
       "    </tr>\n",
       "  </thead>\n",
       "  <tbody>\n",
       "    <tr>\n",
       "      <th>1207</th>\n",
       "      <td>Indonesia</td>\n",
       "      <td>242524123.0</td>\n",
       "    </tr>\n",
       "    <tr>\n",
       "      <th>1402</th>\n",
       "      <td>Kuwait</td>\n",
       "      <td>NaN</td>\n",
       "    </tr>\n",
       "    <tr>\n",
       "      <th>2833</th>\n",
       "      <td>Uzbekistan</td>\n",
       "      <td>27328.0</td>\n",
       "    </tr>\n",
       "    <tr>\n",
       "      <th>2462</th>\n",
       "      <td>Sudan</td>\n",
       "      <td>34385963.0</td>\n",
       "    </tr>\n",
       "    <tr>\n",
       "      <th>1688</th>\n",
       "      <td>Mexico</td>\n",
       "      <td>117318941.0</td>\n",
       "    </tr>\n",
       "    <tr>\n",
       "      <th>817</th>\n",
       "      <td>Egypt</td>\n",
       "      <td>NaN</td>\n",
       "    </tr>\n",
       "    <tr>\n",
       "      <th>1655</th>\n",
       "      <td>Mauritania</td>\n",
       "      <td>3717672.0</td>\n",
       "    </tr>\n",
       "    <tr>\n",
       "      <th>1189</th>\n",
       "      <td>India</td>\n",
       "      <td>126365852.0</td>\n",
       "    </tr>\n",
       "    <tr>\n",
       "      <th>2302</th>\n",
       "      <td>Sierra Leone</td>\n",
       "      <td>645872.0</td>\n",
       "    </tr>\n",
       "    <tr>\n",
       "      <th>1931</th>\n",
       "      <td>Oman</td>\n",
       "      <td>NaN</td>\n",
       "    </tr>\n",
       "    <tr>\n",
       "      <th>1623</th>\n",
       "      <td>Mali</td>\n",
       "      <td>157585.0</td>\n",
       "    </tr>\n",
       "    <tr>\n",
       "      <th>503</th>\n",
       "      <td>Canada</td>\n",
       "      <td>33245773.0</td>\n",
       "    </tr>\n",
       "    <tr>\n",
       "      <th>1862</th>\n",
       "      <td>Nicaragua</td>\n",
       "      <td>613997.0</td>\n",
       "    </tr>\n",
       "    <tr>\n",
       "      <th>659</th>\n",
       "      <td>Cuba</td>\n",
       "      <td>NaN</td>\n",
       "    </tr>\n",
       "    <tr>\n",
       "      <th>131</th>\n",
       "      <td>Austria</td>\n",
       "      <td>8429991.0</td>\n",
       "    </tr>\n",
       "    <tr>\n",
       "      <th>2804</th>\n",
       "      <td>United States of America</td>\n",
       "      <td>NaN</td>\n",
       "    </tr>\n",
       "    <tr>\n",
       "      <th>2773</th>\n",
       "      <td>United Kingdom of Great Britain and Northern I...</td>\n",
       "      <td>NaN</td>\n",
       "    </tr>\n",
       "    <tr>\n",
       "      <th>2911</th>\n",
       "      <td>Zambia</td>\n",
       "      <td>138533.0</td>\n",
       "    </tr>\n",
       "    <tr>\n",
       "      <th>1571</th>\n",
       "      <td>Malawi</td>\n",
       "      <td>1768838.0</td>\n",
       "    </tr>\n",
       "    <tr>\n",
       "      <th>1770</th>\n",
       "      <td>Mozambique</td>\n",
       "      <td>2352463.0</td>\n",
       "    </tr>\n",
       "  </tbody>\n",
       "</table>\n",
       "</div>"
      ],
      "text/plain": [
       "                                                Country   Population\n",
       "1207                                          Indonesia  242524123.0\n",
       "1402                                             Kuwait          NaN\n",
       "2833                                         Uzbekistan      27328.0\n",
       "2462                                              Sudan   34385963.0\n",
       "1688                                             Mexico  117318941.0\n",
       "817                                               Egypt          NaN\n",
       "1655                                         Mauritania    3717672.0\n",
       "1189                                              India  126365852.0\n",
       "2302                                       Sierra Leone     645872.0\n",
       "1931                                               Oman          NaN\n",
       "1623                                               Mali     157585.0\n",
       "503                                              Canada   33245773.0\n",
       "1862                                          Nicaragua     613997.0\n",
       "659                                                Cuba          NaN\n",
       "131                                             Austria    8429991.0\n",
       "2804                           United States of America          NaN\n",
       "2773  United Kingdom of Great Britain and Northern I...          NaN\n",
       "2911                                             Zambia     138533.0\n",
       "1571                                             Malawi    1768838.0\n",
       "1770                                         Mozambique    2352463.0"
      ]
     },
     "execution_count": 8,
     "metadata": {},
     "output_type": "execute_result"
    }
   ],
   "source": [
    "df[['Country', 'Population']].sample(20)"
   ]
  },
  {
   "cell_type": "code",
   "execution_count": 9,
   "metadata": {},
   "outputs": [],
   "source": [
    "df.drop('Population', axis=1, inplace=True)"
   ]
  },
  {
   "cell_type": "markdown",
   "metadata": {},
   "source": [
    "## Chybějící hodnoty"
   ]
  },
  {
   "cell_type": "markdown",
   "metadata": {},
   "source": [
    "Pokusíme se chybějící hodnoty doplnit pomocí metody KNN s vyloučeným sloupcem Life expectancy, aby se nepodílel na změně výsledků a nemohl tak ovlivnit předpověď sám sebe."
   ]
  },
  {
   "cell_type": "code",
   "execution_count": 10,
   "metadata": {},
   "outputs": [],
   "source": [
    "from sklearn.impute import KNNImputer\n",
    "def fill_nulls(df):\n",
    "    imputer = KNNImputer(n_neighbors=5)\n",
    "    return pd.DataFrame(imputer.fit_transform(df), columns = df.columns)\n",
    "def fill_nulls_fitted(df, fitted):\n",
    "    return pd.DataFrame(fitted.transform(df), columns = df.columns)"
   ]
  },
  {
   "cell_type": "code",
   "execution_count": 11,
   "metadata": {},
   "outputs": [],
   "source": [
    "def parse_data(df):\n",
    "    df['Country'] = df['Country'].astype('category').cat.codes\n",
    "    df['Status'] = df['Status'].astype('category').cat.codes\n",
    "    return df"
   ]
  },
  {
   "cell_type": "code",
   "execution_count": 12,
   "metadata": {},
   "outputs": [],
   "source": [
    "X_train = parse_data(X_train.copy())\n",
    "X_train = fill_nulls(X_train.copy())"
   ]
  },
  {
   "cell_type": "code",
   "execution_count": 13,
   "metadata": {},
   "outputs": [],
   "source": [
    "X_test = parse_data(X_test.copy())\n",
    "imputer = KNNImputer(n_neighbors=5)\n",
    "imputer.fit(X_train)\n",
    "X_test = fill_nulls_fitted(X_test.copy(), imputer)"
   ]
  },
  {
   "cell_type": "markdown",
   "metadata": {},
   "source": [
    "## Inconsistency check"
   ]
  },
  {
   "cell_type": "code",
   "execution_count": 14,
   "metadata": {},
   "outputs": [
    {
     "data": {
      "text/html": [
       "<div>\n",
       "<style scoped>\n",
       "    .dataframe tbody tr th:only-of-type {\n",
       "        vertical-align: middle;\n",
       "    }\n",
       "\n",
       "    .dataframe tbody tr th {\n",
       "        vertical-align: top;\n",
       "    }\n",
       "\n",
       "    .dataframe thead tr th {\n",
       "        text-align: left;\n",
       "    }\n",
       "\n",
       "    .dataframe thead tr:last-of-type th {\n",
       "        text-align: right;\n",
       "    }\n",
       "</style>\n",
       "<table border=\"1\" class=\"dataframe\">\n",
       "  <thead>\n",
       "    <tr>\n",
       "      <th></th>\n",
       "      <th colspan=\"8\" halign=\"left\">Year</th>\n",
       "      <th colspan=\"2\" halign=\"left\">Life expectancy</th>\n",
       "      <th>...</th>\n",
       "      <th colspan=\"2\" halign=\"left\">Income composition of resources</th>\n",
       "      <th colspan=\"8\" halign=\"left\">Schooling</th>\n",
       "    </tr>\n",
       "    <tr>\n",
       "      <th></th>\n",
       "      <th>count</th>\n",
       "      <th>mean</th>\n",
       "      <th>std</th>\n",
       "      <th>min</th>\n",
       "      <th>25%</th>\n",
       "      <th>50%</th>\n",
       "      <th>75%</th>\n",
       "      <th>max</th>\n",
       "      <th>count</th>\n",
       "      <th>mean</th>\n",
       "      <th>...</th>\n",
       "      <th>75%</th>\n",
       "      <th>max</th>\n",
       "      <th>count</th>\n",
       "      <th>mean</th>\n",
       "      <th>std</th>\n",
       "      <th>min</th>\n",
       "      <th>25%</th>\n",
       "      <th>50%</th>\n",
       "      <th>75%</th>\n",
       "      <th>max</th>\n",
       "    </tr>\n",
       "    <tr>\n",
       "      <th>Country</th>\n",
       "      <th></th>\n",
       "      <th></th>\n",
       "      <th></th>\n",
       "      <th></th>\n",
       "      <th></th>\n",
       "      <th></th>\n",
       "      <th></th>\n",
       "      <th></th>\n",
       "      <th></th>\n",
       "      <th></th>\n",
       "      <th></th>\n",
       "      <th></th>\n",
       "      <th></th>\n",
       "      <th></th>\n",
       "      <th></th>\n",
       "      <th></th>\n",
       "      <th></th>\n",
       "      <th></th>\n",
       "      <th></th>\n",
       "      <th></th>\n",
       "      <th></th>\n",
       "    </tr>\n",
       "  </thead>\n",
       "  <tbody>\n",
       "    <tr>\n",
       "      <th>Afghanistan</th>\n",
       "      <td>16.0</td>\n",
       "      <td>2007.5</td>\n",
       "      <td>4.760952</td>\n",
       "      <td>2000.0</td>\n",
       "      <td>2003.75</td>\n",
       "      <td>2007.5</td>\n",
       "      <td>2011.25</td>\n",
       "      <td>2015.0</td>\n",
       "      <td>16.0</td>\n",
       "      <td>58.19375</td>\n",
       "      <td>...</td>\n",
       "      <td>0.45625</td>\n",
       "      <td>0.479</td>\n",
       "      <td>16.0</td>\n",
       "      <td>8.21250</td>\n",
       "      <td>1.576864</td>\n",
       "      <td>5.5</td>\n",
       "      <td>6.725</td>\n",
       "      <td>8.55</td>\n",
       "      <td>9.575</td>\n",
       "      <td>10.1</td>\n",
       "    </tr>\n",
       "    <tr>\n",
       "      <th>Albania</th>\n",
       "      <td>16.0</td>\n",
       "      <td>2007.5</td>\n",
       "      <td>4.760952</td>\n",
       "      <td>2000.0</td>\n",
       "      <td>2003.75</td>\n",
       "      <td>2007.5</td>\n",
       "      <td>2011.25</td>\n",
       "      <td>2015.0</td>\n",
       "      <td>16.0</td>\n",
       "      <td>75.15625</td>\n",
       "      <td>...</td>\n",
       "      <td>0.74150</td>\n",
       "      <td>0.762</td>\n",
       "      <td>16.0</td>\n",
       "      <td>12.13750</td>\n",
       "      <td>1.443087</td>\n",
       "      <td>10.6</td>\n",
       "      <td>10.775</td>\n",
       "      <td>11.80</td>\n",
       "      <td>13.525</td>\n",
       "      <td>14.2</td>\n",
       "    </tr>\n",
       "    <tr>\n",
       "      <th>Algeria</th>\n",
       "      <td>16.0</td>\n",
       "      <td>2007.5</td>\n",
       "      <td>4.760952</td>\n",
       "      <td>2000.0</td>\n",
       "      <td>2003.75</td>\n",
       "      <td>2007.5</td>\n",
       "      <td>2011.25</td>\n",
       "      <td>2015.0</td>\n",
       "      <td>16.0</td>\n",
       "      <td>73.61875</td>\n",
       "      <td>...</td>\n",
       "      <td>0.72600</td>\n",
       "      <td>0.743</td>\n",
       "      <td>16.0</td>\n",
       "      <td>12.71250</td>\n",
       "      <td>1.348518</td>\n",
       "      <td>10.7</td>\n",
       "      <td>11.650</td>\n",
       "      <td>12.45</td>\n",
       "      <td>14.100</td>\n",
       "      <td>14.4</td>\n",
       "    </tr>\n",
       "    <tr>\n",
       "      <th>Angola</th>\n",
       "      <td>16.0</td>\n",
       "      <td>2007.5</td>\n",
       "      <td>4.760952</td>\n",
       "      <td>2000.0</td>\n",
       "      <td>2003.75</td>\n",
       "      <td>2007.5</td>\n",
       "      <td>2011.25</td>\n",
       "      <td>2015.0</td>\n",
       "      <td>16.0</td>\n",
       "      <td>49.01875</td>\n",
       "      <td>...</td>\n",
       "      <td>0.49825</td>\n",
       "      <td>0.531</td>\n",
       "      <td>16.0</td>\n",
       "      <td>8.04375</td>\n",
       "      <td>2.287930</td>\n",
       "      <td>4.6</td>\n",
       "      <td>6.275</td>\n",
       "      <td>7.90</td>\n",
       "      <td>9.625</td>\n",
       "      <td>11.4</td>\n",
       "    </tr>\n",
       "    <tr>\n",
       "      <th>Antigua and Barbuda</th>\n",
       "      <td>16.0</td>\n",
       "      <td>2007.5</td>\n",
       "      <td>4.760952</td>\n",
       "      <td>2000.0</td>\n",
       "      <td>2003.75</td>\n",
       "      <td>2007.5</td>\n",
       "      <td>2011.25</td>\n",
       "      <td>2015.0</td>\n",
       "      <td>16.0</td>\n",
       "      <td>75.05625</td>\n",
       "      <td>...</td>\n",
       "      <td>0.78225</td>\n",
       "      <td>0.788</td>\n",
       "      <td>16.0</td>\n",
       "      <td>8.84375</td>\n",
       "      <td>7.078792</td>\n",
       "      <td>0.0</td>\n",
       "      <td>0.000</td>\n",
       "      <td>13.90</td>\n",
       "      <td>14.125</td>\n",
       "      <td>14.7</td>\n",
       "    </tr>\n",
       "    <tr>\n",
       "      <th>...</th>\n",
       "      <td>...</td>\n",
       "      <td>...</td>\n",
       "      <td>...</td>\n",
       "      <td>...</td>\n",
       "      <td>...</td>\n",
       "      <td>...</td>\n",
       "      <td>...</td>\n",
       "      <td>...</td>\n",
       "      <td>...</td>\n",
       "      <td>...</td>\n",
       "      <td>...</td>\n",
       "      <td>...</td>\n",
       "      <td>...</td>\n",
       "      <td>...</td>\n",
       "      <td>...</td>\n",
       "      <td>...</td>\n",
       "      <td>...</td>\n",
       "      <td>...</td>\n",
       "      <td>...</td>\n",
       "      <td>...</td>\n",
       "      <td>...</td>\n",
       "    </tr>\n",
       "    <tr>\n",
       "      <th>Venezuela (Bolivarian Republic of)</th>\n",
       "      <td>16.0</td>\n",
       "      <td>2007.5</td>\n",
       "      <td>4.760952</td>\n",
       "      <td>2000.0</td>\n",
       "      <td>2003.75</td>\n",
       "      <td>2007.5</td>\n",
       "      <td>2011.25</td>\n",
       "      <td>2015.0</td>\n",
       "      <td>16.0</td>\n",
       "      <td>73.38750</td>\n",
       "      <td>...</td>\n",
       "      <td>0.75875</td>\n",
       "      <td>0.771</td>\n",
       "      <td>16.0</td>\n",
       "      <td>12.78750</td>\n",
       "      <td>1.430093</td>\n",
       "      <td>10.4</td>\n",
       "      <td>11.600</td>\n",
       "      <td>13.15</td>\n",
       "      <td>14.100</td>\n",
       "      <td>14.3</td>\n",
       "    </tr>\n",
       "    <tr>\n",
       "      <th>Viet Nam</th>\n",
       "      <td>16.0</td>\n",
       "      <td>2007.5</td>\n",
       "      <td>4.760952</td>\n",
       "      <td>2000.0</td>\n",
       "      <td>2003.75</td>\n",
       "      <td>2007.5</td>\n",
       "      <td>2011.25</td>\n",
       "      <td>2015.0</td>\n",
       "      <td>16.0</td>\n",
       "      <td>74.77500</td>\n",
       "      <td>...</td>\n",
       "      <td>0.65675</td>\n",
       "      <td>0.678</td>\n",
       "      <td>16.0</td>\n",
       "      <td>11.51250</td>\n",
       "      <td>0.696539</td>\n",
       "      <td>10.4</td>\n",
       "      <td>10.975</td>\n",
       "      <td>11.50</td>\n",
       "      <td>12.050</td>\n",
       "      <td>12.6</td>\n",
       "    </tr>\n",
       "    <tr>\n",
       "      <th>Yemen</th>\n",
       "      <td>16.0</td>\n",
       "      <td>2007.5</td>\n",
       "      <td>4.760952</td>\n",
       "      <td>2000.0</td>\n",
       "      <td>2003.75</td>\n",
       "      <td>2007.5</td>\n",
       "      <td>2011.25</td>\n",
       "      <td>2015.0</td>\n",
       "      <td>16.0</td>\n",
       "      <td>63.86250</td>\n",
       "      <td>...</td>\n",
       "      <td>0.49325</td>\n",
       "      <td>0.500</td>\n",
       "      <td>16.0</td>\n",
       "      <td>8.50625</td>\n",
       "      <td>0.402440</td>\n",
       "      <td>7.7</td>\n",
       "      <td>8.350</td>\n",
       "      <td>8.55</td>\n",
       "      <td>8.775</td>\n",
       "      <td>9.0</td>\n",
       "    </tr>\n",
       "    <tr>\n",
       "      <th>Zambia</th>\n",
       "      <td>16.0</td>\n",
       "      <td>2007.5</td>\n",
       "      <td>4.760952</td>\n",
       "      <td>2000.0</td>\n",
       "      <td>2003.75</td>\n",
       "      <td>2007.5</td>\n",
       "      <td>2011.25</td>\n",
       "      <td>2015.0</td>\n",
       "      <td>16.0</td>\n",
       "      <td>53.90625</td>\n",
       "      <td>...</td>\n",
       "      <td>0.54575</td>\n",
       "      <td>0.576</td>\n",
       "      <td>16.0</td>\n",
       "      <td>11.21250</td>\n",
       "      <td>1.009208</td>\n",
       "      <td>9.6</td>\n",
       "      <td>10.425</td>\n",
       "      <td>11.25</td>\n",
       "      <td>12.075</td>\n",
       "      <td>12.5</td>\n",
       "    </tr>\n",
       "    <tr>\n",
       "      <th>Zimbabwe</th>\n",
       "      <td>16.0</td>\n",
       "      <td>2007.5</td>\n",
       "      <td>4.760952</td>\n",
       "      <td>2000.0</td>\n",
       "      <td>2003.75</td>\n",
       "      <td>2007.5</td>\n",
       "      <td>2011.25</td>\n",
       "      <td>2015.0</td>\n",
       "      <td>16.0</td>\n",
       "      <td>50.48750</td>\n",
       "      <td>...</td>\n",
       "      <td>0.45500</td>\n",
       "      <td>0.507</td>\n",
       "      <td>16.0</td>\n",
       "      <td>9.82500</td>\n",
       "      <td>0.353082</td>\n",
       "      <td>9.2</td>\n",
       "      <td>9.575</td>\n",
       "      <td>9.80</td>\n",
       "      <td>10.025</td>\n",
       "      <td>10.4</td>\n",
       "    </tr>\n",
       "  </tbody>\n",
       "</table>\n",
       "<p>183 rows × 152 columns</p>\n",
       "</div>"
      ],
      "text/plain": [
       "                                    Year                                     \\\n",
       "                                   count    mean       std     min      25%   \n",
       "Country                                                                       \n",
       "Afghanistan                         16.0  2007.5  4.760952  2000.0  2003.75   \n",
       "Albania                             16.0  2007.5  4.760952  2000.0  2003.75   \n",
       "Algeria                             16.0  2007.5  4.760952  2000.0  2003.75   \n",
       "Angola                              16.0  2007.5  4.760952  2000.0  2003.75   \n",
       "Antigua and Barbuda                 16.0  2007.5  4.760952  2000.0  2003.75   \n",
       "...                                  ...     ...       ...     ...      ...   \n",
       "Venezuela (Bolivarian Republic of)  16.0  2007.5  4.760952  2000.0  2003.75   \n",
       "Viet Nam                            16.0  2007.5  4.760952  2000.0  2003.75   \n",
       "Yemen                               16.0  2007.5  4.760952  2000.0  2003.75   \n",
       "Zambia                              16.0  2007.5  4.760952  2000.0  2003.75   \n",
       "Zimbabwe                            16.0  2007.5  4.760952  2000.0  2003.75   \n",
       "\n",
       "                                                            Life expectancy   \\\n",
       "                                       50%      75%     max            count   \n",
       "Country                                                                        \n",
       "Afghanistan                         2007.5  2011.25  2015.0             16.0   \n",
       "Albania                             2007.5  2011.25  2015.0             16.0   \n",
       "Algeria                             2007.5  2011.25  2015.0             16.0   \n",
       "Angola                              2007.5  2011.25  2015.0             16.0   \n",
       "Antigua and Barbuda                 2007.5  2011.25  2015.0             16.0   \n",
       "...                                    ...      ...     ...              ...   \n",
       "Venezuela (Bolivarian Republic of)  2007.5  2011.25  2015.0             16.0   \n",
       "Viet Nam                            2007.5  2011.25  2015.0             16.0   \n",
       "Yemen                               2007.5  2011.25  2015.0             16.0   \n",
       "Zambia                              2007.5  2011.25  2015.0             16.0   \n",
       "Zimbabwe                            2007.5  2011.25  2015.0             16.0   \n",
       "\n",
       "                                              ...  \\\n",
       "                                        mean  ...   \n",
       "Country                                       ...   \n",
       "Afghanistan                         58.19375  ...   \n",
       "Albania                             75.15625  ...   \n",
       "Algeria                             73.61875  ...   \n",
       "Angola                              49.01875  ...   \n",
       "Antigua and Barbuda                 75.05625  ...   \n",
       "...                                      ...  ...   \n",
       "Venezuela (Bolivarian Republic of)  73.38750  ...   \n",
       "Viet Nam                            74.77500  ...   \n",
       "Yemen                               63.86250  ...   \n",
       "Zambia                              53.90625  ...   \n",
       "Zimbabwe                            50.48750  ...   \n",
       "\n",
       "                                   Income composition of resources         \\\n",
       "                                                               75%    max   \n",
       "Country                                                                     \n",
       "Afghanistan                                                0.45625  0.479   \n",
       "Albania                                                    0.74150  0.762   \n",
       "Algeria                                                    0.72600  0.743   \n",
       "Angola                                                     0.49825  0.531   \n",
       "Antigua and Barbuda                                        0.78225  0.788   \n",
       "...                                                            ...    ...   \n",
       "Venezuela (Bolivarian Republic of)                         0.75875  0.771   \n",
       "Viet Nam                                                   0.65675  0.678   \n",
       "Yemen                                                      0.49325  0.500   \n",
       "Zambia                                                     0.54575  0.576   \n",
       "Zimbabwe                                                   0.45500  0.507   \n",
       "\n",
       "                                   Schooling                            \\\n",
       "                                       count      mean       std   min   \n",
       "Country                                                                  \n",
       "Afghanistan                             16.0   8.21250  1.576864   5.5   \n",
       "Albania                                 16.0  12.13750  1.443087  10.6   \n",
       "Algeria                                 16.0  12.71250  1.348518  10.7   \n",
       "Angola                                  16.0   8.04375  2.287930   4.6   \n",
       "Antigua and Barbuda                     16.0   8.84375  7.078792   0.0   \n",
       "...                                      ...       ...       ...   ...   \n",
       "Venezuela (Bolivarian Republic of)      16.0  12.78750  1.430093  10.4   \n",
       "Viet Nam                                16.0  11.51250  0.696539  10.4   \n",
       "Yemen                                   16.0   8.50625  0.402440   7.7   \n",
       "Zambia                                  16.0  11.21250  1.009208   9.6   \n",
       "Zimbabwe                                16.0   9.82500  0.353082   9.2   \n",
       "\n",
       "                                                                 \n",
       "                                       25%    50%     75%   max  \n",
       "Country                                                          \n",
       "Afghanistan                          6.725   8.55   9.575  10.1  \n",
       "Albania                             10.775  11.80  13.525  14.2  \n",
       "Algeria                             11.650  12.45  14.100  14.4  \n",
       "Angola                               6.275   7.90   9.625  11.4  \n",
       "Antigua and Barbuda                  0.000  13.90  14.125  14.7  \n",
       "...                                    ...    ...     ...   ...  \n",
       "Venezuela (Bolivarian Republic of)  11.600  13.15  14.100  14.3  \n",
       "Viet Nam                            10.975  11.50  12.050  12.6  \n",
       "Yemen                                8.350   8.55   8.775   9.0  \n",
       "Zambia                              10.425  11.25  12.075  12.5  \n",
       "Zimbabwe                             9.575   9.80  10.025  10.4  \n",
       "\n",
       "[183 rows x 152 columns]"
      ]
     },
     "execution_count": 14,
     "metadata": {},
     "output_type": "execute_result"
    }
   ],
   "source": [
    "df.groupby('Country').describe()"
   ]
  },
  {
   "cell_type": "markdown",
   "metadata": {},
   "source": [
    "## Outliers detection\n",
    "Předpokládáme, že vývoj v rámci jednotlivé země je konzistentní, respektive pozvolný. Pokusíme se detektovat některé outliery a nějak na ně reagovat."
   ]
  },
  {
   "cell_type": "code",
   "execution_count": 15,
   "metadata": {},
   "outputs": [],
   "source": [
    "def detect_outliers(df_country):\n",
    "    d = {}\n",
    "    for cont in df['Country'].unique():\n",
    "    # IQR method\n",
    "        df_country = df[df['Country'] == cont].drop(['Country', 'Status'], axis=1)\n",
    "        for c in df_country.columns:\n",
    "            m = df_country[c].mean()\n",
    "            date_outlier_mask = (df_country[c] > m*5)\n",
    "            if len(df_country[date_outlier_mask]) > 0:\n",
    "                if c in d.keys():\n",
    "                    d[c] = d[c] + 1\n",
    "                else:\n",
    "                    d[c] = 1\n",
    "\n",
    "    print(d)"
   ]
  },
  {
   "cell_type": "code",
   "execution_count": 16,
   "metadata": {
    "scrolled": true
   },
   "outputs": [
    {
     "name": "stdout",
     "output_type": "stream",
     "text": [
      "{'Measles ': 117, 'infant deaths': 2, 'under-five deaths ': 1, 'percentage expenditure': 2, 'Adult Mortality': 1}\n"
     ]
    }
   ],
   "source": [
    "detect_outliers(df)"
   ]
  },
  {
   "cell_type": "markdown",
   "metadata": {},
   "source": [
    "Vidíme, že sloupec \"Measles\" je problematický, odstraníme ho."
   ]
  },
  {
   "cell_type": "code",
   "execution_count": 17,
   "metadata": {},
   "outputs": [],
   "source": [
    "X_train.drop('Measles ', axis=1, inplace=True)\n",
    "X_test.drop('Measles ', axis=1, inplace=True)"
   ]
  },
  {
   "cell_type": "markdown",
   "metadata": {},
   "source": [
    "### Detekce důležitých sloupců (redukce dimenzionality)"
   ]
  },
  {
   "cell_type": "code",
   "execution_count": 18,
   "metadata": {},
   "outputs": [],
   "source": [
    "from itertools import combinations\n",
    "from sklearn.linear_model import LinearRegression\n",
    "from sklearn.metrics import mean_absolute_error"
   ]
  },
  {
   "cell_type": "code",
   "execution_count": 19,
   "metadata": {},
   "outputs": [
    {
     "name": "stdout",
     "output_type": "stream",
     "text": [
      "2.922318009469975 ('percentage expenditure', 'Hepatitis B', 'Population', ' thinness  1-19 years')\n"
     ]
    }
   ],
   "source": [
    "if not FAST:\n",
    "    mi = 10\n",
    "    mi_comb = None\n",
    "    for i in range(1, 6):\n",
    "        combs = combinations(X_train.columns, i)\n",
    "        for c in combs:\n",
    "            reg = LinearRegression().fit(X_train.drop(np.array(c), axis=1), y_train)\n",
    "            err = mean_absolute_error(y_test, reg.predict(X_test.drop(np.array(c), axis=1)))\n",
    "            if err < mi:\n",
    "                mi = err\n",
    "                mi_comb = c\n",
    "\n",
    "else:\n",
    "    mi = 2.922318009469975\n",
    "    mi_comb = ('percentage expenditure', 'Hepatitis B', 'Population', ' thinness  1-19 years')\n",
    "print(mi, mi_comb)\n",
    "X_train.drop(np.array(mi_comb), axis=1, inplace=True)\n",
    "X_test.drop(np.array(mi_comb), axis=1, inplace=True)"
   ]
  },
  {
   "cell_type": "markdown",
   "metadata": {},
   "source": [
    "## Predikce pomocí lineární regrese"
   ]
  },
  {
   "cell_type": "code",
   "execution_count": 20,
   "metadata": {},
   "outputs": [
    {
     "name": "stdout",
     "output_type": "stream",
     "text": [
      "2.8839998324167953\n"
     ]
    }
   ],
   "source": [
    "reg = LinearRegression().fit(X_train, y_train)\n",
    "print(mean_absolute_error(y_test, reg.predict(X_test)))"
   ]
  },
  {
   "cell_type": "markdown",
   "metadata": {},
   "source": [
    "### Normalizovaná data"
   ]
  },
  {
   "cell_type": "code",
   "execution_count": 21,
   "metadata": {},
   "outputs": [
    {
     "name": "stdout",
     "output_type": "stream",
     "text": [
      "2.8839998324167953\n"
     ]
    }
   ],
   "source": [
    "reg = LinearRegression(normalize=True).fit(X_train, y_train)\n",
    "print(mean_absolute_error(y_test, reg.predict(X_test)))"
   ]
  },
  {
   "cell_type": "markdown",
   "metadata": {},
   "source": [
    "### Standardizovaná data"
   ]
  },
  {
   "cell_type": "code",
   "execution_count": 22,
   "metadata": {},
   "outputs": [],
   "source": [
    "from sklearn import preprocessing"
   ]
  },
  {
   "cell_type": "code",
   "execution_count": 23,
   "metadata": {},
   "outputs": [
    {
     "name": "stdout",
     "output_type": "stream",
     "text": [
      "4750.602317962377\n"
     ]
    }
   ],
   "source": [
    "X_train_st = preprocessing.StandardScaler().fit_transform(X_train)\n",
    "X_train_st = pd.DataFrame(X_train_st)\n",
    "reg = LinearRegression().fit(X_train_st, y_train)\n",
    "print(mean_absolute_error(y_test, reg.predict(X_test)))"
   ]
  },
  {
   "cell_type": "markdown",
   "metadata": {},
   "source": [
    "Standardizovaná data jsou očividně nepoužitelná."
   ]
  },
  {
   "cell_type": "markdown",
   "metadata": {},
   "source": [
    "## Hřebenová regrese"
   ]
  },
  {
   "cell_type": "code",
   "execution_count": 24,
   "metadata": {},
   "outputs": [],
   "source": [
    "from sklearn.linear_model import Ridge"
   ]
  },
  {
   "cell_type": "code",
   "execution_count": 25,
   "metadata": {},
   "outputs": [
    {
     "name": "stdout",
     "output_type": "stream",
     "text": [
      "3.0161236975178745\n"
     ]
    }
   ],
   "source": [
    "model = Ridge(alpha=5000)\n",
    "model.fit(X_train, y_train)\n",
    "print(mean_absolute_error(y_test, model.predict(X_test)))"
   ]
  },
  {
   "cell_type": "markdown",
   "metadata": {},
   "source": [
    "### Normalizovaná data"
   ]
  },
  {
   "cell_type": "code",
   "execution_count": 26,
   "metadata": {},
   "outputs": [
    {
     "name": "stdout",
     "output_type": "stream",
     "text": [
      "3.3734005810863885\n"
     ]
    }
   ],
   "source": [
    "model = Ridge(alpha=1.0, normalize=True)\n",
    "model.fit(X_train, y_train)\n",
    "print(mean_absolute_error(y_test, model.predict(X_test)))"
   ]
  },
  {
   "cell_type": "markdown",
   "metadata": {},
   "source": [
    "### Standardizovaná data"
   ]
  },
  {
   "cell_type": "code",
   "execution_count": 27,
   "metadata": {},
   "outputs": [
    {
     "name": "stdout",
     "output_type": "stream",
     "text": [
      "3859.4898280531665\n"
     ]
    }
   ],
   "source": [
    "X_train_st = preprocessing.StandardScaler().fit_transform(X_train)\n",
    "X_train_st = pd.DataFrame(X_train_st)\n",
    "model = Ridge(alpha=5000)\n",
    "model.fit(X_train_st, y_train)\n",
    "print(mean_absolute_error(y_test, model.predict(X_test)))"
   ]
  },
  {
   "cell_type": "markdown",
   "metadata": {},
   "source": [
    "## LASSO"
   ]
  },
  {
   "cell_type": "code",
   "execution_count": 28,
   "metadata": {},
   "outputs": [],
   "source": [
    "from sklearn import linear_model"
   ]
  },
  {
   "cell_type": "code",
   "execution_count": 29,
   "metadata": {},
   "outputs": [
    {
     "name": "stdout",
     "output_type": "stream",
     "text": [
      "3.010972393512737\n"
     ]
    }
   ],
   "source": [
    "clf = linear_model.Lasso(alpha=1, max_iter = 3000)\n",
    "clf.fit(X_train, y_train)\n",
    "print(mean_absolute_error(y_test, clf.predict(X_test)))"
   ]
  },
  {
   "cell_type": "markdown",
   "metadata": {},
   "source": [
    "### Normalizovaná data"
   ]
  },
  {
   "cell_type": "code",
   "execution_count": 30,
   "metadata": {},
   "outputs": [
    {
     "name": "stdout",
     "output_type": "stream",
     "text": [
      "8.155243263957319\n"
     ]
    }
   ],
   "source": [
    "model = linear_model.Lasso(alpha=1.0, normalize=True)\n",
    "model.fit(X_train, y_train)\n",
    "print(mean_absolute_error(y_test, model.predict(X_test)))"
   ]
  },
  {
   "cell_type": "markdown",
   "metadata": {},
   "source": [
    "# Ladění hyperparametrů - Lasso\n",
    "Klasifikátor lasso umožnuje nastavit nejvíce hyperparametrů, najdeme ty nejlepší pomocí GridSearchCV"
   ]
  },
  {
   "cell_type": "code",
   "execution_count": 31,
   "metadata": {},
   "outputs": [],
   "source": [
    "from sklearn.model_selection import GridSearchCV"
   ]
  },
  {
   "cell_type": "code",
   "execution_count": 32,
   "metadata": {},
   "outputs": [],
   "source": [
    "clf = linear_model.Lasso()\n",
    "parameters = {'alpha':[0.1, 5], 'max_iter':[1000, 5000],'selection':('cyclic', 'random'), 'positive':(True, False), 'fit_intercept':(True, False), 'warm_start': (True, False)}"
   ]
  },
  {
   "cell_type": "code",
   "execution_count": 33,
   "metadata": {},
   "outputs": [
    {
     "data": {
      "text/plain": [
       "GridSearchCV(estimator=Lasso(),\n",
       "             param_grid={'alpha': [0.1, 5], 'fit_intercept': (True, False),\n",
       "                         'max_iter': [1000, 5000], 'positive': (True, False),\n",
       "                         'selection': ('cyclic', 'random'),\n",
       "                         'warm_start': (True, False)})"
      ]
     },
     "execution_count": 33,
     "metadata": {},
     "output_type": "execute_result"
    }
   ],
   "source": [
    "clf = GridSearchCV(clf, parameters)\n",
    "clf.fit(X_train, y_train)"
   ]
  },
  {
   "cell_type": "code",
   "execution_count": 34,
   "metadata": {},
   "outputs": [
    {
     "name": "stdout",
     "output_type": "stream",
     "text": [
      "Best params: Lasso(alpha=0.1, selection='random', warm_start=True)\n"
     ]
    }
   ],
   "source": [
    "print(f'Best params: {clf.best_estimator_}')"
   ]
  },
  {
   "cell_type": "code",
   "execution_count": 35,
   "metadata": {},
   "outputs": [
    {
     "name": "stdout",
     "output_type": "stream",
     "text": [
      "2.958850163763379\n"
     ]
    }
   ],
   "source": [
    "model = clf.best_estimator_\n",
    "model.fit(X_train, y_train)\n",
    "print(mean_absolute_error(y_test, model.predict(X_test)))"
   ]
  },
  {
   "cell_type": "markdown",
   "metadata": {},
   "source": [
    "# Shrnutí\n",
    "Podařilo se nám dosáhnout erroru kolem 3 let, což je poměrně slušný výsledek. Ze začátku jsme si rozdělili data na trénovací a testovací množinu. Množiny jsme poté doplnili pomocí KNN imputace, kdy na doplnění testovacích dat jsme použili fitnutý model z dat trénovacích. Odstranili jsme problematické sloupce, kde byly hlavně integritní prooblémy. Poté jsme použili 3 různé modely, kromě 2 zadaných ještě Lasso klasifikátor, kde jsme zkusili i tunění hyperparametrů. Přidání nových příznaků by asi mělo jen malý dopad, vzhledem k tomu, že bysme opět přidali příznak, který by byl nějak lineárně závislý na ostatních příznacích. Více by mohlo pomoct zkusit nějaké kombinace sloupců, tedy zkusit aplikovat redukci dimenzionality."
   ]
  }
 ],
 "metadata": {
  "kernelspec": {
   "display_name": "Python 3",
   "language": "python",
   "name": "python3"
  },
  "language_info": {
   "codemirror_mode": {
    "name": "ipython",
    "version": 3
   },
   "file_extension": ".py",
   "mimetype": "text/x-python",
   "name": "python",
   "nbconvert_exporter": "python",
   "pygments_lexer": "ipython3",
   "version": "3.7.3"
  }
 },
 "nbformat": 4,
 "nbformat_minor": 4
}
