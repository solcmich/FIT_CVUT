{
 "cells": [
  {
   "cell_type": "markdown",
   "metadata": {},
   "source": [
    "# Měření velikosti zahřívané součátky\n",
    "Tento úkol je zaměřen na využití kombinace dat z obyčejné RGB kamery a termokamery. Jako zahřívaná součástka bylo využito zařízení **Raspberry Pi 2 (Model B)** společně s **parazitními 2A rezistory** připojeny v USB.\n",
    "\n",
    "Úkol má za cíl oživit dovednosti studentů při práci s obrazem, jakými jsou například projektivní transformace, segmentace nejen v barevných kanálech nebo měření velikostí v reálných jednotkách.\n",
    "\n",
    "<img src=\"images/vv.png\" width=\"50%\"/>"
   ]
  },
  {
   "cell_type": "markdown",
   "metadata": {},
   "source": [
    "### Import knihoven a konfigurace"
   ]
  },
  {
   "cell_type": "code",
   "execution_count": null,
   "metadata": {},
   "outputs": [],
   "source": [
    "%run ../../../tutorials/files/svz.ipynb\n",
    "\n",
    "from scipy.spatial import distance"
   ]
  },
  {
   "cell_type": "markdown",
   "metadata": {},
   "source": [
    "### Pomocné funkce\n",
    "Seznamte se, lze využít. Ostatní již známé funkce jsou v notebooku [svz](../../tutorials/svz.ipynb)."
   ]
  },
  {
   "cell_type": "code",
   "execution_count": null,
   "metadata": {
    "code_folding": [
     0,
     66,
     73
    ],
    "run_control": {
     "marked": false
    }
   },
   "outputs": [],
   "source": [
    "def select_image_points(img, points_cnt = 4):\n",
    "    \"\"\" Opens a new image window, where user can interactively add or remove image points.\n",
    "    Points are added while holding CTRL key + pressing left mouse button and removed by ALT key + pressing left mouse button.\n",
    "    The point selection is terminated by pressing the 'q' key.\n",
    "    \n",
    "    Parameters\n",
    "    ----------\n",
    "    img : ndarray\n",
    "        Input image where image points are choosen and drawn.\n",
    "    points_cnt : Optional[int]\n",
    "        A maximum number of points to choose. A minimum number of points to compute the projective transformation is 4.\n",
    "    Returns\n",
    "    -------\n",
    "    list\n",
    "        Returns a list of size >= 4 and size <= points_cnt such that each elements represent (x, y) coordinate in input image.\n",
    "    \"\"\"\n",
    "    if points_cnt < 4: \n",
    "        raise ValueError('Number of points must be >= 4.')\n",
    "        \n",
    "    points = []\n",
    "    window_name = 'Point selection'\n",
    "    img_dimensions = img.shape[:2]\n",
    "    pts_dist_thresh = 0.01 * img_dimensions[1] # Scale drawing elements with image size\n",
    "    \n",
    "    def draw_circle(event, x, y, flags, param):\n",
    "        if event == cv2.EVENT_LBUTTONDOWN:\n",
    "            if flags == cv2.EVENT_FLAG_ALTKEY + cv2.EVENT_LBUTTONDOWN: \n",
    "                for p in points:\n",
    "                    if distance.euclidean(p, (x, y)) < pts_dist_thresh:\n",
    "                        points.remove(p)\n",
    "                        break\n",
    "            elif flags == cv2.EVENT_FLAG_CTRLKEY + cv2.EVENT_LBUTTONDOWN and len(points) < points_cnt:\n",
    "                points.append((x, y))           \n",
    "\n",
    "    cv2.namedWindow(window_name, cv2.WINDOW_NORMAL | cv2.WINDOW_GUI_NORMAL)\n",
    "    cv2.resizeWindow(window_name, 1080, 720)\n",
    "    cv2.moveWindow(window_name, 0, 0)\n",
    "    cv2.setMouseCallback(window_name, draw_circle)\n",
    "    \n",
    "    # Drawing section, scale drawing elements with image size\n",
    "    circle_diam = int(0.003 * img_dimensions[1])\n",
    "    lbl_offset = int(0.005 * img_dimensions[1])\n",
    "    lbl_font_scale = (0.001 * img_dimensions[1])\n",
    "    lbl_thickness = int(0.003 * img_dimensions[1])\n",
    "    \n",
    "    while 1:\n",
    "        drawn_img = img.copy()\n",
    "        \n",
    "        for i, p in enumerate(points):\n",
    "            cv2.circle(drawn_img, p, circle_diam , (0, 0, 255), cv2.FILLED)\n",
    "            cv2.putText(drawn_img, str(i), (p[0] + circle_diam + lbl_offset, p[1] + circle_diam + lbl_offset),\n",
    "                        0, lbl_font_scale, (0, 0, 255), lbl_thickness)\n",
    "            \n",
    "        cv2.imshow(window_name, drawn_img)\n",
    "        k = cv2.waitKey(1) & 0xFF\n",
    "        \n",
    "        if k == ord('q'):\n",
    "            break\n",
    "\n",
    "    cv2.destroyAllWindows()\n",
    "    \n",
    "    if len(points) < 4: \n",
    "        raise ValueError('Number of choosen points must be >= 4.')\n",
    "        \n",
    "    return points\n",
    "\n",
    "def copy_to(src, dst, mask):\n",
    "    '''Python alternative to C++/Java OpenCV's Mat.copyTo().\n",
    "    More: https://docs.opencv.org/trunk/d3/d63/classcv_1_1Mat.html#a626fe5f96d02525e2604d2ad46dd574f'''\n",
    "    locs = np.where(mask != 0) # Get the non-zero mask locations\n",
    "    dst[locs[0], locs[1]] = src[locs[0], locs[1]]\n",
    "    return dst\n",
    "\n",
    "def show_scale(min_val, max_val, color_map='jet'):\n",
    "    fig = plt.figure(figsize=(8, 3))\n",
    "    ax1 = fig.add_axes([0.05, 0.80, 0.9, 0.15])\n",
    "    norm = matplotlib.colors.Normalize(vmin=min_val, vmax=max_val)\n",
    "    cb1 = matplotlib.colorbar.ColorbarBase(ax1, cmap=color_map, norm=norm, orientation='horizontal')\n",
    "    cb1.set_label('Temperature °C')\n",
    "    plt.show()"
   ]
  },
  {
   "cell_type": "code",
   "execution_count": null,
   "metadata": {
    "code_folding": [
     0,
     7,
     15
    ]
   },
   "outputs": [],
   "source": [
    "def normalized_image(img):\n",
    "    # Dejte si pozor, že cv2.normalize nalezne minimální/maximální hodnotu v obraze vůči kterým normalizuje a tento vstup nelze změnit.\n",
    "    # Můžeme pouze nastavit nové minimum a maximum. Později v úkolu budete muset napsat svoji \"chytřejší\" normalizaci.\n",
    "    scaled = np.zeros_like(img)\n",
    "    cv2.normalize(img, scaled, alpha=0, beta=255, norm_type=cv2.NORM_MINMAX)\n",
    "    return scaled.astype('uint8')\n",
    "\n",
    "def to_3_channels(image_one_channel):\n",
    "    h,w = image_one_channel.shape\n",
    "    image3 = np.zeros((h,w,3), dtype=np.uint8)\n",
    "    image3[:,:,0] = image_one_channel\n",
    "    image3[:,:,1] = image_one_channel\n",
    "    image3[:,:,2] = image_one_channel\n",
    "    return image3\n",
    "\n",
    "def load_termo_csv(file_path):\n",
    "    return np.genfromtxt(file_path, delimiter=';')[:, :-1]"
   ]
  },
  {
   "cell_type": "markdown",
   "metadata": {},
   "source": [
    "---"
   ]
  },
  {
   "cell_type": "markdown",
   "metadata": {},
   "source": [
    "## Úkol\n",
    "K obrazové práci nad zahřívanou součástky jsou k dispozici nasnímaná data z rgb kamery a data reálných teplot z termokamery. Oboje je dostupné ve složce `data/`.\n",
    "\n",
    "Za úkol je možné získat až **8 bodů** a až **2 prémiové**."
   ]
  },
  {
   "cell_type": "markdown",
   "metadata": {},
   "source": [
    "### 1) Načtěte data\n",
    "Načtěte obrazová data ve formátu `png` a data teplot ve formátu `csv`. Data teplot obsahují reálné hodnoty teplot v jednotkách **°C** s přesností na desetinu stupně. Vhodně zobrazte jak data **obrazová**, tak data **teplot** obrázkem.\n",
    "\n",
    "<div style=\"color: blue; text-align: right\">[ 0,5 bodu ]</div>"
   ]
  },
  {
   "cell_type": "code",
   "execution_count": null,
   "metadata": {},
   "outputs": [],
   "source": [
    "DEBUG = True"
   ]
  },
  {
   "cell_type": "code",
   "execution_count": null,
   "metadata": {},
   "outputs": [],
   "source": [
    "image_rgb = cv2.imread('data/data_rgb.png')\n",
    "image_termo = load_termo_csv('data/data_temps.csv')\n",
    "image_termo_norm = normalized_image(image_termo)\n",
    "plot_images(image_termo_norm, image_rgb)"
   ]
  },
  {
   "cell_type": "markdown",
   "metadata": {},
   "source": [
    "### 2) Vypište hodnoty několika teplot\n",
    "Zvolte v obraze **3 body** a vypište hodnoty teploty v těchto bodech. Snažte se najít místa s **nejvyššími** teplotami.\n",
    "\n",
    "<div style=\"color: blue; text-align: right\">[ 0,5 bodu ]</div>"
   ]
  },
  {
   "cell_type": "code",
   "execution_count": null,
   "metadata": {},
   "outputs": [],
   "source": [
    "print(image_termo[300][500])\n",
    "print(image_termo[328][300])\n",
    "print(image_termo[328][200])"
   ]
  },
  {
   "cell_type": "markdown",
   "metadata": {},
   "source": [
    "### 3) Namapujte termosnímek na RGB\n",
    "Uvědomte si, že snímky **nejsou stejně velké** ani foceny ze **stejného úhlu**. Pamatujte, že je **důležité** uvědomit si **správně rovinu**, ve které pracujeme. Zobrazte jak obrázek RGB, tak namapovaný termosnímek.\n",
    "\n",
    "Klíčová slova:\n",
    "- přiřazení dvojic bodů\n",
    "- hledání transformační matice\n",
    "- warpování termosnímku na perspektivu RGB\n",
    "\n",
    "<div style=\"color: blue; text-align: right\">[ 1,5 bodu ]</div>"
   ]
  },
  {
   "cell_type": "code",
   "execution_count": null,
   "metadata": {},
   "outputs": [],
   "source": [
    "#Detects holes for screws in rapsberry pi image using morphology and HuoughCircles\n",
    "#preimum 2\n",
    "def screw_holes_rgb(image, lower_bound, upper_bound):\n",
    "    \n",
    "    hsv_image = cv2.cvtColor(image, cv2.COLOR_RGB2HSV)\n",
    "    mask = cv2.inRange(hsv_image, lower_bound, upper_bound)\n",
    "    #remove noise\n",
    "    kernel = np.ones((3,3),np.uint8)\n",
    "    mask_opened = cv2.morphologyEx(mask, cv2.MORPH_OPEN, kernel)\n",
    "\n",
    "    #prepare for better detection\n",
    "    kernel = np.ones((30,10),np.uint8)\n",
    "    mask_closed = cv2.morphologyEx(mask_opened, cv2.MORPH_CLOSE, kernel)\n",
    "    \n",
    "    image = cv2.bitwise_and(hsv_image, hsv_image, mask=mask_closed)\n",
    "    image_gray = cv2.cvtColor(image, cv2.COLOR_BGR2GRAY)\n",
    "    \n",
    "    if DEBUG:\n",
    "        plot_images(mask, mask_opened, mask_closed, image)\n",
    "    \n",
    "    \n",
    "    circles = cv2.HoughCircles(image_gray, cv2.HOUGH_GRADIENT, 10, 150, minRadius=5, maxRadius=50)\n",
    "    ret = circles[0, :]\n",
    "    ret = np.column_stack((ret[0:,:2],ret[0:,3:]))\n",
    "    return ret"
   ]
  },
  {
   "cell_type": "code",
   "execution_count": null,
   "metadata": {},
   "outputs": [],
   "source": [
    "#Not working, could not find right approach\n",
    "def screw_holes_termo(image, lower_bound, upper_bound):\n",
    "    gray = cv2.cvtColor(to_3_channels(image_termo_norm), cv2.COLOR_BGR2GRAY)\n",
    "    blurred = cv2.GaussianBlur(gray,(5,5),0)\n",
    "    edges = cv2.Canny(blurred, 6, 6)\n",
    "    kernel = np.ones((2,2), np.uint8)\n",
    "\n",
    "    #edges_e = cv2.erode(edges, kernel, iterations = 1)\n",
    "    edges_d = cv2.dilate(edges, kernel, iterations = 1)\n",
    "    kernel = cv2.getStructuringElement(cv2.MORPH_ELLIPSE,(3,3))\n",
    "    edges_d_d = cv2.dilate(edges, kernel, iterations = 2)\n",
    "    \n",
    "    circles = cv2.HoughCircles(edges_d, cv2.HOUGH_GRADIENT, 5, 100, minRadius = 3, maxRadius = 15)\n",
    "    img_rgb_cp = image_rgb.copy()\n",
    "    \n",
    "    #From stack overflow-----------\n",
    "    if circles is not None:\n",
    "        circles = np.round(circles[0, :]).astype(\"int\")\n",
    " \n",
    "        for (x, y, r) in circles:\n",
    "            cv2.circle(img_rgb_cp, (x, y), r, (0, 255, 0), 4)\n",
    "            cv2.rectangle(img_rgb_cp, (x - 5, y - 5), (x + 5, y + 5), (0, 128, 255), -1)\n",
    "    #--------------------------------\n",
    "    \n",
    "    if DEBUG:\n",
    "        plot_images(edges_d, img_rgb_cp)\n",
    "       \n",
    "    #return circles"
   ]
  },
  {
   "cell_type": "code",
   "execution_count": null,
   "metadata": {
    "run_control": {
     "marked": false
    },
    "scrolled": true
   },
   "outputs": [],
   "source": [
    "points_rgb = np.array(screw_holes_rgb(image_rgb, (70, 70, 130), (125, 135, 225)))\n",
    "#order_points, BL is first and then counter-clockwise\n",
    "points_rgb = order_points(points_rgb)    \n",
    "\n",
    "#How I tried to resolve the holes for screws in termo image\n",
    "if DEBUG:\n",
    "    screw_holes_termo(image_termo, 1,1)\n",
    "\n",
    "#points_termo = np.array(select_image_points(image_termo_norm))\n",
    "points_termo = np.array([[122, 424], [304, 424], [301, 272], [120, 272]])\n",
    "\n",
    "H, _ = cv2.findHomography(points_termo, points_rgb)\n",
    "image_termo_warped = cv2.warpPerspective(image_termo, H, (1920, 1200))\n",
    "\n",
    "plot_images(image_termo_warped, image_rgb)"
   ]
  },
  {
   "cell_type": "markdown",
   "metadata": {},
   "source": [
    "# 4) Segmentujte v termosnímku\n",
    "Pomocí rozsahu **reálných teplot** (ne jasových hodnot) vytvořte binární masku, která bude obsahovat **celé Raspberry Pi** bez připojených USB rezistorů. Masku zobrazte.\n",
    "\n",
    "<div style=\"color: blue; text-align: right\">[ 1,5 bodu ]</div>"
   ]
  },
  {
   "cell_type": "code",
   "execution_count": null,
   "metadata": {},
   "outputs": [],
   "source": [
    "termo_maks = cv2.inRange(image_termo_warped, 37, 46)\n",
    "kernel = np.ones((11,11),np.uint8)\n",
    "termo_maks_closed = cv2.morphologyEx(termo_maks,cv2.MORPH_CLOSE, kernel)\n",
    "contour_basic, _  = cv2.findContours(termo_maks, cv2.RETR_LIST, cv2.CHAIN_APPROX_SIMPLE) ###\n",
    "contour_biggest = max(contour_basic, key=cv2.contourArea)\n",
    "\n",
    "mask_biggest = cv2.drawContours(np.zeros_like(termo_maks), [contour_biggest], -1, color=(255, 0, 0), thickness=cv2.FILLED)\n",
    "\n",
    "if DEBUG:\n",
    "    plot_images(termo_maks, termo_maks_closed)\n",
    "    \n",
    "plot_images(mask_biggest)"
   ]
  },
  {
   "cell_type": "markdown",
   "metadata": {},
   "source": [
    "### 5) Aplikujte data teplot na RGB obraz\n",
    "Pomocí výše vytvořené **binární masky** segmentujte **data teplot**. Ty následně zobrazte pomocí vybrané [JET colormapy](https://docs.opencv.org/3.2.0/d3/d50/group__imgproc__colormap.html). Jako dílčí výstup **vytvořte funkci** pro **min-max normalizaci** teplotních hodnot obrazu, která přímá na vstupu **min, max, newmin, newmax**. Bude se hodit při aplikaci colormapy. Dále se vám může hodit funkce `to_3_channels()` k snadnějším bitovým operacím. Její využití však není podmínkou, způsobů získání výsledku je více.\n",
    "\n",
    "Snímek by měl vypadat následovně (nenechte se zmást zobrazením BGR $\\leftrightarrow$ RGB při používání matplotlibu).\n",
    "\n",
    "<img src=\"images/fuse.png\" width=\"50%\"/>\n",
    "\n",
    "Klíčová slova:\n",
    "- min-max normalizace\n",
    "- aplikace colormapy\n",
    "- segmentace pomocí masky\n",
    "- vážené spojení dvou obrazů\n",
    "\n",
    "<div style=\"color: blue; text-align: right\">[ 1,5 bodu ]</div>"
   ]
  },
  {
   "cell_type": "code",
   "execution_count": null,
   "metadata": {},
   "outputs": [],
   "source": [
    "# Min-max normalization\n",
    "def min_max_norm(img, old_min, old_max, new_min, new_max):\n",
    "    scaled = np.zeros_like(img)\n",
    "    for y in range(len(img)):\n",
    "        for x in range(len(img[y])):\n",
    "            #Mapping from old min - old max to new min - new max, pixel after pixel, didn't know other ways\n",
    "            scaled[y][x] = min(old_max - (max(img[y][x] - new_min, old_min) / (new_max - new_min)) * old_max, old_max)\n",
    "    \n",
    "    return scaled.astype('uint8')"
   ]
  },
  {
   "cell_type": "code",
   "execution_count": null,
   "metadata": {},
   "outputs": [],
   "source": [
    "temps_segmented = image_termo_warped.copy()\n",
    "temps_segmented_norm = min_max_norm(temps_segmented, 0, 255, 37, 47)\n",
    "\n",
    "#Apply color map\n",
    "temps_segmented_norm = cv2.applyColorMap(temps_segmented_norm, cv2.COLORMAP_JET)\n",
    "#Get rid of the noise\n",
    "temps_segmented_norm = cv2.bitwise_and(to_3_channels(mask_biggest), temps_segmented_norm)\n",
    "\n",
    "alpha = 0.5\n",
    "beta = (1.0 - alpha)\n",
    "gamma = 40\n",
    "\n",
    "dst = cv2.addWeighted(temps_segmented_norm, alpha, image_rgb, beta, gamma, 0)\n",
    "if DEBUG:\n",
    "    plot_images(image_rgb, temps_segmented_norm)\n",
    "    \n",
    "plot_images(dst)"
   ]
  },
  {
   "cell_type": "markdown",
   "metadata": {},
   "source": [
    "### 6) Segmentujte součástky\n",
    "Využijte teplotní data k segmentaci **pouze 2 zahřívajících se** součástek - mikročipů. Zajímá nás plocha, která má teplotu vyšší než **43 °C**.\n",
    "\n",
    "Při jejich hledání **využijte** informaci, že hledané mikročipy mají přibližně tvar čtverce.\n",
    "\n",
    "<div style=\"color: blue; text-align: right\">[ 1,5 bodu ]</div>"
   ]
  },
  {
   "cell_type": "code",
   "execution_count": null,
   "metadata": {},
   "outputs": [],
   "source": [
    "def is_square(rect, tollerance = 0.2):\n",
    "    w = rect[2]\n",
    "    h = rect[3]\n",
    "    max_r = (1 + tollerance)\n",
    "    return h <= w * max_r and w <= h * max_r"
   ]
  },
  {
   "cell_type": "code",
   "execution_count": null,
   "metadata": {},
   "outputs": [],
   "source": [
    "img_hot = cv2.inRange(image_termo_warped, 43, 80)\n",
    "img_hot = cv2.bitwise_and(img_hot, mask_biggest)\n",
    "\n",
    "contour_basic, _  = cv2.findContours(img_hot, cv2.RETR_LIST, cv2.CHAIN_APPROX_SIMPLE) ###\\\n",
    "#Check if its near square\n",
    "contours_filtered_termo = [c for c in contour_basic if is_square(cv2.boundingRect(c))]\n",
    "\n",
    "img_rgb_cp = image_rgb.copy()\n",
    "img_rgb_cp_dbg = None\n",
    "\n",
    "if DEBUG:\n",
    "    img_rgb_cp_dbg = image_rgb.copy()\n",
    "    for c in contour_basic:\n",
    "        x,y,w,h = cv2.boundingRect(c)\n",
    "        cv2.rectangle(img_rgb_cp_dbg,(x,y),(x+w,y+h),(0,255,0),3)\n",
    "\n",
    "for c in contours_filtered_termo:\n",
    "    x,y,w,h = cv2.boundingRect(c)\n",
    "    cv2.rectangle(img_rgb_cp,(x,y),(x+w,y+h),(0,255,0),3)\n",
    "\n",
    "if DEBUG:   \n",
    "    plot_images(img_rgb_cp_dbg, img_rgb_cp)\n",
    "else:    \n",
    "    plot_images(img_rgb_cp)"
   ]
  },
  {
   "cell_type": "markdown",
   "metadata": {},
   "source": [
    "### 7) Zjistěte velikost mikročipů v reálných jednotkách\n",
    "Zjistěte pro každý mikročip, jak velká je celková zahřívaná plocha v cm$^2$, mající vyšší teplotu než je pro nás kritických **43 °C**. Pro přechod z pixelů do reálných jednotek jsme důkladně cvičili 2 různé způsoby. V tomto případě, je ale jeden z nich správnější, než ten druhý. Vyberte, který chcete, o absolutní přesnost zde v tuhle chvíli nejde. Disktutujte však správnost vybraného postupu.\n",
    "\n",
    "**HINT -** Perspektiva.\n",
    "\n",
    "<div style=\"color: blue; text-align: right\">[ 1 bod ]</div>"
   ]
  },
  {
   "cell_type": "code",
   "execution_count": null,
   "metadata": {},
   "outputs": [],
   "source": [
    "def cnt_dist(p1, p2):\n",
    "    return ((p1[0] - p2[0])**2 + (p1[1] - p2[1])**2)**(0.5)\n",
    "\n",
    "def cnt_area(rect, ratio):\n",
    "    return round(rect[1][1] * rect[1][0] * ratio**2, 2)"
   ]
  },
  {
   "cell_type": "code",
   "execution_count": null,
   "metadata": {},
   "outputs": [],
   "source": [
    "#lepší bude postup bez perspektivy, jelikož chybí vertikální osa.\n",
    "p1 = (565, 197)\n",
    "p2 = (996, 199)\n",
    "real_lenght = 5\n",
    "dst = cnt_dist(p1, p2)\n",
    "ratio = real_lenght / dst\n",
    "\n",
    "img_rgb_cp_cp = image_rgb.copy()\n",
    "\n",
    "for c in contours_filtered_termo:\n",
    "    rect = cv2.minAreaRect(c)\n",
    "    text = str(round(cv2.contourArea(c) * ratio**2, 2)) + ' cm2'\n",
    "    font = cv2.FONT_HERSHEY_SIMPLEX \n",
    "    org = (round(rect[0][0] - rect[1][0] / 2), round(rect[0][1] - rect[1][1]))\n",
    "    \n",
    "    img_rgb_cp_cp = cv2.putText(img_rgb_cp_cp, text, org, font, 1.2,  \n",
    "                 (255, 0, 122), 3) \n",
    "    \n",
    "img_rgb_cp_cp = cv2.drawContours(img_rgb_cp_cp, contours_filtered_termo,-1, (0,0,255), 3)\n",
    "\n",
    "contours_filtered_termo = sorted(contours_filtered_termo, key=lambda x: cv2.contourArea(x))\n",
    "\n",
    "assert(len(contours_filtered_termo) == 2)\n",
    "\n",
    "chip_bigger_area_termo = cv2.contourArea(contours_filtered_termo[1]) * ratio**2\n",
    "chip_smaller_area_termo = cv2.contourArea(contours_filtered_termo[0]) * ratio**2\n",
    "\n",
    "print(f'Bigger chip overheated area: {round(chip_bigger_area_termo, 2)} cm2')\n",
    "print(f'Smaller chip overheated area: {round(chip_smaller_area_termo, 2)} cm2')\n",
    "\n",
    "plot_images(img_rgb_cp_cp)"
   ]
  },
  {
   "cell_type": "code",
   "execution_count": null,
   "metadata": {},
   "outputs": [],
   "source": [
    "#premium 2\n",
    "\n",
    "gray = cv2.cvtColor(image_rgb, cv2.COLOR_BGR2GRAY)\n",
    "gray = cv2.bitwise_and(gray, mask_biggest)\n",
    "#Apply blur\n",
    "blurred = cv2.GaussianBlur(gray,(3,3),0)\n",
    "edges = cv2.Canny(blurred, 50, 140)\n",
    "\n",
    "kernel = np.ones((2,2), np.uint8)\n",
    "edges_d = cv2.dilate(edges, kernel, iterations = 2)\n",
    "edges_d_masked = cv2.bitwise_not(edges_d)\n",
    "edges_d_masked2 = cv2.bitwise_and(edges_d_masked, mask_biggest)\n",
    "\n",
    "contour_basic, _  = cv2.findContours(edges_d, cv2.RETR_LIST, cv2.CHAIN_APPROX_SIMPLE) ###\\\n",
    "\n",
    "min_area = 2000\n",
    "#Check if its near square\n",
    "contours_filtered = [c for c in contour_basic if is_square(cv2.boundingRect(c), 0.05) and cv2.contourArea(c) > min_area]\n",
    "print(f'Total contours: {len(contour_basic)} vs. filtered contours: {len(contours_filtered)}')\n",
    "img_rgb_cp = image_rgb.copy()\n",
    "\n",
    "for c in contours_filtered:\n",
    "    x,y,w,h = cv2.boundingRect(c)\n",
    "    cv2.rectangle(img_rgb_cp,(x,y),(x+w,y+h),(0,255,0),3)\n",
    "    \n",
    "contours_filtered = sorted(contours_filtered, key=lambda x: cv2.contourArea(x))\n",
    "\n",
    "if DEBUG:\n",
    "    plot_images(edges_d, edges_d_masked, edges_d_masked2, img_rgb_cp)\n",
    "else:\n",
    "    plot_images(img_rgb_cp)\n",
    "\n",
    "assert(len(contours_filtered) == 2)\n",
    "\n",
    "chip_bigger_area_rgb = cv2.contourArea(contours_filtered[1]) * ratio**2\n",
    "chip_smaller_area_rgb = cv2.contourArea(contours_filtered[0]) * ratio**2\n",
    "\n",
    "print(f'Bigger chip area: {round(chip_bigger_area_rgb, 2)} cm2')\n",
    "print(f'Smaller chip area: {round(chip_smaller_area_rgb, 2)} cm2')\n",
    "\n",
    "print(f'Bigger chip overheated area: { round(chip_bigger_area_termo*100 / chip_bigger_area_rgb, 1) }%')\n",
    "print(f'Smaller chip overheated area: { round (chip_smaller_area_termo*100 / chip_smaller_area_rgb, 1) }%')"
   ]
  },
  {
   "cell_type": "markdown",
   "metadata": {},
   "source": [
    "---"
   ]
  },
  {
   "cell_type": "markdown",
   "metadata": {},
   "source": [
    "### 8) Prémium #1\n",
    "Nabízím 1 prémiový bod za detekci středů kružnic v RGB i v termo automatizovaně pomocí algoritmů. Například pomocí Houghovy transformace nebo i třeba hranové detekce + tvarových charakteristik. Jde primárně o díry na šrouby, které lze využít k hledání korespondenčních bodů a následné aplikaci perspektivní transformace.\n",
    "\n",
    "### 9) Prémium #2\n",
    "Nabízím 1 prémiový bod za výpočet plochy v cm$^2$ obou mikročipů v RGB obraze. Následně je nutné výsledky dát do poměru s vypočtenou plochou z termo snímku, která se zahřívala nad kritických 43° C. Tím lze například porovnat, který z nich se více zahřívá."
   ]
  }
 ],
 "metadata": {
  "kernelspec": {
   "display_name": "Python 3",
   "language": "python",
   "name": "python3"
  },
  "language_info": {
   "codemirror_mode": {
    "name": "ipython",
    "version": 3
   },
   "file_extension": ".py",
   "mimetype": "text/x-python",
   "name": "python",
   "nbconvert_exporter": "python",
   "pygments_lexer": "ipython3",
   "version": "3.7.4"
  }
 },
 "nbformat": 4,
 "nbformat_minor": 2
}
