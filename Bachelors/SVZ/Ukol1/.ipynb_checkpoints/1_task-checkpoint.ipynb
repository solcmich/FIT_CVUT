{
 "cells": [
  {
   "cell_type": "markdown",
   "metadata": {},
   "source": [
    "### Úkol"
   ]
  },
  {
   "cell_type": "markdown",
   "metadata": {},
   "source": [
    "# Segmentace obrazu a měření rozměrů\n",
    "Základní znalostí při zpracování obrazu je nejenom ideálně nasnímat obraz, ale hlavně ze získaného obrazu dostat použitelné informace. Extrakce objektů z obrazu (oddělení objektů od pozadí) se nazývá segmentace. Nejčastěji se využívá metod prahování, hranové detekce nebo kontur ([viz link](https://circuitdigest.com/tutorial/image-segmentation-using-opencv)).\n",
    "\n",
    "Když už se podaří získat z obrazu objekty, je dále potřeba změřit jejich rozměry - a to nejen v pixelech, ale hlavně reálné rozměry v cm nebo dokonce v menších jednotkách. \n",
    "\n",
    "Na cvičení se bude využívat umělý obrázek s objekty jejichž rozměry bude třeba automatizovaně získat.\n",
    "\n",
    "![](images/index.jpg)"
   ]
  },
  {
   "cell_type": "markdown",
   "metadata": {},
   "source": [
    "### Import knihoven a konfigurace"
   ]
  },
  {
   "cell_type": "code",
   "execution_count": null,
   "metadata": {
    "scrolled": true
   },
   "outputs": [],
   "source": [
    "%run ../svz.ipynb"
   ]
  },
  {
   "cell_type": "markdown",
   "metadata": {},
   "source": [
    "### Pomocné funkce\n",
    "Z následujících funkcí je potřeba vybírat ty vhodné pro splnění úkolu."
   ]
  },
  {
   "cell_type": "markdown",
   "metadata": {
    "code_folding": [
     0
    ]
   },
   "source": [
    "Seznam funkcí pro přehlednost:\n",
    "\n",
    "\n",
    "První část\n",
    "- [`show_images(...)`](../svz.ipynb#show_functions)\n",
    "- [`load_image(...)`](../svz.ipynb#load_save_functions)\n",
    "- [`crop(...)`](../svz.ipynb#preprocessing_functions)\n",
    "\n",
    "Druhá část\n",
    "- [`copy_to(...)`](../svz.ipynb#measuring_funtions)\n",
    "- [`midpoint(...)`](../svz.ipynb#measuring_funtions)\n",
    "- [`order_points(...)`](../svz.ipynb#measuring_funtions)\n",
    "- [`rotate_image(...)`](../svz.ipynb#measuring_funtions)\n",
    "- [`draw_rotated_text(...)`](../svz.ipynb#measuring_funtions)\n",
    "- [`draw_real_sizes(...)`](../svz.ipynb#measuring_funtions)"
   ]
  },
  {
   "cell_type": "markdown",
   "metadata": {
    "ExecuteTime": {
     "end_time": "2019-07-15T12:49:02.136951Z",
     "start_time": "2019-07-15T12:49:02.130963Z"
    }
   },
   "source": [
    "---"
   ]
  },
  {
   "cell_type": "markdown",
   "metadata": {},
   "source": [
    "### Úkol 1\n",
    "\n",
    "Úkol je zaměřen na segmentace obrazů, získání kontur objektů a měření poměru rozměrů v cm a pixelech."
   ]
  },
  {
   "cell_type": "markdown",
   "metadata": {},
   "source": [
    "**1) Načtěte a zkontrolujte zaznamenaný obrázek vzoru pomocí kamery. Nadefinujte proměné s šířkou a výškou referečního objektu.**\n",
    "\n",
    "Obrázek nastavte tak, aby byl ideálně záběr pouze na něj. *HINT: Je možné pomoci si oříznutím obrázku (crop).*"
   ]
  },
  {
   "cell_type": "code",
   "execution_count": null,
   "metadata": {},
   "outputs": [],
   "source": [
    "img_patterns = load_image(r'patterns_photo_basic.jpg') ###\n",
    "img_patterns = crop(img_patterns, 280, 300, 3900, 2500) \n",
    "show_images(img_patterns)"
   ]
  },
  {
   "cell_type": "code",
   "execution_count": null,
   "metadata": {},
   "outputs": [],
   "source": [
    "ref_width_real = 4\n",
    "ref_height_real = 8"
   ]
  },
  {
   "cell_type": "markdown",
   "metadata": {},
   "source": [
    "**2) Využijte funkci [cv2.inRange()](https://docs.opencv.org/3.4.1/d2/de8/group__core__array.html#ga48af0ab51e36436c5d04340e036ce981) k získání masky referenčního obdélníku.**\n",
    "\n",
    "Funkce kromě zdrojového obrázku přijímá dolní a horní mez hodnoty pixelů ve formátu BGR (pozor celé OpenCV funguje v režimu BGR, ne RGB). Tedy dvě trojice (tuple) ve formátu (b, g, r), kde 0 <= b, g, r <= 255. Pixely s hodnotou >= než dolní mez a <= než horní mez budou mít ve výsledné masce hodnotu 255, ostatní 0. \n",
    "\n",
    "Dolní a horní mez naleznete experimentálně."
   ]
  },
  {
   "cell_type": "code",
   "execution_count": null,
   "metadata": {},
   "outputs": [],
   "source": [
    "ref_mask = cv2.inRange(img_patterns, (0, 40, 120), (50, 220, 255)) ### tuples\n",
    "show_images(ref_mask)"
   ]
  },
  {
   "cell_type": "markdown",
   "metadata": {},
   "source": [
    "**3) Nalezněte konturu, která pokrývá nekvětší plochu. Otestujte aproximaci kontury na obdélník.**\n",
    "\n",
    "Výsledná maska by měla ideálně obsahovat pouze referenční obdelník, v obrazu se ale obecně může vyskytovat i šum. \n",
    "Nyní je nutné získat pozici referenčního obdélníku v masce obrazu. \n",
    "Nejjednoduším způsobem je vyhledání kontur (obrysů) v obraze pomocí [cv2.findContours()](https://docs.opencv.org/3.3.1/d3/dc0/group__imgproc__shape.html#ga17ed9f5d79ae97bd4c7cf18403e1689a). Vyhledání kontur funguje jen na binárním černobílém obraze, proto jsme nejdříve museli využít cv2.inRange() k získání masky.\n",
    "\n",
    "Konturu si lze představit jako křivku spojující několik bodů kolem obrysu souvislého objektu. Funkce cv2.findContours() příjímá navíc dva parametry, contour retrieval mode a contour approximation method. Těmito parametry se ve většině případů nemusíme zabývat. Zjednodušeně je tedy nastavíme `mode=cv2.RETR_LIST` a `method=cv2.CHAIN_APPROX_SIMPLE`. Pokud by vás přeci jen zajímaly, můžete si o nich přečíst [zde](https://docs.opencv.org/3.3.1/d4/d73/tutorial_py_contours_begin.html)\n",
    "\n",
    "Vzhledem k šumu, který se na každém snímku vyskytuje, prakticky nikdy nenajdeme konturu pouze jednu. Je tedy nutné následně provést filtrování. V našem případě si vystačíme s výběrem kontury, která má největší plochu.\n",
    "\n",
    "Posledním krokem je validace našeho postupu a vizualizace nalezené kontury pomocí funkce [cv2.drawContours()](https://docs.opencv.org/3.3.1/d6/d6e/group__imgproc__draw.html#ga746c0625f1781f1ffc9056259103edbc).\n",
    "                                                                                "
   ]
  },
  {
   "cell_type": "code",
   "execution_count": null,
   "metadata": {},
   "outputs": [],
   "source": [
    "contour_basic, _  = cv2.findContours(ref_mask, cv2.RETR_LIST, cv2.CHAIN_APPROX_SIMPLE) ###\n",
    "print(f'Found {len(contour_basic)} contours.')\n",
    "\n",
    "# pick only the contour with the biggest area\n",
    "contour_biggest = max(contour_basic, key=cv2.contourArea)\n",
    "print(f'Biggest contour area: {cv2.contourArea(contour_biggest)}, coordinates:\\n {contour_biggest.reshape((-1, 2)).tolist()}')\n",
    "contour_drawn = cv2.drawContours(img_patterns.copy(), [contour_biggest], -1, color=(255, 0, 0), thickness=4)\n",
    "show_images(contour_drawn)"
   ]
  },
  {
   "cell_type": "markdown",
   "metadata": {},
   "source": [
    "Z výsledných souřadnic vidíme, že kontura netvoří přesný obdelník, proto ji musíme obdélníkem aproximovat. To lze pomocí funkce [cv2.minAreaRect](https://docs.opencv.org/3.1.0/d3/dc0/group__imgproc__shape.html#ga3d476a3417130ae5154aea421ca7ead9). Návratovou hodnotou této funkce je tuple - (střed obdélníku (x,y), (výška, šířka), úhel rotace obdélníku). Jedna otázka zní, co je výška a co je šířka? Musíte to vždycky kontrolovat okem.\n",
    "\n",
    "Pomocná funkce [cv2.boxPoints()](https://docs.opencv.org/3.1.0/d3/dc0/group__imgproc__shape.html#gaf78d467e024b4d7936cf9397185d2f5c) převádí nalezený obdélník z formátu (střed obdélníku (x,y), (šířka, výška), úhel rotace obdélníku) na 4 rohové body obdélníku ve formátu (x, y). To se může hodit např. k vizualizaci (lze použít jako vstup pro cv2.drawContours()). Pozor, pořadí vrácených bodů není zaručeno."
   ]
  },
  {
   "cell_type": "code",
   "execution_count": null,
   "metadata": {
    "scrolled": true
   },
   "outputs": [],
   "source": [
    "rect = cv2.minAreaRect(contour_biggest) ###\n",
    "print(f'Rect tuple: {rect}')\n",
    "print(f'(cx, cy)={rect[0]}, (width, height)={rect[1]}, angle={rect[2]}')\n",
    "print(f'Rect points: {cv2.boxPoints(rect).tolist()}')"
   ]
  },
  {
   "cell_type": "markdown",
   "metadata": {},
   "source": [
    "**5) Nalezenou šířku referenčního obdélníku v pixelech můžeme konečně využít k získání poměru skutečné šířky obdélníku v reálných jednotkách a pixelové šířky obdélníku v obraze. Tento poměr budeme následně potřebovat k výpočtu rozměrů ostatních neznámých objektů.**"
   ]
  },
  {
   "cell_type": "code",
   "execution_count": null,
   "metadata": {},
   "outputs": [],
   "source": [
    "ref_width_image, ref_height_image = rect[1]\n",
    "real_image_ratio = ref_width_real / ref_width_image ### \n",
    "print(f'Ratio between real width and image width: {real_image_ratio}')"
   ]
  },
  {
   "cell_type": "markdown",
   "metadata": {},
   "source": [
    "---"
   ]
  },
  {
   "cell_type": "markdown",
   "metadata": {},
   "source": [
    "### Úkol 2\n",
    "\n",
    "Úkol 1 máme za sebou a už víme poměr mezi rozměrem v cm a pixelech, tím pádem už můžeme naměřit rozměry ostatních objektů na obrázku s neznámými rozměry."
   ]
  },
  {
   "cell_type": "markdown",
   "metadata": {},
   "source": [
    "**1) Opět využijte funkci [cv2.inRange()](https://docs.opencv.org/3.4.1/d2/de8/group__core__array.html#ga48af0ab51e36436c5d04340e036ce981), tentokrát k získání masky objektů s neznámými skutečnými rozměry.**\n",
    "\n",
    "**2) Nalezněte v nové masce snímku kontury stejně jako v případě referenčního objektu.**\n",
    "\n",
    "**3) Následně je provedeno filtrování kontur podle jejich obsahu. Prahovou hodnotu obsahu v pixelech (threshold) je nutno zvolit experimentálně.**"
   ]
  },
  {
   "cell_type": "code",
   "execution_count": null,
   "metadata": {},
   "outputs": [],
   "source": [
    "patterns_mask =  cv2.inRange(img_patterns, (30, 20, 30), (100, 255, 100)) ###\n",
    "show_images(patterns_mask)"
   ]
  },
  {
   "cell_type": "code",
   "execution_count": null,
   "metadata": {},
   "outputs": [],
   "source": [
    "contours, _  = cv2.findContours(patterns_mask, cv2.RETR_LIST, cv2.CHAIN_APPROX_SIMPLE) ###\n",
    "print(f'Found {len(contours)} contours.')\n",
    "\n",
    "# Filter out noise\n",
    "threshold = 50000 ###\n",
    "contours =  [c for c in contours if cv2.contourArea(c) > threshold]\n",
    "print(f'After filtering, {len(contours)} contours remained.')\n",
    "\n",
    "contour_drawn = cv2.drawContours(img_patterns.copy(), contours, -1, color=(255, 0, 0 ), thickness=5)\n",
    "show_images(contour_drawn)\n",
    "\n",
    "# Sort contours by area. Just for better debugging.\n",
    "contours.sort(key=cv2.contourArea, reverse=True)"
   ]
  },
  {
   "cell_type": "markdown",
   "metadata": {},
   "source": [
    "**4) Nalezněte skutečné rozměry objektu**\n",
    "\n",
    "Nyní potřebujeme pro jednotlivé kontury zjistit jejich skutečné rozměry, které chceme vizualizovat do výsledného obrázku.\n",
    "\n",
    "Pro každou konturu tedy získáme jeji obdélníkovou aproximaci pomocí [cv2.minAreaRect](https://docs.opencv.org/3.1.0/d3/dc0/group__imgproc__shape.html#ga3d476a3417130ae5154aea421ca7ead9). Následně můžeme vypočítat skutečnou šířku a výšku objektu, díky předešlému vypočítanému poměru mezi skutečnou šířkou a pixelovou šířkou. Posledním krokem je volání funkce `draw_real_sizes()`, která se do vstupního obrázku pokusí vykreslit rozměry nalezeného objektu."
   ]
  },
  {
   "cell_type": "code",
   "execution_count": null,
   "metadata": {},
   "outputs": [],
   "source": [
    "# create a copy of original image\n",
    "sizes_drawn = img_patterns.copy()\n",
    "\n",
    "for c in contours:\n",
    "    rect = cv2.minAreaRect(c) ###\n",
    "    shape_width, shape_height = rect[1] ### \n",
    "    real_width = shape_width * real_image_ratio ###\n",
    "    real_height = shape_height * real_image_ratio ###\n",
    "       \n",
    "    cv2.drawContours(sizes_drawn, [c], -1, color=(255, 0, 255 ), thickness=5)\n",
    "    sizes_drawn = draw_real_sizes(sizes_drawn, rect, real_height, real_width,\n",
    "                                  lbl_size_scale=1.5, lbl_color=(0, 0, 200), lbl_thickness=3) ###\n",
    "\n",
    "show_images(sizes_drawn)"
   ]
  },
  {
   "cell_type": "markdown",
   "metadata": {},
   "source": [
    "Zadání tohoto úkolu prověřuje vaše pochopení látky probírané na cvičení. Jeho cílem je implementace __výpočtu nejkratší vzdálenosti mezi obdélníky__ na zadaném zdrojovém obrázku. Úkol má první __základní část s nápovědami__ a druhou __dobrovolnou část__ s bonusovými rozšířeními. __Maximální počet bodů za základní část je 5__, z bonusové části je možné získat až __2 prémiové__. Podrobnosti o bonusech jsou na konci notebooku. Pokud si s něčím nebudete dlouho vědět rady, napište email a domluvíme konzultaci.\n",
    "\n",
    "\n",
    "Nyní uvažujme pouze základní variantu. Na začátek si je důležité uvědomit, že se __nejedná o vzdálenost mezi středy obdélníků__, nýbrž o nejkratší možné vzdálenosti hran objektů viz. [obrázek](text_imgs/patterns_lengths_example.JPG). Nezoufejte nyní, pokud nevíte jak vzdálenosti vypočítat, nápovědy v notebooku vám pomohou s řešením. Nemusíte se však striktně držet postupu, jakákoliv __individualita je vítaná__. K funkčnímu řešení se dá dobrat různými způsoby.\n",
    "\n",
    "![](text_imgs/patterns_lengths_example.JPG)\n",
    "\n",
    "\n",
    "Možná se ptáte, k čemu je to vlastně dobré. Motivace je ale jednoduchá - jedná se totiž o celkem běžně řešený problém v praxi. Navíc, v knihovně OpenCV pro to __neexistuje nativní implementace__, takže pokud zůstanete v oboru, může se vám to v budoucnu hodit. Představte si nyní, že vytváříte aplikaci, která má za úkol automatizovaně hrát hru ve které je nutné předcházet kolizím objektů ve scéně. Objekty umíte lokalizovat a ohraničit (nejčastěji obdélníkem), a mohou být různě velké a natočené. Jak nyní zjistit, jak jsou od sebe objekty daleko? V případě, že nebudou objekty (tedy ani obdélníky) natočené, lze vzdálenost vypočíst se znalostí středoškolské geometrie. V reálných situacích se tohle ale moc často nestává. Objekty jsou většinou libovolně natočené a tím se řešení trochu komplikuje. Stále si ale vystačíme se znalostí analytické geometrie ze střední školy, jen bude potřeba trochu programování navíc. Mimo kolize ve hře si můžeme představit využití i např. v aplikaci pro sledování pohybujících se objektů nebo monitorování průmyslových procesů (výrobní linka, spojování materiálů, atd.). \n",
    "\n",
    "Abychom si zbytečně nekomplikovali život, budeme řešení implementovat pouze na jednoduchém statickém snímku s několika obdélníky. __Zdrojový snímek základní verze je__ [patterns_photo_basic.jpg](patterns_photo_basic.jpg). Využijeme naší znalost ze cvičení a budou nás __zajímat nejkratší vzdálenosti v centimetrech__, nikoliv v pixelech.\n",
    "![](text_imgs/patterns_thumb.jpg)\n",
    "\n",
    "Předpokladem tohoto úkolu je, že __máte vypracovaný notebook z 3. cvičení__. Budeme totiž znovu potřebovat segmentované kontury všech objektů, a vzhledem k tomu, že už máme nějakou práci hotovou, byla by škoda na ni nenavázat. Využijeme tedy vypracovaný notebook ze cvičení, upravíme pouze barevné intervaly ve funkcích `inRange()` tak, aby dávaly smysl pro nový zdrojový obrázek. \n",
    "\n",
    "Na konec vyplněného notebooku ze cvičení rafinovaně __napojíme všechny buňky tohoto notebooku__. Nejjednoduší způsob jak to navázat je: \n",
    "* Pro jistotu si zálohovat původní notebook (pokud ho nemáte na gitu, fakt to udělejte).\n",
    "* Zkopírovat si potřebné zdrojové obrázky do stejné složky.\n",
    "* Otevřít si tento notebook a notebook ze cvičení v textovém editoru.\n",
    "* Všimněte si poměrně jednoduché struktury souboru ipynb notebooků. Jedná se o klasický formát JSON. Všechny buňky souboru se nachází v `{ \"cells\": [....] }`.\n",
    "* Obsah struktury `\"cells\"` zkopírujeme a vložíme na konec seznamu `\"cells\"` v souboru ze cvičení. Dejte si pozor ať vám sedí čárky a uzavírací závorky \"]\"."
   ]
  },
  {
   "cell_type": "markdown",
   "metadata": {},
   "source": [
    "### Základní část"
   ]
  },
  {
   "cell_type": "code",
   "execution_count": null,
   "metadata": {},
   "outputs": [],
   "source": [
    "import itertools\n",
    "import math\n",
    "import cv2"
   ]
  },
  {
   "cell_type": "markdown",
   "metadata": {},
   "source": [
    "V řešení ze cvičení už máme hotové segmentace referenčního i ostatních objektů uložené formou kontur. \n",
    "Všechny tyto kontury se vyplatí přemístit do jedné struktury, neboť se s ní následně bude lépe pracovat.\n",
    "\n",
    "__1) Přesuňte všechny kontury do jedné struktury (např. list).__"
   ]
  },
  {
   "cell_type": "code",
   "execution_count": null,
   "metadata": {},
   "outputs": [],
   "source": [
    "contours_list = contours\n",
    "contours_list.append(contour_biggest)"
   ]
  },
  {
   "cell_type": "markdown",
   "metadata": {},
   "source": [
    "__2) Pomocí funkce `len()` ověřte, že jich máte správný počet.__"
   ]
  },
  {
   "cell_type": "code",
   "execution_count": null,
   "metadata": {},
   "outputs": [],
   "source": [
    "countours_len = len(contours_list)\n",
    "print(countours_len)"
   ]
  },
  {
   "cell_type": "markdown",
   "metadata": {},
   "source": [
    "__3) Uložte si hodnoty všech možných indexů předchozího listu do nového listu. Může se vám k tomu hodit funkce `range()` + `list()`. Ideálně využijte i předchozí informaci o počtu kontur.__"
   ]
  },
  {
   "cell_type": "code",
   "execution_count": null,
   "metadata": {},
   "outputs": [],
   "source": [
    "indexes = list(range(0, countours_len))\n",
    "\n",
    "for x in indexes:\n",
    "    print(x)"
   ]
  },
  {
   "cell_type": "markdown",
   "metadata": {},
   "source": [
    "__4) Využijte funkci `itertools.combinations()` k získání všech možných dvojic kombinací indexů kontur. Pro jistotu si je vypiště.__"
   ]
  },
  {
   "cell_type": "code",
   "execution_count": null,
   "metadata": {},
   "outputs": [],
   "source": [
    "c_ind_comb = list(itertools.combinations(indexes, 2))\n",
    "print(c_ind_comb)"
   ]
  },
  {
   "cell_type": "markdown",
   "metadata": {},
   "source": [
    "Nyní už to konečně začne být trochu zajímavé. Zbývá __projít všechny možné kombinace kontur, aproximovat je obdélníkem\n",
    "vypočítat vzdálenost mezi všemi obdélníky, a výsledek vhodně vizualizovat v reálných jednotkách__. \n",
    "To je na jednu Jupyter buňku až moc operací, lepší řešení tedy bude tyto kroky rozpadnout do několika funkcí.\n",
    "\n",
    "Způsobů výpočtu nejkratší vzdáleností mezi obdelníky je více. Můžete samozřejmě využít jakékoliv řešení budete chtít (za předpokladu korektnosti výsledků). V tomto postupu budem však uvažovat pouze jedno a to, které se nám zdálo nejjednoduší na pochopení. \n",
    "\n",
    "Pro zjedodnušení celé úlohy __není nutné uvažovat žádné složité speciální případy__ - nejsme Progtest. Nemusíte tedy uvažovat, že se tvary jakkoliv překrývají. Předpokládáme, že vzdálenost je vždy > 0. S tím také souvisí pozdější detaily jako __neřešení případů bodu ležícího na úsečce, úsečky se protínají, atd__.\n",
    "\n",
    "Začneme tedy prvním stavebním kamenem našeho algoritmu, tedy __funkcí, která vypočte vzdálenost bodu od úsečky v pixelech__. Tato funkce je jádrem celého našeho řešení, je tedy nutné si ověřit, že vrací správné hodnoty.\n",
    "\n",
    "Pokud vůbec netušíte, jak byste takovou věc implementovali, hledejte klíčová slova `\"distance between line segment and point\"` a inspirujte se. Nezapomeňte však __uvést zdroj__ + případne okomentování. __Dejte si pozor, že line segment != line__, pracujeme pouze s úsečkami.\n",
    "\n",
    "__5) Doplňte funkci pro výpočet vzdálenosti mezi úsečkou a bodem.__"
   ]
  },
  {
   "cell_type": "code",
   "execution_count": null,
   "metadata": {},
   "outputs": [],
   "source": [
    "def line_to_point_dist(l_pt1, l_pt2, dst_pt):\n",
    "    x_vec = l_pt2[0] - l_pt1[0]\n",
    "    y_vec = l_pt2[1] - l_pt1[1]\n",
    "    ret = abs((y_vec * dst_pt[0] - x_vec*dst_pt[1] + l_pt2[0] * l_pt1[1] - l_pt2[1] * l_pt1[0])) / (math.sqrt(y_vec**2 + x_vec**2))\n",
    "    return ret  \n",
    "\n",
    "def point_to_point_dist(l_pt1, l_pt2):\n",
    "    return math.sqrt((l_pt1[0] - l_pt2[0])**2 + (l_pt1[1] - l_pt2[1])**2)\n",
    "\n",
    "def make_line(pt, dir_vec):\n",
    "    return (pt[0], pt[1]),(pt[0] + dir_vec[0], pt[1] + dir_vec[1])\n",
    "\n",
    "def line_to_point_segment_line(l_pt1, l_pt2, dst_pt):   \n",
    "    line_dir_vec = (l_pt1[0] - l_pt2[0], l_pt1[1] - l_pt2[1])\n",
    "    line_normal_dir_vec = (-line_dir_vec[1], line_dir_vec[0])\n",
    "     #for point2, find parametric equation of normal from the dst_pt, so it's desribed as follows: dst_pt + t*line_normal_dir_vec\n",
    "    #lets find general equation ax+by + c = 0, where a = line_dir_vec[0], b = line_dir_vec[1]  \n",
    "\n",
    "    #find c\n",
    "    c = -(line_dir_vec[0] * dst_pt[0] + line_dir_vec[1] * dst_pt[1])\n",
    "    \n",
    "    #find c1\n",
    "    c1 = -(line_normal_dir_vec[0] * l_pt1[0] + line_normal_dir_vec[1] * l_pt1[1])\n",
    "    #line_dir_vec[0]*x + line_dir_vec[1]*y + c = line_normal_dir_vec[0]*x + line_normal_dir_vec[1]*y + c1\n",
    "    #from the first one -> \n",
    "    #x = -(line_dir_vec[1]*y + c)/line_dir_vec[0]\n",
    "    #find coors of the intersection: \n",
    "    A = np.array([[line_dir_vec[0], line_dir_vec[1]], [line_normal_dir_vec[0], line_normal_dir_vec[1]]])\n",
    "    b = np.array([-c, -c1])\n",
    "    res = np.linalg.solve(A,b)\n",
    "    #returns the intersection point of line going from dst_pt with direction of line's normal vector.\n",
    "    return res"
   ]
  },
  {
   "cell_type": "code",
   "execution_count": null,
   "metadata": {},
   "outputs": [],
   "source": [
    "def line_segment_to_point_dist(l_pt1, l_pt2, dst_pt): \n",
    "    #get normal vectors from line edges\n",
    "    line_dir_vec = (l_pt1[0] - l_pt2[0], l_pt1[1] - l_pt2[1])\n",
    "    #parpendicular vector\n",
    "    line_normal_dir_vec = (-line_dir_vec[1], line_dir_vec[0])\n",
    "    \n",
    "    #first line is described as follows: x = l_pt1[0] + t*line_normal_dir_vec[0], y = l_pt1[1] + t*line_normal_dir_vec[1], \n",
    "    #where t belongs to R\n",
    "    first_line = make_line(l_pt1, line_normal_dir_vec)\n",
    "    first_edge_dist = line_to_point_dist(first_line[0], first_line[1], dst_pt)\n",
    "    \n",
    "    #second line is described as follows: x = l_pt2[0] + t*line_normal_dir_vec[0], y = l_pt2[1] + t*line_normal_dir_vec[1], \n",
    "    #where t belongs to R\n",
    "    second_line = make_line(l_pt2, line_normal_dir_vec)\n",
    "    second_edge_dist = line_to_point_dist(second_line[0], second_line[1], dst_pt)\n",
    "    \n",
    "    line_lenght = point_to_point_dist(l_pt1, l_pt2)\n",
    "    \n",
    "    EPSILON = 0.01\n",
    "    ret = 0\n",
    "    p1 = dst_pt;\n",
    "    \n",
    "    #check if the point lies between them (if the sum of the two distances is == line_segment size)\n",
    "    #if it lies between the edge normals, calculate it as shortest distance from line -> find parpendicular vector....\n",
    "    if abs(line_lenght - (first_edge_dist + second_edge_dist)) < EPSILON:\n",
    "        ret = line_to_point_dist(l_pt1, l_pt2, dst_pt)\n",
    "        retP = line_to_point_segment_line(l_pt1, l_pt2, dst_pt)\n",
    "        p2 = (retP[0], retP[1])\n",
    "    #if it lies outside, then check distances between the two edge points and choose the shorter one\n",
    "    else:           \n",
    "        firstPointDist = math.sqrt((l_pt1[0] - dst_pt[0])**2 + (l_pt1[1] - dst_pt[1])**2)\n",
    "        secondPointDist = math.sqrt((l_pt2[0] - dst_pt[0])**2 + (l_pt2[1] - dst_pt[1])**2)\n",
    "        if firstPointDist < secondPointDist:\n",
    "            p2 = l_pt1\n",
    "            ret = firstPointDist\n",
    "        else:\n",
    "            p2 = l_pt2\n",
    "            ret = secondPointDist\n",
    "            \n",
    "   # ret = point_to_point_dist(p1, p2);  \n",
    "    return ret, p1, p2"
   ]
  },
  {
   "cell_type": "markdown",
   "metadata": {},
   "source": [
    "__6) Otestujte, že funkce vrací správné výsledky a dopište alespoň dva další asserty.__"
   ]
  },
  {
   "cell_type": "code",
   "execution_count": null,
   "metadata": {},
   "outputs": [],
   "source": [
    "test, x, y = line_segment_to_point_dist((1,3), (3,4), (4,4))\n",
    "assert test ==  1\n",
    "test, x, y = line_segment_to_point_dist((5,1), (5,5), (3,3))\n",
    "assert test ==  2\n",
    "test, x, y = line_segment_to_point_dist((5,1), (4,4), (3,2))\n",
    "assert test != 1"
   ]
  },
  {
   "cell_type": "markdown",
   "metadata": {},
   "source": [
    "Nyní potřebujeme další stavební blok, a to nejkratší vzdálenost dvou úseček. K tomu využijeme už hotovou funkci `line_segment_to_point_dist()`. Pokud vás nenapadá jak, zkuste si to nakreslit na papír.\n",
    "Nezapomeňte, že __nemusíme uvažovat speciální případy__ (např. to, že se protínají). S využítím funkce `min()` je to dokonce pouze na jeden řádek kódu.\n",
    "\n",
    "__7) Doplňte funkci pro výpočet vzdálenosti mezi dvěmi úsečkami.__"
   ]
  },
  {
   "cell_type": "code",
   "execution_count": null,
   "metadata": {},
   "outputs": [],
   "source": [
    "def line_segments_dist(l1_pt1, l1_pt2, l2_pt1, l2_pt2):\n",
    "    ret,rp1,rp2 = line_segment_to_point_dist(l1_pt1, l1_pt2, l2_pt1)    \n",
    "    second,s1,s2 = line_segment_to_point_dist(l1_pt1, l1_pt2, l2_pt2)\n",
    "    if second < ret:\n",
    "        ret = second\n",
    "        rp1 = s1\n",
    "        rp2 = s2                    \n",
    "    third,t1,t2 = line_segment_to_point_dist(l2_pt1, l2_pt2, l1_pt1)\n",
    "    if third < ret:\n",
    "        ret = third\n",
    "        rp1 = t1\n",
    "        rp2 = t2  \n",
    "    fourth,f1,f2 = line_segment_to_point_dist(l2_pt1, l2_pt2, l1_pt2)    \n",
    "    if fourth < ret:\n",
    "        ret = fourth\n",
    "        rp1 = f1\n",
    "        rp2 = f2  \n",
    "    return ret, rp1, rp2     "
   ]
  },
  {
   "cell_type": "markdown",
   "metadata": {},
   "source": [
    "__8) Otestujte, že funkce vrací správné výsledky a dopište alespoň dva další asserty.__"
   ]
  },
  {
   "cell_type": "code",
   "execution_count": null,
   "metadata": {},
   "outputs": [],
   "source": [
    "test,_,_ = line_segments_dist((1,5),(6,5), (7,7), (7,5))\n",
    "assert test == 1\n",
    "test,_,_ = line_segments_dist((1,3), (3,4), (5,7), (5,1))\n",
    "assert test ==  2\n",
    "test,p1,p2 = line_segments_dist((5,1), (4,4), (3,2), (2,3))\n",
    "assert test !=  1"
   ]
  },
  {
   "cell_type": "markdown",
   "metadata": {},
   "source": [
    "Když už umíme vypočítat nejkratší vzdálenost dvou úseček, máme vše potřebné pro výpočet nejkratší vzdálenosti mezi dvěma obdélníky. Stačí si jen uvědomit, že obdélník je složen ze čtyř spojených úseček. \n",
    "\n",
    "Typ vstupních parametrů funkce `rect_dist` je na vás. Nezapomeňte však, že `cv2.minAreaRect()` nevrací přímo souřadnice rohových bodů. Připomeňte si `cv2.boxPoints()` a `order_points()`.\n",
    "\n",
    "__9) Doplňte funkci pro výpočet vzdálenosti mezi dvěma obdélníky.__"
   ]
  },
  {
   "cell_type": "code",
   "execution_count": null,
   "metadata": {},
   "outputs": [],
   "source": [
    "def rect_dist(r1_pts, r2_pts):    \n",
    "    r1_ls = ((r1_pts[0], r1_pts[1]), (r1_pts[1], r1_pts[2]), (r1_pts[2], r1_pts[3]), (r1_pts[3], r1_pts[0]))\n",
    "    r2_ls = ((r2_pts[0], r2_pts[1]), (r2_pts[1], r2_pts[2]), (r2_pts[2], r2_pts[3]), (r2_pts[3], r2_pts[0]))\n",
    "    min = 99999999.0\n",
    "    for l1 in r1_ls:\n",
    "        for l2 in r2_ls:\n",
    "            tmp, p1, p2 = line_segments_dist(l1[0], l1[1], l2[0], l2[1])\n",
    "            if tmp < min:\n",
    "                min = tmp\n",
    "                r1p = p1\n",
    "                r2p = p2\n",
    "    return min,r1p,r2p"
   ]
  },
  {
   "cell_type": "markdown",
   "metadata": {},
   "source": [
    "__10) Otestujte, že funkce vrací správné výsledky a dopište alespoň dva další asserty.__"
   ]
  },
  {
   "cell_type": "code",
   "execution_count": null,
   "metadata": {},
   "outputs": [],
   "source": [
    "test,_,_ = rect_dist(((1,5), (6,5), (6,3), (1,3)), ((7,7), (9,7), (9, 5), (7, 5)))\n",
    "assert test == 1\n",
    "test,_,_ = rect_dist(((1,5), (6,5), (6,3), (1,3)), ((4,10), (6, 8), (4, 6), (2,8)))\n",
    "assert test == 1\n",
    "test,_,_ = rect_dist(((1,2), (2,1), (3,3), (2,4)), ((4,1), (5, 1), (5, 5), (4,5)))\n",
    "assert test == 1\n",
    "test, g, p = rect_dist(((3188.267, 2047.937), (2643.410, 1978.636), (2884.945, 79.669), (3429.802, 148.970)), ((1291.123, 1072.505), (1252.919, 801.222), (2194.386, 668.637), (2232.590, 939.919)))\n",
    "assert test*real_image_ratio > 3.9 and test*real_image_ratio < 4"
   ]
  },
  {
   "cell_type": "markdown",
   "metadata": {},
   "source": [
    "Blížíme se do finále. Úplně v první buňce tohoto úkolu bychom měli mít vytvořený list se všemi konturami a list všech dvojic kombinací indexů kontur. Kontury vhodně převeďte tak, aby je bylo možné předat do definované funkce `rect_dist()` a tím získat vzdálenost mezi dvěma obdélníky v pixelech. Následně přepočítejte pixely na skutečné jednotky a vypiště nalezené vzdálenosti ve vhodném a kontrolovatelném formátu (např.: 1 <-> 3: 2.2 cm). \n",
    "\n",
    "__11) Vypočítejte vzdálenosti mezi všemi obdélníky ve snímku, vypiště vzdálenosti ve vhodném formátu v centimetrech.__"
   ]
  },
  {
   "cell_type": "code",
   "execution_count": null,
   "metadata": {},
   "outputs": [],
   "source": [
    "sizes_drawn_cp = img_patterns.copy()\n",
    "for comb in c_ind_comb:\n",
    "    r1 = cv2.minAreaRect(contours[comb[0]])\n",
    "    r2 = cv2.minAreaRect(contours[comb[1]])\n",
    "    a = cv2.boxPoints(r1)\n",
    "    b = cv2.boxPoints(r2)\n",
    "\n",
    "    dist, p1, p2 = rect_dist(a, b)\n",
    "    p1 = (int(round(p1[0])), int(round(p1[1])))\n",
    "    p2 = (int(round(p2[0])), int(round(p2[1])))\n",
    "\n",
    "    real_dist = dist * real_image_ratio\n",
    "    \n",
    "    #print(f'{comb[0]} <--> {comb[1]} : {round(real_dist, 2)} cm')   \n",
    "    \n",
    "    cv2.line(sizes_drawn_cp, p1,p2,(200, 20, 20), 3)\n",
    "    drawPoint = midpoint(p1,p2)\n",
    "    drawPointRes = (int(round(drawPoint[0])),int(round(drawPoint[1])))\n",
    "    sizes_drawn_cp = draw_rotated_text(sizes_drawn_cp, real_dist, drawPointRes, 45, 1.5, (0,255,0), 2)\n",
    "show_images(sizes_drawn_cp)"
   ]
  },
  {
   "cell_type": "markdown",
   "metadata": {},
   "source": [
    "### Bonusová část\n",
    "\n",
    "Pokud to pro vás byla doposuď zívačka, a chtěli byste nějaké body navíc, je možné získat až 2 prémiové body za trochu dalšího přemýšlení a programování. Za každý splněný úkol ze seznamu je __1 prémiový bod__. Maximálně je možné získat __až 2 prémiové__.\n",
    "\n",
    "#### Úkoly:\n",
    "1) Vytvořte vhodnou vizualizaci vzdáleností mezi objekty. Např. vykreslení nejkratší úsečky mezi obdélníky a vypsání její délky v centimetrech.\n",
    "\n",
    "2) Upravte váš algoritmus tak, aby korektně fungoval i pro obrázek `patterns_photo_bonus.jpg`. Tedy podpora výpočtu nejkratší vzdálenosti mezi kombinací tvarů obdélník a kružnice. Jiné elipsové tvary pro jednoduchost neuvažujte. Může se vám na to hodit `cv2.fitEllipse()`.\n",
    "\n",
    "3) Zkuste navrhnout jiné řešení než to využívající vzdálenost bodů od úsečky. Nemusí být 100% funkční ve všech případech, ale jasně vyspecifikujte jeho úskalí a případy kdy nebude fungovat."
   ]
  },
  {
   "cell_type": "code",
   "execution_count": null,
   "metadata": {},
   "outputs": [],
   "source": []
  }
 ],
 "metadata": {
  "kernelspec": {
   "display_name": "Python 3",
   "language": "python",
   "name": "python3"
  },
  "language_info": {
   "codemirror_mode": {
    "name": "ipython",
    "version": 3
   },
   "file_extension": ".py",
   "mimetype": "text/x-python",
   "name": "python",
   "nbconvert_exporter": "python",
   "pygments_lexer": "ipython3",
   "version": "3.7.4"
  }
 },
 "nbformat": 4,
 "nbformat_minor": 2
}
